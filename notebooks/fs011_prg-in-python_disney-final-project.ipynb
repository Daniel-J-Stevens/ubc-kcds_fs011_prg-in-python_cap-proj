{
 "cells": [
  {
   "cell_type": "markdown",
   "metadata": {},
   "source": [
    "<div style=\"text-align: right\"><b>Daniel Stevens</b><br><i>Socorro Esther Dominguez Vidana<i/><br><i>Programming in Python for Data Science - Aug 2021</i><br><i>25 Oct 2021</i></div>\n",
    "\n",
    "# **Top Performing Movie Genre Director: A Disney Dataset Exploratory Analysis**\n",
    "\n"
   ]
  },
  {
   "cell_type": "markdown",
   "metadata": {},
   "source": [
    "## **Introduction**\n",
    "\n",
    "<i>\"The Walt Disney Company, commonly just Disney (/ˈdɪzni/), is an American multinational entertainment and media conglomerate headquartered at the Walt Disney Studios complex in Burbank, California...</i>\n",
    "\n",
    "<i>The company established itself as a leader in the American animation industry before diversifying into live-action film production, television, and theme parks.\"</i> ([Wikipedia contributors](http://en.wikipedia.org/wiki/The_Walt_Disney_Company)).\n",
    "\n",
    "In July of 2021, BBC News reported that female actor Scarlett Johansson was suing The Walt Disney Company for breach of contract over the simultaneous release of her latest film *Black Widow* in both theaters and on Disney's streaming service, Disney+. Johansson claimed that her contract stipulated an exclusively theatrical release and that she was damaged through loss of earnings due to breach of this term as her salary was largely based on box office performance (BBC News, [“Scarlett Johansson Sues Disney over Streaming of Black Widow”](http://www.bbc.com/news/business-58757748)). Disney first refuted her claims, but the suit was eventually settled in October of 2021, the terms of which were undisclosed (BBC News, [“Black Widow: Disney and Scarlett Johansson Settle Lawsuit”](http://www.bbc.com/news/world-us-canada-58017445)).\n",
    "\n",
    "This lawsuit highlights the potential earning power actors have when contracts are properly negotiated, and the lengths that large movie studios will go to in order to hold on to earnings. By understanding the potential box office performance of a film and contracts that have been agreed upon in the past with other actors on similar projects, actors that are in high demand to star in these films and can negotiate more advantageous contract terms with high-powered movies studios to maximize their personal earnings.\n",
    "\n",
    "The dataset we will be examining is the Disney dataset, compiled by Kelly Garrett and Lichen Zhen (2017). The data can be found on the [data.world](http://data.world/kgarrett/disney-character-success-00-16) website.\n",
    "\n",
    "**Through examination of the Disney dataset, we hope to answer the following questions:**\n",
    "- *What is the best performing movie genre as measured by average inflation-adjusted gross revenue?*\n",
    "- *Who is the director who has directed multiple movies within the genre and performed the best based on average inflation-adjusted gross revenue?*\n",
    "- *What actors has this director worked with in the past within the genre, and what kinds of characters did they play?*\n",
    "\n",
    "Answers to these questions could help actors determine what genre it is best to break into and who is the best director to work with within that genre, when making money is the goal. Knowing who has starred in these types of films would allow an actor to know who their competition is, or be able to consult with these actors and their representatives regarding past contract terms to ensure that the best deal is being made.\n",
    "\n",
    "Our hypothesis is that the `Musical` genre will have the highest average inflation-adjusted gross revenue as this is the genre that The Walt Disney Company rose to popularity with.\n",
    "\n",
    "**The Disney dataset consists of 5 tables stored as .csv files:**\n",
    "- `disney_movies_total_gross.csv` - lists the total gross revenue and total inflation adjusted revenue for movie titles in USD, along with their release date, rating and genre.\n",
    "- `disney_revenue_1991-2016.csv` - lists the total gross revenue of various divisions of The Walt Disney company by year in millions USD.\n",
    "- `disney-characters.csv` - lists disney characters, the movie they appear in, their character type (hero or villain), the song associated with the movie and the movie release date.\n",
    "- `disney-director.csv` - lists movies and their associated directors (limited to a single director per movie, even when there was more than one)   \n",
    "- `disney-voice-actors.csv` - lists disney movie characters, their voice actor/s and the movie they appear in.\n",
    "\n",
    "\n",
    "For this analysis, we require all data sets except for `disney_revenue_1991-2016.csv`.\n"
   ]
  },
  {
   "cell_type": "markdown",
   "metadata": {
    "tags": []
   },
   "source": [
    "<hr>"
   ]
  },
  {
   "cell_type": "markdown",
   "metadata": {},
   "source": [
    "## **Methods & Results**"
   ]
  },
  {
   "cell_type": "markdown",
   "metadata": {},
   "source": [
    "First we will import the libraries and functions necessary for our analysis."
   ]
  },
  {
   "cell_type": "code",
   "execution_count": 1,
   "metadata": {},
   "outputs": [],
   "source": [
    "import pandas as pd\n",
    "import altair as alt\n",
    "from currency_cleaner import currency_cleaner\n",
    "from split_melt import split_melt"
   ]
  },
  {
   "cell_type": "markdown",
   "metadata": {},
   "source": [
    "Next, we will read in the required csv files, creating a dataframe for each."
   ]
  },
  {
   "cell_type": "code",
   "execution_count": 2,
   "metadata": {},
   "outputs": [],
   "source": [
    "disney_movies_total_gross = pd.read_csv('../data/disney_movies_total_gross.csv')\n",
    "disney_director = pd.read_csv('../data/disney-director.csv')\n",
    "disney_voice_actors = pd.read_csv('../data/disney-voice-actors.csv')\n",
    "disney_characters = pd.read_csv('../data/disney-characters.csv')"
   ]
  },
  {
   "cell_type": "markdown",
   "metadata": {},
   "source": [
    "### **Data Overview**\n",
    "Now that our data has been read in, we will look at each dataframe, familiarize ourselves and summarize their characteristics."
   ]
  },
  {
   "cell_type": "markdown",
   "metadata": {},
   "source": [
    "#### **`disney_movies_total_gross`**"
   ]
  },
  {
   "cell_type": "code",
   "execution_count": 3,
   "metadata": {},
   "outputs": [
    {
     "data": {
      "text/html": [
       "<div>\n",
       "<style scoped>\n",
       "    .dataframe tbody tr th:only-of-type {\n",
       "        vertical-align: middle;\n",
       "    }\n",
       "\n",
       "    .dataframe tbody tr th {\n",
       "        vertical-align: top;\n",
       "    }\n",
       "\n",
       "    .dataframe thead th {\n",
       "        text-align: right;\n",
       "    }\n",
       "</style>\n",
       "<table border=\"1\" class=\"dataframe\">\n",
       "  <thead>\n",
       "    <tr style=\"text-align: right;\">\n",
       "      <th></th>\n",
       "      <th>movie_title</th>\n",
       "      <th>release_date</th>\n",
       "      <th>genre</th>\n",
       "      <th>MPAA_rating</th>\n",
       "      <th>total_gross</th>\n",
       "      <th>inflation_adjusted_gross</th>\n",
       "    </tr>\n",
       "  </thead>\n",
       "  <tbody>\n",
       "    <tr>\n",
       "      <th>0</th>\n",
       "      <td>Snow White and the Seven Dwarfs</td>\n",
       "      <td>Dec 21, 1937</td>\n",
       "      <td>Musical</td>\n",
       "      <td>G</td>\n",
       "      <td>$184,925,485</td>\n",
       "      <td>$5,228,953,251</td>\n",
       "    </tr>\n",
       "    <tr>\n",
       "      <th>1</th>\n",
       "      <td>Pinocchio</td>\n",
       "      <td>Feb 9, 1940</td>\n",
       "      <td>Adventure</td>\n",
       "      <td>G</td>\n",
       "      <td>$84,300,000</td>\n",
       "      <td>$2,188,229,052</td>\n",
       "    </tr>\n",
       "  </tbody>\n",
       "</table>\n",
       "</div>"
      ],
      "text/plain": [
       "                       movie_title  release_date      genre MPAA_rating  \\\n",
       "0  Snow White and the Seven Dwarfs  Dec 21, 1937    Musical           G   \n",
       "1                        Pinocchio   Feb 9, 1940  Adventure           G   \n",
       "\n",
       "    total_gross inflation_adjusted_gross  \n",
       "0  $184,925,485           $5,228,953,251  \n",
       "1   $84,300,000           $2,188,229,052  "
      ]
     },
     "execution_count": 3,
     "metadata": {},
     "output_type": "execute_result"
    }
   ],
   "source": [
    "disney_movies_total_gross.head(2)"
   ]
  },
  {
   "cell_type": "code",
   "execution_count": 4,
   "metadata": {},
   "outputs": [
    {
     "data": {
      "text/plain": [
       "(579, 6)"
      ]
     },
     "execution_count": 4,
     "metadata": {},
     "output_type": "execute_result"
    }
   ],
   "source": [
    "disney_movies_total_gross.shape"
   ]
  },
  {
   "cell_type": "code",
   "execution_count": 5,
   "metadata": {},
   "outputs": [
    {
     "name": "stdout",
     "output_type": "stream",
     "text": [
      "<class 'pandas.core.frame.DataFrame'>\n",
      "RangeIndex: 579 entries, 0 to 578\n",
      "Data columns (total 6 columns):\n",
      " #   Column                    Non-Null Count  Dtype \n",
      "---  ------                    --------------  ----- \n",
      " 0   movie_title               579 non-null    object\n",
      " 1   release_date              579 non-null    object\n",
      " 2   genre                     562 non-null    object\n",
      " 3   MPAA_rating               523 non-null    object\n",
      " 4   total_gross               579 non-null    object\n",
      " 5   inflation_adjusted_gross  579 non-null    object\n",
      "dtypes: object(6)\n",
      "memory usage: 27.3+ KB\n"
     ]
    }
   ],
   "source": [
    "disney_movies_total_gross.info()"
   ]
  },
  {
   "cell_type": "markdown",
   "metadata": {},
   "source": [
    "The `disney_movies_total_gross` dataframe consists of 579 rows with 6 columns, all of dtype `object`. The columns consist of two nominal variables (`movie_title` and `genre`), one temporal variable (`release_date`), one ordinal variable (`MPAA_rating`) and two quantitative variables (`total_gross` and `inflation-adjusted gross`, representing the movie's total gross revenue and inflation-adjusted gross revenue respectively, in USD). Both the genre and the MPAA_rating have missing values."
   ]
  },
  {
   "cell_type": "code",
   "execution_count": 6,
   "metadata": {},
   "outputs": [
    {
     "data": {
      "text/plain": [
       "movie_title                  0\n",
       "release_date                 0\n",
       "genre                       17\n",
       "MPAA_rating                 56\n",
       "total_gross                  0\n",
       "inflation_adjusted_gross     0\n",
       "dtype: int64"
      ]
     },
     "execution_count": 6,
     "metadata": {},
     "output_type": "execute_result"
    }
   ],
   "source": [
    "disney_movies_total_gross.isna().sum()"
   ]
  },
  {
   "cell_type": "markdown",
   "metadata": {},
   "source": [
    "There are 17 observations missing a value for `genre`, and 56 observations missing a value for `MPAA_rating`."
   ]
  },
  {
   "cell_type": "markdown",
   "metadata": {},
   "source": [
    "#### **`disney_director`**"
   ]
  },
  {
   "cell_type": "code",
   "execution_count": 7,
   "metadata": {},
   "outputs": [
    {
     "data": {
      "text/html": [
       "<div>\n",
       "<style scoped>\n",
       "    .dataframe tbody tr th:only-of-type {\n",
       "        vertical-align: middle;\n",
       "    }\n",
       "\n",
       "    .dataframe tbody tr th {\n",
       "        vertical-align: top;\n",
       "    }\n",
       "\n",
       "    .dataframe thead th {\n",
       "        text-align: right;\n",
       "    }\n",
       "</style>\n",
       "<table border=\"1\" class=\"dataframe\">\n",
       "  <thead>\n",
       "    <tr style=\"text-align: right;\">\n",
       "      <th></th>\n",
       "      <th>name</th>\n",
       "      <th>director</th>\n",
       "    </tr>\n",
       "  </thead>\n",
       "  <tbody>\n",
       "    <tr>\n",
       "      <th>0</th>\n",
       "      <td>Snow White and the Seven Dwarfs</td>\n",
       "      <td>David Hand</td>\n",
       "    </tr>\n",
       "    <tr>\n",
       "      <th>1</th>\n",
       "      <td>Pinocchio</td>\n",
       "      <td>Ben Sharpsteen</td>\n",
       "    </tr>\n",
       "  </tbody>\n",
       "</table>\n",
       "</div>"
      ],
      "text/plain": [
       "                              name        director\n",
       "0  Snow White and the Seven Dwarfs      David Hand\n",
       "1                        Pinocchio  Ben Sharpsteen"
      ]
     },
     "execution_count": 7,
     "metadata": {},
     "output_type": "execute_result"
    }
   ],
   "source": [
    "disney_director.head(2)"
   ]
  },
  {
   "cell_type": "code",
   "execution_count": 8,
   "metadata": {},
   "outputs": [
    {
     "data": {
      "text/plain": [
       "(56, 2)"
      ]
     },
     "execution_count": 8,
     "metadata": {},
     "output_type": "execute_result"
    }
   ],
   "source": [
    "disney_director.shape"
   ]
  },
  {
   "cell_type": "code",
   "execution_count": 9,
   "metadata": {},
   "outputs": [
    {
     "name": "stdout",
     "output_type": "stream",
     "text": [
      "<class 'pandas.core.frame.DataFrame'>\n",
      "RangeIndex: 56 entries, 0 to 55\n",
      "Data columns (total 2 columns):\n",
      " #   Column    Non-Null Count  Dtype \n",
      "---  ------    --------------  ----- \n",
      " 0   name      56 non-null     object\n",
      " 1   director  56 non-null     object\n",
      "dtypes: object(2)\n",
      "memory usage: 1.0+ KB\n"
     ]
    }
   ],
   "source": [
    "disney_director.info()"
   ]
  },
  {
   "cell_type": "markdown",
   "metadata": {},
   "source": [
    "The `disney_director` dataframe consists of 56 rows and 2 columns of the dtype `object`. The two columns each represent a single nominal variable, the `name` column containing a movie title, and the `director` column containing the name of one of the movie's directors. There are no missing values."
   ]
  },
  {
   "cell_type": "markdown",
   "metadata": {},
   "source": [
    "#### **`disney_voice_actors`**"
   ]
  },
  {
   "cell_type": "code",
   "execution_count": 10,
   "metadata": {},
   "outputs": [
    {
     "data": {
      "text/html": [
       "<div>\n",
       "<style scoped>\n",
       "    .dataframe tbody tr th:only-of-type {\n",
       "        vertical-align: middle;\n",
       "    }\n",
       "\n",
       "    .dataframe tbody tr th {\n",
       "        vertical-align: top;\n",
       "    }\n",
       "\n",
       "    .dataframe thead th {\n",
       "        text-align: right;\n",
       "    }\n",
       "</style>\n",
       "<table border=\"1\" class=\"dataframe\">\n",
       "  <thead>\n",
       "    <tr style=\"text-align: right;\">\n",
       "      <th></th>\n",
       "      <th>character</th>\n",
       "      <th>voice-actor</th>\n",
       "      <th>movie</th>\n",
       "    </tr>\n",
       "  </thead>\n",
       "  <tbody>\n",
       "    <tr>\n",
       "      <th>0</th>\n",
       "      <td>Abby Mallard</td>\n",
       "      <td>Joan Cusack</td>\n",
       "      <td>Chicken Little</td>\n",
       "    </tr>\n",
       "    <tr>\n",
       "      <th>1</th>\n",
       "      <td>Abigail Gabble</td>\n",
       "      <td>Monica Evans</td>\n",
       "      <td>The Aristocats</td>\n",
       "    </tr>\n",
       "  </tbody>\n",
       "</table>\n",
       "</div>"
      ],
      "text/plain": [
       "        character   voice-actor           movie\n",
       "0    Abby Mallard   Joan Cusack  Chicken Little\n",
       "1  Abigail Gabble  Monica Evans  The Aristocats"
      ]
     },
     "execution_count": 10,
     "metadata": {},
     "output_type": "execute_result"
    }
   ],
   "source": [
    "disney_voice_actors.head(2)"
   ]
  },
  {
   "cell_type": "code",
   "execution_count": 11,
   "metadata": {},
   "outputs": [
    {
     "data": {
      "text/plain": [
       "(935, 3)"
      ]
     },
     "execution_count": 11,
     "metadata": {},
     "output_type": "execute_result"
    }
   ],
   "source": [
    "disney_voice_actors.shape"
   ]
  },
  {
   "cell_type": "code",
   "execution_count": 12,
   "metadata": {},
   "outputs": [
    {
     "name": "stdout",
     "output_type": "stream",
     "text": [
      "<class 'pandas.core.frame.DataFrame'>\n",
      "RangeIndex: 935 entries, 0 to 934\n",
      "Data columns (total 3 columns):\n",
      " #   Column       Non-Null Count  Dtype \n",
      "---  ------       --------------  ----- \n",
      " 0   character    935 non-null    object\n",
      " 1   voice-actor  935 non-null    object\n",
      " 2   movie        935 non-null    object\n",
      "dtypes: object(3)\n",
      "memory usage: 22.0+ KB\n"
     ]
    }
   ],
   "source": [
    "disney_voice_actors.info()"
   ]
  },
  {
   "cell_type": "markdown",
   "metadata": {},
   "source": [
    "The `disney_voice_actors` dataframe consists of 935 rows and 3 columns of dtype `object`. The three columns each represent a single nominal variable, the `movie` column containing a movie title, the `voice-actor` column containing the name of a voice actor in the movie, and the `character` column containing the name of the character the actor played in the movie. There are no missing values."
   ]
  },
  {
   "cell_type": "markdown",
   "metadata": {},
   "source": [
    "#### **`disney_characters`**"
   ]
  },
  {
   "cell_type": "code",
   "execution_count": 13,
   "metadata": {},
   "outputs": [
    {
     "data": {
      "text/html": [
       "<div>\n",
       "<style scoped>\n",
       "    .dataframe tbody tr th:only-of-type {\n",
       "        vertical-align: middle;\n",
       "    }\n",
       "\n",
       "    .dataframe tbody tr th {\n",
       "        vertical-align: top;\n",
       "    }\n",
       "\n",
       "    .dataframe thead th {\n",
       "        text-align: right;\n",
       "    }\n",
       "</style>\n",
       "<table border=\"1\" class=\"dataframe\">\n",
       "  <thead>\n",
       "    <tr style=\"text-align: right;\">\n",
       "      <th></th>\n",
       "      <th>movie_title</th>\n",
       "      <th>release_date</th>\n",
       "      <th>hero</th>\n",
       "      <th>villian</th>\n",
       "      <th>song</th>\n",
       "    </tr>\n",
       "  </thead>\n",
       "  <tbody>\n",
       "    <tr>\n",
       "      <th>0</th>\n",
       "      <td>\\nSnow White and the Seven Dwarfs</td>\n",
       "      <td>December 21, 1937</td>\n",
       "      <td>Snow White</td>\n",
       "      <td>Evil Queen</td>\n",
       "      <td>Some Day My Prince Will Come</td>\n",
       "    </tr>\n",
       "    <tr>\n",
       "      <th>1</th>\n",
       "      <td>\\nPinocchio</td>\n",
       "      <td>February 7, 1940</td>\n",
       "      <td>Pinocchio</td>\n",
       "      <td>Stromboli</td>\n",
       "      <td>When You Wish upon a Star</td>\n",
       "    </tr>\n",
       "  </tbody>\n",
       "</table>\n",
       "</div>"
      ],
      "text/plain": [
       "                         movie_title       release_date        hero  \\\n",
       "0  \\nSnow White and the Seven Dwarfs  December 21, 1937  Snow White   \n",
       "1                        \\nPinocchio   February 7, 1940   Pinocchio   \n",
       "\n",
       "      villian                          song  \n",
       "0  Evil Queen  Some Day My Prince Will Come  \n",
       "1   Stromboli     When You Wish upon a Star  "
      ]
     },
     "execution_count": 13,
     "metadata": {},
     "output_type": "execute_result"
    }
   ],
   "source": [
    "disney_characters.head(2)"
   ]
  },
  {
   "cell_type": "code",
   "execution_count": 14,
   "metadata": {},
   "outputs": [
    {
     "data": {
      "text/plain": [
       "(56, 5)"
      ]
     },
     "execution_count": 14,
     "metadata": {},
     "output_type": "execute_result"
    }
   ],
   "source": [
    "disney_characters.shape"
   ]
  },
  {
   "cell_type": "code",
   "execution_count": 15,
   "metadata": {},
   "outputs": [
    {
     "name": "stdout",
     "output_type": "stream",
     "text": [
      "<class 'pandas.core.frame.DataFrame'>\n",
      "RangeIndex: 56 entries, 0 to 55\n",
      "Data columns (total 5 columns):\n",
      " #   Column        Non-Null Count  Dtype \n",
      "---  ------        --------------  ----- \n",
      " 0   movie_title   56 non-null     object\n",
      " 1   release_date  56 non-null     object\n",
      " 2   hero          52 non-null     object\n",
      " 3   villian       46 non-null     object\n",
      " 4   song          47 non-null     object\n",
      "dtypes: object(5)\n",
      "memory usage: 2.3+ KB\n"
     ]
    }
   ],
   "source": [
    "disney_characters.info()"
   ]
  },
  {
   "cell_type": "markdown",
   "metadata": {},
   "source": [
    "The `disney_characters` dataframe contains 56 rows and 5 columns all of dtype `object`. There are 2 'untidy' columns, `hero` and `villian` which represent a single nominal variable of character type, and contained between these two columns is a single nominal variable which is the character name. There are 2 additional nominal variable columns, `movie_title` which contains the title of the movie, and `song` which contains the name of a song from the movie. The final column, `release_date` contains a temporal variable, which represents the date that the movie was released. The variables `hero`, `villain` and `song` all have missing values."
   ]
  },
  {
   "cell_type": "code",
   "execution_count": 16,
   "metadata": {},
   "outputs": [
    {
     "data": {
      "text/plain": [
       "movie_title      0\n",
       "release_date     0\n",
       "hero             4\n",
       "villian         10\n",
       "song             9\n",
       "dtype: int64"
      ]
     },
     "execution_count": 16,
     "metadata": {},
     "output_type": "execute_result"
    }
   ],
   "source": [
    "disney_characters.isna().sum()"
   ]
  },
  {
   "cell_type": "markdown",
   "metadata": {},
   "source": [
    "There are 4 missing values in the `hero` column, 10 in the `villian` column, and 9 in the `song` column.\n",
    "<hr>"
   ]
  },
  {
   "cell_type": "markdown",
   "metadata": {},
   "source": [
    "## **Cleanliness and Tidiness of Data**"
   ]
  },
  {
   "cell_type": "markdown",
   "metadata": {},
   "source": [
    "Now that we have a sense of the overall shape and content of our data, let's check how clean and tidy it is."
   ]
  },
  {
   "cell_type": "markdown",
   "metadata": {},
   "source": [
    "#### **Check for Duplicate Observations**\n",
    "Let's check our `disney_movies_total_gross` data set to make sure all observations are unique. The `movie_title` and `release_date` columns uniquely identify each observation, so we can use this subset of variables to check for duplicates."
   ]
  },
  {
   "cell_type": "code",
   "execution_count": 17,
   "metadata": {},
   "outputs": [
    {
     "data": {
      "text/plain": [
       "Series([], dtype: bool)"
      ]
     },
     "execution_count": 17,
     "metadata": {},
     "output_type": "execute_result"
    }
   ],
   "source": [
    "gross_duplicate_check = disney_movies_total_gross.duplicated(subset = [\"movie_title\",\"release_date\"], keep = \"first\")\n",
    "gross_duplicates = gross_duplicate_check[gross_duplicate_check == True]\n",
    "gross_duplicates"
   ]
  },
  {
   "cell_type": "markdown",
   "metadata": {},
   "source": [
    "An empty series was returned, so we can reasonably conclude that there are no duplicate observations."
   ]
  },
  {
   "cell_type": "markdown",
   "metadata": {},
   "source": [
    "The same general method was applied `disney_director`, `disney_voice_actors` and `disney_characters`, and no duplicate observations were found."
   ]
  },
  {
   "cell_type": "markdown",
   "metadata": {},
   "source": [
    "#### **Check Tidiness of Data**"
   ]
  },
  {
   "cell_type": "markdown",
   "metadata": {},
   "source": [
    "`disney_movies_total_gross` and `disney_director` are tidy datasets, while `disney_characters` and `disney_voice_actors` are not.\n",
    "\n",
    "**`disney_characters` violates 2 of the tidy data conditions:**\n",
    "- The `hero` and `villian` columns are not variables, they are observational values of a variable we will call `character_type`. Since the `character_type` variable is split between the `hero` and `villian` columns, this violates the tidy data condition that each variable must be a single column.\n",
    "- The `hero` and `villian` columns also contain single cells with multiple values. For example the `hero` column contains the entry 'Lilo and Stitch' which is not a single value, but two values.\n",
    "\n",
    "We will melt the `hero` and `villian` columns into the variable column `character_type` and the values of the columns will be populated to a column called `character_name`.\n",
    "\n",
    "**`disney_voice_actors` violates 1 of the tidy data conditions in two of its columns:**\n",
    "- The `character` column contains cells with more than one value\n",
    "- The `voice-actor` column contains cells with more than one value\n",
    "\n",
    "We will have to split these values carefully, as the all values in some cells can be attributed to a single character or actor (e.g. actor plays multiple characters in the movie), while in other cells, only a single value can be attributed to a single actor or character (e.g. two actor names and two character names are provided, and their positions within their respective cells correspond to which values between the two cells belong together.)"
   ]
  },
  {
   "cell_type": "markdown",
   "metadata": {},
   "source": [
    "#### **Check Cleanliness of Categorical Variables**\n",
    "The categorical variables contained in this data set will be used for grouping. It is important that the values for this variables are consistent with each other so that appropriate observations can be grouped. Let's check the cleanliness of our categorical variables."
   ]
  },
  {
   "cell_type": "code",
   "execution_count": 18,
   "metadata": {},
   "outputs": [
    {
     "name": "stdout",
     "output_type": "stream",
     "text": [
      "12\n"
     ]
    },
    {
     "data": {
      "text/plain": [
       "array(['Musical', 'Adventure', 'Drama', 'Comedy', nan, 'Action', 'Horror',\n",
       "       'Romantic Comedy', 'Thriller/Suspense', 'Western', 'Black Comedy',\n",
       "       'Documentary', 'Concert/Performance'], dtype=object)"
      ]
     },
     "execution_count": 18,
     "metadata": {},
     "output_type": "execute_result"
    }
   ],
   "source": [
    "print(disney_movies_total_gross.loc[:, 'genre'].nunique())\n",
    "disney_movies_total_gross.loc[:, 'genre'].unique()"
   ]
  },
  {
   "cell_type": "markdown",
   "metadata": {},
   "source": [
    "There are **12 unique movie genres** : Musical, Adventure, Drama, Comedy, Action, Horror, Romantic Comedy, Thriller/Suspense, Western, Black Comedy, Documentary and Concert/Performance. There are also NaN values, as noted earlier."
   ]
  },
  {
   "cell_type": "code",
   "execution_count": 19,
   "metadata": {},
   "outputs": [
    {
     "name": "stdout",
     "output_type": "stream",
     "text": [
      "5\n"
     ]
    },
    {
     "data": {
      "text/plain": [
       "array(['G', nan, 'Not Rated', 'PG', 'R', 'PG-13'], dtype=object)"
      ]
     },
     "execution_count": 19,
     "metadata": {},
     "output_type": "execute_result"
    }
   ],
   "source": [
    "print(disney_movies_total_gross.loc[:, 'MPAA_rating'].nunique())\n",
    "disney_movies_total_gross.loc[:, 'MPAA_rating'].unique()"
   ]
  },
  {
   "cell_type": "markdown",
   "metadata": {},
   "source": [
    "There are **5 unique ratings**: G, Not Rated, PG, R and PG-13. There are also NaN values, as noted earlier."
   ]
  },
  {
   "cell_type": "markdown",
   "metadata": {},
   "source": [
    "The categorical variables in `disney_movies_total_gross` are consistent, therefore no cleansing is necessary.\n",
    "`disney_characters` also contains categorical variables in the form of the untidy coulumns `hero` and `villian`. These columns will be melted through the data cleaning process, and thus they will remain consistent."
   ]
  },
  {
   "cell_type": "markdown",
   "metadata": {},
   "source": [
    "#### **Check Variable Dtypes**"
   ]
  },
  {
   "cell_type": "markdown",
   "metadata": {},
   "source": [
    "**As noted in the Data Overview:**\n",
    "- all columns in `disney_movies_total_gross` are of dtype `object`. For proper analysis, the temporal variable column `release_date` must be transformed into the `datetime` dtype, and the quanititative variable columns `total_gross` and `inflation_adjusted_gross` must be transformed into the `float` dtype.\n",
    "- all columns in `disney_characters` are of dytpe `object`. For proper anaysis, the temporal variable column `release_date` must be transformed into the `datetime` dtype.\n",
    "- all other columns in the datasets are of appropriate dtype for analysis."
   ]
  },
  {
   "cell_type": "markdown",
   "metadata": {},
   "source": [
    "## **Data Cleansing**"
   ]
  },
  {
   "cell_type": "markdown",
   "metadata": {},
   "source": [
    "### **`disney_movies_total_gross`**\n",
    "First we will address the `release_date` column dtype by converting it to `datetime`."
   ]
  },
  {
   "cell_type": "code",
   "execution_count": 20,
   "metadata": {},
   "outputs": [
    {
     "data": {
      "text/html": [
       "<div>\n",
       "<style scoped>\n",
       "    .dataframe tbody tr th:only-of-type {\n",
       "        vertical-align: middle;\n",
       "    }\n",
       "\n",
       "    .dataframe tbody tr th {\n",
       "        vertical-align: top;\n",
       "    }\n",
       "\n",
       "    .dataframe thead th {\n",
       "        text-align: right;\n",
       "    }\n",
       "</style>\n",
       "<table border=\"1\" class=\"dataframe\">\n",
       "  <thead>\n",
       "    <tr style=\"text-align: right;\">\n",
       "      <th></th>\n",
       "      <th>movie_title</th>\n",
       "      <th>release_date</th>\n",
       "      <th>genre</th>\n",
       "      <th>MPAA_rating</th>\n",
       "      <th>total_gross</th>\n",
       "      <th>inflation_adjusted_gross</th>\n",
       "    </tr>\n",
       "  </thead>\n",
       "  <tbody>\n",
       "    <tr>\n",
       "      <th>0</th>\n",
       "      <td>Snow White and the Seven Dwarfs</td>\n",
       "      <td>1937-12-21</td>\n",
       "      <td>Musical</td>\n",
       "      <td>G</td>\n",
       "      <td>$184,925,485</td>\n",
       "      <td>$5,228,953,251</td>\n",
       "    </tr>\n",
       "    <tr>\n",
       "      <th>1</th>\n",
       "      <td>Pinocchio</td>\n",
       "      <td>1940-02-09</td>\n",
       "      <td>Adventure</td>\n",
       "      <td>G</td>\n",
       "      <td>$84,300,000</td>\n",
       "      <td>$2,188,229,052</td>\n",
       "    </tr>\n",
       "  </tbody>\n",
       "</table>\n",
       "</div>"
      ],
      "text/plain": [
       "                       movie_title release_date      genre MPAA_rating  \\\n",
       "0  Snow White and the Seven Dwarfs   1937-12-21    Musical           G   \n",
       "1                        Pinocchio   1940-02-09  Adventure           G   \n",
       "\n",
       "    total_gross inflation_adjusted_gross  \n",
       "0  $184,925,485           $5,228,953,251  \n",
       "1   $84,300,000           $2,188,229,052  "
      ]
     },
     "execution_count": 20,
     "metadata": {},
     "output_type": "execute_result"
    }
   ],
   "source": [
    "movies_gross_clean = disney_movies_total_gross.assign(\n",
    "    release_date=pd.to_datetime(disney_movies_total_gross[\"release_date\"])\n",
    ")\n",
    "movies_gross_clean.head(2)"
   ]
  },
  {
   "cell_type": "code",
   "execution_count": 21,
   "metadata": {},
   "outputs": [
    {
     "data": {
      "text/plain": [
       "dtype('<M8[ns]')"
      ]
     },
     "execution_count": 21,
     "metadata": {},
     "output_type": "execute_result"
    }
   ],
   "source": [
    "movies_gross_clean.loc[:,'release_date'].dtypes"
   ]
  },
  {
   "cell_type": "markdown",
   "metadata": {},
   "source": [
    "Next, we will employ the imported function <b><i>currency_cleaner( )</i></b> to convert the total gross and inflation-adjusted gross columns to dtype float. <b><i>currency_cleaner( )</i></b> removes the specified currency symbol and any commas or spaces from a string value representing a currency amount, and casts the string value to a float."
   ]
  },
  {
   "cell_type": "code",
   "execution_count": 22,
   "metadata": {},
   "outputs": [
    {
     "data": {
      "text/html": [
       "<div>\n",
       "<style scoped>\n",
       "    .dataframe tbody tr th:only-of-type {\n",
       "        vertical-align: middle;\n",
       "    }\n",
       "\n",
       "    .dataframe tbody tr th {\n",
       "        vertical-align: top;\n",
       "    }\n",
       "\n",
       "    .dataframe thead th {\n",
       "        text-align: right;\n",
       "    }\n",
       "</style>\n",
       "<table border=\"1\" class=\"dataframe\">\n",
       "  <thead>\n",
       "    <tr style=\"text-align: right;\">\n",
       "      <th></th>\n",
       "      <th>movie_title</th>\n",
       "      <th>release_date</th>\n",
       "      <th>genre</th>\n",
       "      <th>MPAA_rating</th>\n",
       "      <th>total_gross</th>\n",
       "      <th>inflation_adjusted_gross</th>\n",
       "    </tr>\n",
       "  </thead>\n",
       "  <tbody>\n",
       "    <tr>\n",
       "      <th>0</th>\n",
       "      <td>Snow White and the Seven Dwarfs</td>\n",
       "      <td>1937-12-21</td>\n",
       "      <td>Musical</td>\n",
       "      <td>G</td>\n",
       "      <td>184925485.0</td>\n",
       "      <td>5.228953e+09</td>\n",
       "    </tr>\n",
       "    <tr>\n",
       "      <th>1</th>\n",
       "      <td>Pinocchio</td>\n",
       "      <td>1940-02-09</td>\n",
       "      <td>Adventure</td>\n",
       "      <td>G</td>\n",
       "      <td>84300000.0</td>\n",
       "      <td>2.188229e+09</td>\n",
       "    </tr>\n",
       "  </tbody>\n",
       "</table>\n",
       "</div>"
      ],
      "text/plain": [
       "                       movie_title release_date      genre MPAA_rating  \\\n",
       "0  Snow White and the Seven Dwarfs   1937-12-21    Musical           G   \n",
       "1                        Pinocchio   1940-02-09  Adventure           G   \n",
       "\n",
       "   total_gross  inflation_adjusted_gross  \n",
       "0  184925485.0              5.228953e+09  \n",
       "1   84300000.0              2.188229e+09  "
      ]
     },
     "execution_count": 22,
     "metadata": {},
     "output_type": "execute_result"
    }
   ],
   "source": [
    "movies_gross_clean = currency_cleaner(\n",
    "    movies_gross_clean, [\"total_gross\", \"inflation_adjusted_gross\"]\n",
    ")\n",
    "movies_gross_clean.head(2)"
   ]
  },
  {
   "cell_type": "code",
   "execution_count": 23,
   "metadata": {},
   "outputs": [
    {
     "data": {
      "text/plain": [
       "total_gross                 float64\n",
       "inflation_adjusted_gross    float64\n",
       "dtype: object"
      ]
     },
     "execution_count": 23,
     "metadata": {},
     "output_type": "execute_result"
    }
   ],
   "source": [
    "movies_gross_clean.loc[:,['total_gross','inflation_adjusted_gross']].dtypes"
   ]
  },
  {
   "cell_type": "markdown",
   "metadata": {},
   "source": [
    "### **`disney_characters`**"
   ]
  },
  {
   "cell_type": "markdown",
   "metadata": {},
   "source": [
    "First we will address the `release_date` column by converting the dtype to `datetime`, and we will clean the string values of the `movie_title` and `song` columns by removing '\\n'."
   ]
  },
  {
   "cell_type": "code",
   "execution_count": 24,
   "metadata": {},
   "outputs": [],
   "source": [
    "characters_clean = disney_characters.assign(release_date = pd.to_datetime(disney_characters['release_date']),\n",
    "                                             movie_title = disney_characters['movie_title'].str.strip('\\n'),\n",
    "                                             song = disney_characters['song'].str.strip('\\n')\n",
    "                                            )"
   ]
  },
  {
   "cell_type": "markdown",
   "metadata": {},
   "source": [
    "Next, we will tidy the dataframe by employing the imported function <b><i>split_melt( )</i></b>. This function splits the string values in the columns specified, expands the result, concatenates the expanded columns to the ID columns of the original dataframe and then melts the expanded columns into the concatenated dataframe. If more than one column is split, a new column is created and populated with each melted value's original column name (see `character_type` column below)."
   ]
  },
  {
   "cell_type": "code",
   "execution_count": 25,
   "metadata": {},
   "outputs": [
    {
     "data": {
      "text/html": [
       "<div>\n",
       "<style scoped>\n",
       "    .dataframe tbody tr th:only-of-type {\n",
       "        vertical-align: middle;\n",
       "    }\n",
       "\n",
       "    .dataframe tbody tr th {\n",
       "        vertical-align: top;\n",
       "    }\n",
       "\n",
       "    .dataframe thead th {\n",
       "        text-align: right;\n",
       "    }\n",
       "</style>\n",
       "<table border=\"1\" class=\"dataframe\">\n",
       "  <thead>\n",
       "    <tr style=\"text-align: right;\">\n",
       "      <th></th>\n",
       "      <th>movie_title</th>\n",
       "      <th>release_date</th>\n",
       "      <th>song</th>\n",
       "      <th>character_type</th>\n",
       "      <th>character_name</th>\n",
       "    </tr>\n",
       "  </thead>\n",
       "  <tbody>\n",
       "    <tr>\n",
       "      <th>0</th>\n",
       "      <td>Snow White and the Seven Dwarfs</td>\n",
       "      <td>1937-12-21</td>\n",
       "      <td>Some Day My Prince Will Come</td>\n",
       "      <td>hero</td>\n",
       "      <td>Snow White</td>\n",
       "    </tr>\n",
       "    <tr>\n",
       "      <th>1</th>\n",
       "      <td>Pinocchio</td>\n",
       "      <td>1940-02-07</td>\n",
       "      <td>When You Wish upon a Star</td>\n",
       "      <td>hero</td>\n",
       "      <td>Pinocchio</td>\n",
       "    </tr>\n",
       "  </tbody>\n",
       "</table>\n",
       "</div>"
      ],
      "text/plain": [
       "                       movie_title release_date                          song  \\\n",
       "0  Snow White and the Seven Dwarfs   1937-12-21  Some Day My Prince Will Come   \n",
       "1                        Pinocchio   1940-02-07     When You Wish upon a Star   \n",
       "\n",
       "  character_type character_name  \n",
       "0           hero     Snow White  \n",
       "1           hero      Pinocchio  "
      ]
     },
     "execution_count": 25,
     "metadata": {},
     "output_type": "execute_result"
    }
   ],
   "source": [
    "# correct `villian` spelling to villain\n",
    "characters_clean = characters_clean.rename(columns={\"villian\": \"villain\"})\n",
    "\n",
    "characters_clean = split_melt(\n",
    "    characters_clean,\n",
    "    [\"movie_title\", \"release_date\", \"song\"],\n",
    "    [\"hero\", \"villain\"],\n",
    "    \" and \",\n",
    "    \"character_type\",\n",
    "    \"character_name\",\n",
    ")\n",
    "\n",
    "characters_clean.head(2)"
   ]
  },
  {
   "cell_type": "markdown",
   "metadata": {},
   "source": [
    "### **`disney_voice_actors`**"
   ]
  },
  {
   "cell_type": "markdown",
   "metadata": {},
   "source": [
    "The `voice-actor` column and `character` column both contain cells with multiple values, however, values in the cells do not all relate to each other in the same way. Let's loop through each delimiter for each actor and character value and split the value on the delimiter it contains."
   ]
  },
  {
   "cell_type": "code",
   "execution_count": 26,
   "metadata": {},
   "outputs": [
    {
     "data": {
      "text/html": [
       "<div>\n",
       "<style scoped>\n",
       "    .dataframe tbody tr th:only-of-type {\n",
       "        vertical-align: middle;\n",
       "    }\n",
       "\n",
       "    .dataframe tbody tr th {\n",
       "        vertical-align: top;\n",
       "    }\n",
       "\n",
       "    .dataframe thead th {\n",
       "        text-align: right;\n",
       "    }\n",
       "</style>\n",
       "<table border=\"1\" class=\"dataframe\">\n",
       "  <thead>\n",
       "    <tr style=\"text-align: right;\">\n",
       "      <th></th>\n",
       "      <th>character</th>\n",
       "      <th>voice_actor</th>\n",
       "      <th>movie</th>\n",
       "    </tr>\n",
       "  </thead>\n",
       "  <tbody>\n",
       "    <tr>\n",
       "      <th>0</th>\n",
       "      <td>[Abby Mallard, Abby Mallard]</td>\n",
       "      <td>[Joan Cusack, Joan Cusack]</td>\n",
       "      <td>Chicken Little</td>\n",
       "    </tr>\n",
       "    <tr>\n",
       "      <th>1</th>\n",
       "      <td>[Abigail Gabble, Abigail Gabble]</td>\n",
       "      <td>[Monica Evans, Monica Evans]</td>\n",
       "      <td>The Aristocats</td>\n",
       "    </tr>\n",
       "  </tbody>\n",
       "</table>\n",
       "</div>"
      ],
      "text/plain": [
       "                          character                   voice_actor  \\\n",
       "0      [Abby Mallard, Abby Mallard]    [Joan Cusack, Joan Cusack]   \n",
       "1  [Abigail Gabble, Abigail Gabble]  [Monica Evans, Monica Evans]   \n",
       "\n",
       "            movie  \n",
       "0  Chicken Little  \n",
       "1  The Aristocats  "
      ]
     },
     "execution_count": 26,
     "metadata": {},
     "output_type": "execute_result"
    }
   ],
   "source": [
    "voice_actors_clean = disney_voice_actors.rename(columns={\"voice-actor\": \"voice_actor\"})\n",
    "\n",
    "delimiters = [\" & \", \" and \", \"/\", \"; \"]\n",
    "columns = [\"character\", \"voice_actor\"]\n",
    "\n",
    "# If delimiter in actor/character name, split value on delimiter\n",
    "for column in columns:\n",
    "    for index, name in voice_actors_clean[column].items():\n",
    "        for delimiter in delimiters:\n",
    "            if delimiter in name:\n",
    "                voice_actors_clean.loc[index, column] = name.split(delimiter)\n",
    "                break\n",
    "            else:  # If delimiter not in actor/character name, create list of duplicated name.\n",
    "                voice_actors_clean.loc[index, column] = [name, name]\n",
    "voice_actors_clean.head(2)\n"
   ]
  },
  {
   "cell_type": "markdown",
   "metadata": {},
   "source": [
    "Next, we will expand the split columns by casting them to a list and assigning the resulting list of lists to new columns in the dataframe."
   ]
  },
  {
   "cell_type": "code",
   "execution_count": 27,
   "metadata": {},
   "outputs": [
    {
     "data": {
      "text/html": [
       "<div>\n",
       "<style scoped>\n",
       "    .dataframe tbody tr th:only-of-type {\n",
       "        vertical-align: middle;\n",
       "    }\n",
       "\n",
       "    .dataframe tbody tr th {\n",
       "        vertical-align: top;\n",
       "    }\n",
       "\n",
       "    .dataframe thead th {\n",
       "        text-align: right;\n",
       "    }\n",
       "</style>\n",
       "<table border=\"1\" class=\"dataframe\">\n",
       "  <thead>\n",
       "    <tr style=\"text-align: right;\">\n",
       "      <th></th>\n",
       "      <th>character</th>\n",
       "      <th>voice_actor</th>\n",
       "      <th>movie</th>\n",
       "      <th>voice_actor1</th>\n",
       "      <th>voice_actor2</th>\n",
       "    </tr>\n",
       "  </thead>\n",
       "  <tbody>\n",
       "    <tr>\n",
       "      <th>0</th>\n",
       "      <td>[Abby Mallard, Abby Mallard]</td>\n",
       "      <td>[Joan Cusack, Joan Cusack]</td>\n",
       "      <td>Chicken Little</td>\n",
       "      <td>Joan Cusack</td>\n",
       "      <td>Joan Cusack</td>\n",
       "    </tr>\n",
       "    <tr>\n",
       "      <th>1</th>\n",
       "      <td>[Abigail Gabble, Abigail Gabble]</td>\n",
       "      <td>[Monica Evans, Monica Evans]</td>\n",
       "      <td>The Aristocats</td>\n",
       "      <td>Monica Evans</td>\n",
       "      <td>Monica Evans</td>\n",
       "    </tr>\n",
       "  </tbody>\n",
       "</table>\n",
       "</div>"
      ],
      "text/plain": [
       "                          character                   voice_actor  \\\n",
       "0      [Abby Mallard, Abby Mallard]    [Joan Cusack, Joan Cusack]   \n",
       "1  [Abigail Gabble, Abigail Gabble]  [Monica Evans, Monica Evans]   \n",
       "\n",
       "            movie  voice_actor1  voice_actor2  \n",
       "0  Chicken Little   Joan Cusack   Joan Cusack  \n",
       "1  The Aristocats  Monica Evans  Monica Evans  "
      ]
     },
     "execution_count": 27,
     "metadata": {},
     "output_type": "execute_result"
    }
   ],
   "source": [
    "# Expand list values of actor names into 2 columns and add to dataframe\n",
    "voice_actors_clean[[\"voice_actor1\", \"voice_actor2\"]] = pd.DataFrame(\n",
    "    voice_actors_clean.loc[:, \"voice_actor\"].tolist(), index=voice_actors_clean.index\n",
    ")\n",
    "voice_actors_clean.head(2)\n"
   ]
  },
  {
   "cell_type": "code",
   "execution_count": 28,
   "metadata": {},
   "outputs": [
    {
     "data": {
      "text/html": [
       "<div>\n",
       "<style scoped>\n",
       "    .dataframe tbody tr th:only-of-type {\n",
       "        vertical-align: middle;\n",
       "    }\n",
       "\n",
       "    .dataframe tbody tr th {\n",
       "        vertical-align: top;\n",
       "    }\n",
       "\n",
       "    .dataframe thead th {\n",
       "        text-align: right;\n",
       "    }\n",
       "</style>\n",
       "<table border=\"1\" class=\"dataframe\">\n",
       "  <thead>\n",
       "    <tr style=\"text-align: right;\">\n",
       "      <th></th>\n",
       "      <th>character</th>\n",
       "      <th>voice_actor</th>\n",
       "      <th>movie</th>\n",
       "      <th>voice_actor1</th>\n",
       "      <th>voice_actor2</th>\n",
       "      <th>char1</th>\n",
       "      <th>char2</th>\n",
       "    </tr>\n",
       "  </thead>\n",
       "  <tbody>\n",
       "    <tr>\n",
       "      <th>0</th>\n",
       "      <td>[Abby Mallard, Abby Mallard]</td>\n",
       "      <td>[Joan Cusack, Joan Cusack]</td>\n",
       "      <td>Chicken Little</td>\n",
       "      <td>Joan Cusack</td>\n",
       "      <td>Joan Cusack</td>\n",
       "      <td>Abby Mallard</td>\n",
       "      <td>Abby Mallard</td>\n",
       "    </tr>\n",
       "    <tr>\n",
       "      <th>1</th>\n",
       "      <td>[Abigail Gabble, Abigail Gabble]</td>\n",
       "      <td>[Monica Evans, Monica Evans]</td>\n",
       "      <td>The Aristocats</td>\n",
       "      <td>Monica Evans</td>\n",
       "      <td>Monica Evans</td>\n",
       "      <td>Abigail Gabble</td>\n",
       "      <td>Abigail Gabble</td>\n",
       "    </tr>\n",
       "  </tbody>\n",
       "</table>\n",
       "</div>"
      ],
      "text/plain": [
       "                          character                   voice_actor  \\\n",
       "0      [Abby Mallard, Abby Mallard]    [Joan Cusack, Joan Cusack]   \n",
       "1  [Abigail Gabble, Abigail Gabble]  [Monica Evans, Monica Evans]   \n",
       "\n",
       "            movie  voice_actor1  voice_actor2           char1           char2  \n",
       "0  Chicken Little   Joan Cusack   Joan Cusack    Abby Mallard    Abby Mallard  \n",
       "1  The Aristocats  Monica Evans  Monica Evans  Abigail Gabble  Abigail Gabble  "
      ]
     },
     "execution_count": 28,
     "metadata": {},
     "output_type": "execute_result"
    }
   ],
   "source": [
    "# Expand list values of character names into 2 columns and add to dataframe\n",
    "voice_actors_clean[[\"char1\", \"char2\"]] = pd.DataFrame(\n",
    "    voice_actors_clean.loc[:, \"character\"].tolist(), index=voice_actors_clean.index\n",
    ")\n",
    "voice_actors_clean.head(2)\n"
   ]
  },
  {
   "cell_type": "markdown",
   "metadata": {},
   "source": [
    "Now let's pair each actor with their character and concatenate the actor-character pairs vertically."
   ]
  },
  {
   "cell_type": "code",
   "execution_count": 29,
   "metadata": {},
   "outputs": [],
   "source": [
    "# Select only actor 1 and character 1 with movie, rename columns\n",
    "voice_actor_1 = voice_actors_clean.loc[:, [\"movie\", \"voice_actor1\", \"char1\"]].rename(\n",
    "    columns={\n",
    "        \"movie\": \"movie_title\",\n",
    "        \"voice_actor1\": \"voice_actor\",\n",
    "        \"char1\": \"character_name\",\n",
    "    }\n",
    ")"
   ]
  },
  {
   "cell_type": "code",
   "execution_count": 30,
   "metadata": {},
   "outputs": [],
   "source": [
    "# Select only actor 2 and character 2 with movie, rename columns\n",
    "voice_actor_2 = voice_actors_clean.loc[:, [\"movie\", \"voice_actor2\", \"char2\"]].rename(\n",
    "    columns={\n",
    "        \"movie\": \"movie_title\",\n",
    "        \"voice_actor2\": \"voice_actor\",\n",
    "        \"char2\": \"character_name\",\n",
    "    }\n",
    ")\n"
   ]
  },
  {
   "cell_type": "code",
   "execution_count": 31,
   "metadata": {},
   "outputs": [
    {
     "data": {
      "text/plain": [
       "(1870, 3)"
      ]
     },
     "execution_count": 31,
     "metadata": {},
     "output_type": "execute_result"
    }
   ],
   "source": [
    "# Concatenate dataframes vertically\n",
    "voice_actor_full = pd.concat([voice_actor_1, voice_actor_2], axis=0)\n",
    "voice_actor_full.shape"
   ]
  },
  {
   "cell_type": "markdown",
   "metadata": {},
   "source": [
    "This method results in some duplicate observations. Let's get rid of them."
   ]
  },
  {
   "cell_type": "code",
   "execution_count": 32,
   "metadata": {},
   "outputs": [
    {
     "data": {
      "text/plain": [
       "(996, 3)"
      ]
     },
     "execution_count": 32,
     "metadata": {},
     "output_type": "execute_result"
    }
   ],
   "source": [
    "# Remove duplicated observations\n",
    "voice_actors_clean = voice_actor_full[\n",
    "    ~voice_actor_full.duplicated()\n",
    "].reset_index(drop=True)\n",
    "voice_actors_clean.shape"
   ]
  },
  {
   "cell_type": "markdown",
   "metadata": {},
   "source": [
    "### `disney_director`"
   ]
  },
  {
   "cell_type": "markdown",
   "metadata": {},
   "source": [
    "The `name` column in the `disney_director` dataframe is ambiguous. Let's rename this column to `movie_title` so it is consistent with the rest of the dataframes."
   ]
  },
  {
   "cell_type": "code",
   "execution_count": 33,
   "metadata": {},
   "outputs": [
    {
     "data": {
      "text/plain": [
       "Index(['movie_title', 'director'], dtype='object')"
      ]
     },
     "execution_count": 33,
     "metadata": {},
     "output_type": "execute_result"
    }
   ],
   "source": [
    "director_clean = disney_director.rename(columns ={'name':'movie_title'})\n",
    "director_clean.columns"
   ]
  },
  {
   "cell_type": "markdown",
   "metadata": {},
   "source": [
    "<hr>"
   ]
  },
  {
   "cell_type": "markdown",
   "metadata": {},
   "source": [
    "### Data Analysis\n",
    "We would like to investigate the performace of movies based on movie genre, measured by the movie's inflation-adjusted gross revenue. The inflation-adjusted gross revenue is the best measure of movie performance as it allows us to compare movies released at different times on an equal footing. Average will be used as not all genres contain the same number of movies. We will drop the `total_gross_M` and `MPAA_rating` columns as they are not relevant to our analysis. We will also drop rows with NaN values for genre as these are unable provide the required information."
   ]
  },
  {
   "cell_type": "code",
   "execution_count": 34,
   "metadata": {},
   "outputs": [
    {
     "name": "stdout",
     "output_type": "stream",
     "text": [
      "<class 'pandas.core.frame.DataFrame'>\n",
      "Int64Index: 562 entries, 0 to 29\n",
      "Data columns (total 4 columns):\n",
      " #   Column                    Non-Null Count  Dtype         \n",
      "---  ------                    --------------  -----         \n",
      " 0   movie_title               562 non-null    object        \n",
      " 1   release_date              562 non-null    datetime64[ns]\n",
      " 2   genre                     562 non-null    object        \n",
      " 3   inflation_adjusted_gross  562 non-null    float64       \n",
      "dtypes: datetime64[ns](1), float64(1), object(2)\n",
      "memory usage: 22.0+ KB\n"
     ]
    }
   ],
   "source": [
    "genre_gross = (\n",
    "    movies_gross_clean.drop(columns=[\"MPAA_rating\", \"total_gross\"])\n",
    "    .dropna(subset=[\"genre\"])\n",
    "    .sort_values(by=\"inflation_adjusted_gross\", ascending=False)\n",
    ")\n",
    "genre_gross.info()\n"
   ]
  },
  {
   "cell_type": "markdown",
   "metadata": {},
   "source": [
    "We now have 562 observations with no missing values. How many movies are contained in each genre? Let's count the number of each unique value occurring in the `genre` column."
   ]
  },
  {
   "cell_type": "code",
   "execution_count": 35,
   "metadata": {},
   "outputs": [
    {
     "data": {
      "text/plain": [
       "Comedy                 182\n",
       "Adventure              129\n",
       "Drama                  114\n",
       "Action                  40\n",
       "Thriller/Suspense       24\n",
       "Romantic Comedy         23\n",
       "Musical                 16\n",
       "Documentary             16\n",
       "Western                  7\n",
       "Horror                   6\n",
       "Black Comedy             3\n",
       "Concert/Performance      2\n",
       "Name: genre, dtype: int64"
      ]
     },
     "execution_count": 35,
     "metadata": {},
     "output_type": "execute_result"
    }
   ],
   "source": [
    "genre_gross['genre'].value_counts()"
   ]
  },
  {
   "cell_type": "markdown",
   "metadata": {},
   "source": [
    "`Comedy` has the most titles, followed by `Adventure` and `Drama`. Let's use a box plot to visualize the distribution of inflation-adjusted gross revenue for each genre."
   ]
  },
  {
   "cell_type": "code",
   "execution_count": 36,
   "metadata": {},
   "outputs": [
    {
     "data": {
      "text/html": [
       "\n",
       "<div id=\"altair-viz-c01314097b424a9abc06b0663f465c05\"></div>\n",
       "<script type=\"text/javascript\">\n",
       "  (function(spec, embedOpt){\n",
       "    let outputDiv = document.currentScript.previousElementSibling;\n",
       "    if (outputDiv.id !== \"altair-viz-c01314097b424a9abc06b0663f465c05\") {\n",
       "      outputDiv = document.getElementById(\"altair-viz-c01314097b424a9abc06b0663f465c05\");\n",
       "    }\n",
       "    const paths = {\n",
       "      \"vega\": \"https://cdn.jsdelivr.net/npm//vega@5?noext\",\n",
       "      \"vega-lib\": \"https://cdn.jsdelivr.net/npm//vega-lib?noext\",\n",
       "      \"vega-lite\": \"https://cdn.jsdelivr.net/npm//vega-lite@4.8.1?noext\",\n",
       "      \"vega-embed\": \"https://cdn.jsdelivr.net/npm//vega-embed@6?noext\",\n",
       "    };\n",
       "\n",
       "    function loadScript(lib) {\n",
       "      return new Promise(function(resolve, reject) {\n",
       "        var s = document.createElement('script');\n",
       "        s.src = paths[lib];\n",
       "        s.async = true;\n",
       "        s.onload = () => resolve(paths[lib]);\n",
       "        s.onerror = () => reject(`Error loading script: ${paths[lib]}`);\n",
       "        document.getElementsByTagName(\"head\")[0].appendChild(s);\n",
       "      });\n",
       "    }\n",
       "\n",
       "    function showError(err) {\n",
       "      outputDiv.innerHTML = `<div class=\"error\" style=\"color:red;\">${err}</div>`;\n",
       "      throw err;\n",
       "    }\n",
       "\n",
       "    function displayChart(vegaEmbed) {\n",
       "      vegaEmbed(outputDiv, spec, embedOpt)\n",
       "        .catch(err => showError(`Javascript Error: ${err.message}<br>This usually means there's a typo in your chart specification. See the javascript console for the full traceback.`));\n",
       "    }\n",
       "\n",
       "    if(typeof define === \"function\" && define.amd) {\n",
       "      requirejs.config({paths});\n",
       "      require([\"vega-embed\"], displayChart, err => showError(`Error loading script: ${err.message}`));\n",
       "    } else if (typeof vegaEmbed === \"function\") {\n",
       "      displayChart(vegaEmbed);\n",
       "    } else {\n",
       "      loadScript(\"vega\")\n",
       "        .then(() => loadScript(\"vega-lite\"))\n",
       "        .then(() => loadScript(\"vega-embed\"))\n",
       "        .catch(showError)\n",
       "        .then(() => displayChart(vegaEmbed));\n",
       "    }\n",
       "  })({\"config\": {\"view\": {\"continuousWidth\": 400, \"continuousHeight\": 300}, \"axis\": {\"labelFontSize\": 12, \"titleFontSize\": 12}}, \"data\": {\"name\": \"data-9db7cf16bc53793206da2549ef0f1b7b\"}, \"mark\": {\"type\": \"boxplot\", \"extent\": 3, \"size\": 30}, \"encoding\": {\"x\": {\"type\": \"nominal\", \"field\": \"genre\", \"title\": \"Movie Genre\"}, \"y\": {\"type\": \"quantitative\", \"field\": \"inflation_adjusted_gross\", \"title\": \"Inflation-Adjusted Gross Revenue (millons)\"}}, \"height\": 500, \"title\": \"Figure 1: Distribution of Inflation-Adjusted Gross Revenue by Genre\", \"width\": 500, \"$schema\": \"https://vega.github.io/schema/vega-lite/v4.8.1.json\", \"datasets\": {\"data-9db7cf16bc53793206da2549ef0f1b7b\": [{\"movie_title\": \"Snow White and the Seven Dwarfs\", \"release_date\": \"1937-12-21T00:00:00\", \"genre\": \"Musical\", \"inflation_adjusted_gross\": 5228953251.0}, {\"movie_title\": \"Pinocchio\", \"release_date\": \"1940-02-09T00:00:00\", \"genre\": \"Adventure\", \"inflation_adjusted_gross\": 2188229052.0}, {\"movie_title\": \"Fantasia\", \"release_date\": \"1940-11-13T00:00:00\", \"genre\": \"Musical\", \"inflation_adjusted_gross\": 2187090808.0}, {\"movie_title\": \"101 Dalmatians\", \"release_date\": \"1961-01-25T00:00:00\", \"genre\": \"Comedy\", \"inflation_adjusted_gross\": 1362870985.0}, {\"movie_title\": \"Lady and the Tramp\", \"release_date\": \"1955-06-22T00:00:00\", \"genre\": \"Drama\", \"inflation_adjusted_gross\": 1236035515.0}, {\"movie_title\": \"Song of the South\", \"release_date\": \"1946-11-12T00:00:00\", \"genre\": \"Adventure\", \"inflation_adjusted_gross\": 1078510579.0}, {\"movie_title\": \"Star Wars Ep. VII: The Force Awakens\", \"release_date\": \"2015-12-18T00:00:00\", \"genre\": \"Adventure\", \"inflation_adjusted_gross\": 936662225.0}, {\"movie_title\": \"Cinderella\", \"release_date\": \"1950-02-15T00:00:00\", \"genre\": \"Drama\", \"inflation_adjusted_gross\": 920608730.0}, {\"movie_title\": \"The Jungle Book\", \"release_date\": \"1967-10-18T00:00:00\", \"genre\": \"Musical\", \"inflation_adjusted_gross\": 789612346.0}, {\"movie_title\": \"The Lion King\", \"release_date\": \"1994-06-15T00:00:00\", \"genre\": \"Adventure\", \"inflation_adjusted_gross\": 761640898.0}, {\"movie_title\": \"The Avengers\", \"release_date\": \"2012-05-04T00:00:00\", \"genre\": \"Action\", \"inflation_adjusted_gross\": 660081224.0}, {\"movie_title\": \"Pirates of the Caribbean: Dead Man\\u2019\\u2026\", \"release_date\": \"2006-07-07T00:00:00\", \"genre\": \"Adventure\", \"inflation_adjusted_gross\": 544817142.0}, {\"movie_title\": \"Rogue One: A Star Wars Story\", \"release_date\": \"2016-12-16T00:00:00\", \"genre\": \"Adventure\", \"inflation_adjusted_gross\": 529483936.0}, {\"movie_title\": \"20,000 Leagues Under the Sea\", \"release_date\": \"1954-12-23T00:00:00\", \"genre\": \"Adventure\", \"inflation_adjusted_gross\": 528279994.0}, {\"movie_title\": \"Finding Nemo\", \"release_date\": \"2003-05-30T00:00:00\", \"genre\": \"Adventure\", \"inflation_adjusted_gross\": 518148559.0}, {\"movie_title\": \"Finding Dory\", \"release_date\": \"2016-06-17T00:00:00\", \"genre\": \"Adventure\", \"inflation_adjusted_gross\": 486295561.0}, {\"movie_title\": \"The Sixth Sense\", \"release_date\": \"1999-08-06T00:00:00\", \"genre\": \"Thriller/Suspense\", \"inflation_adjusted_gross\": 485424724.0}, {\"movie_title\": \"Avengers: Age of Ultron\", \"release_date\": \"2015-05-01T00:00:00\", \"genre\": \"Action\", \"inflation_adjusted_gross\": 459005868.0}, {\"movie_title\": \"Toy Story 3\", \"release_date\": \"2010-06-18T00:00:00\", \"genre\": \"Adventure\", \"inflation_adjusted_gross\": 443408255.0}, {\"movie_title\": \"Aladdin\", \"release_date\": \"1992-11-11T00:00:00\", \"genre\": \"Comedy\", \"inflation_adjusted_gross\": 441969178.0}, {\"movie_title\": \"Pirates of the Caribbean: The Curse o\\u2026\", \"release_date\": \"2003-07-09T00:00:00\", \"genre\": \"Adventure\", \"inflation_adjusted_gross\": 426967926.0}, {\"movie_title\": \"Iron Man 3\", \"release_date\": \"2013-05-03T00:00:00\", \"genre\": \"Action\", \"inflation_adjusted_gross\": 424084233.0}, {\"movie_title\": \"Monsters, Inc.\", \"release_date\": \"2001-11-02T00:00:00\", \"genre\": \"Adventure\", \"inflation_adjusted_gross\": 416073179.0}, {\"movie_title\": \"Frozen\", \"release_date\": \"2013-11-22T00:00:00\", \"genre\": \"Adventure\", \"inflation_adjusted_gross\": 414997174.0}, {\"movie_title\": \"Captain America: Civil War\", \"release_date\": \"2016-05-06T00:00:00\", \"genre\": \"Action\", \"inflation_adjusted_gross\": 408084349.0}, {\"movie_title\": \"Toy Story 2\", \"release_date\": \"1999-11-19T00:00:00\", \"genre\": \"Adventure\", \"inflation_adjusted_gross\": 404450426.0}, {\"movie_title\": \"The Chronicles of Narnia: The Lion, t\\u2026\", \"release_date\": \"2005-12-09T00:00:00\", \"genre\": \"Adventure\", \"inflation_adjusted_gross\": 381557539.0}, {\"movie_title\": \"Pirates of the Caribbean: At World\\u2019\\u2026\", \"release_date\": \"2007-05-24T00:00:00\", \"genre\": \"Adventure\", \"inflation_adjusted_gross\": 379129960.0}, {\"movie_title\": \"Toy Story\", \"release_date\": \"1995-11-22T00:00:00\", \"genre\": \"Adventure\", \"inflation_adjusted_gross\": 370409631.0}, {\"movie_title\": \"The Jungle Book\", \"release_date\": \"2016-04-15T00:00:00\", \"genre\": \"Adventure\", \"inflation_adjusted_gross\": 364001123.0}, {\"movie_title\": \"Beauty and the Beast\", \"release_date\": \"1991-11-13T00:00:00\", \"genre\": \"Musical\", \"inflation_adjusted_gross\": 363017667.0}, {\"movie_title\": \"Armageddon\", \"release_date\": \"1998-07-01T00:00:00\", \"genre\": \"Adventure\", \"inflation_adjusted_gross\": 362324957.0}, {\"movie_title\": \"Alice in Wonderland\", \"release_date\": \"2010-03-05T00:00:00\", \"genre\": \"Adventure\", \"inflation_adjusted_gross\": 357063499.0}, {\"movie_title\": \"Inside Out\", \"release_date\": \"2015-06-19T00:00:00\", \"genre\": \"Adventure\", \"inflation_adjusted_gross\": 356461711.0}, {\"movie_title\": \"Pretty Woman\", \"release_date\": \"1990-03-23T00:00:00\", \"genre\": \"Romantic Comedy\", \"inflation_adjusted_gross\": 356389765.0}, {\"movie_title\": \"The Incredibles\", \"release_date\": \"2004-11-05T00:00:00\", \"genre\": \"Adventure\", \"inflation_adjusted_gross\": 354488708.0}, {\"movie_title\": \"3 Men and a Baby\", \"release_date\": \"1987-11-25T00:00:00\", \"genre\": \"Comedy\", \"inflation_adjusted_gross\": 353334607.0}, {\"movie_title\": \"Guardians of the Galaxy\", \"release_date\": \"2014-08-01T00:00:00\", \"genre\": \"Adventure\", \"inflation_adjusted_gross\": 343771168.0}, {\"movie_title\": \"Zootopia\", \"release_date\": \"2016-03-04T00:00:00\", \"genre\": \"Adventure\", \"inflation_adjusted_gross\": 341268248.0}, {\"movie_title\": \"Signs\", \"release_date\": \"2002-08-02T00:00:00\", \"genre\": \"Thriller/Suspense\", \"inflation_adjusted_gross\": 330754439.0}, {\"movie_title\": \"Up\", \"release_date\": \"2009-05-29T00:00:00\", \"genre\": \"Adventure\", \"inflation_adjusted_gross\": 329336681.0}, {\"movie_title\": \"Who Framed Roger Rabbit?\", \"release_date\": \"1988-06-22T00:00:00\", \"genre\": \"Comedy\", \"inflation_adjusted_gross\": 316250084.0}, {\"movie_title\": \"Cars\", \"release_date\": \"2006-06-09T00:00:00\", \"genre\": \"Comedy\", \"inflation_adjusted_gross\": 314140384.0}, {\"movie_title\": \"The Absent Minded Professor\", \"release_date\": \"1961-03-16T00:00:00\", \"genre\": \"Comedy\", \"inflation_adjusted_gross\": 310094574.0}, {\"movie_title\": \"The Santa Clause\", \"release_date\": \"1994-11-11T00:00:00\", \"genre\": \"Comedy\", \"inflation_adjusted_gross\": 298369717.0}, {\"movie_title\": \"Pearl Harbor\", \"release_date\": \"2001-05-25T00:00:00\", \"genre\": \"Action\", \"inflation_adjusted_gross\": 295705112.0}, {\"movie_title\": \"A Bug's Life\", \"release_date\": \"1998-11-20T00:00:00\", \"genre\": \"Adventure\", \"inflation_adjusted_gross\": 288981698.0}, {\"movie_title\": \"The Waterboy\", \"release_date\": \"1998-11-06T00:00:00\", \"genre\": \"Comedy\", \"inflation_adjusted_gross\": 288691833.0}, {\"movie_title\": \"Tarzan\", \"release_date\": \"1999-06-16T00:00:00\", \"genre\": \"Adventure\", \"inflation_adjusted_gross\": 283900254.0}, {\"movie_title\": \"Sister Act\", \"release_date\": \"1992-05-29T00:00:00\", \"genre\": \"Comedy\", \"inflation_adjusted_gross\": 283583472.0}, {\"movie_title\": \"Monsters University\", \"release_date\": \"2013-06-21T00:00:00\", \"genre\": \"Adventure\", \"inflation_adjusted_gross\": 278395641.0}, {\"movie_title\": \"Honey, I Shrunk the Kids\", \"release_date\": \"1989-06-23T00:00:00\", \"genre\": \"Adventure\", \"inflation_adjusted_gross\": 276191669.0}, {\"movie_title\": \"Pocahontas\", \"release_date\": \"1995-06-10T00:00:00\", \"genre\": \"Adventure\", \"inflation_adjusted_gross\": 274370957.0}, {\"movie_title\": \"Captain America: The Winter Soldier\", \"release_date\": \"2014-04-04T00:00:00\", \"genre\": \"Action\", \"inflation_adjusted_gross\": 268013076.0}, {\"movie_title\": \"National Treasure 2: Book of Secrets\", \"release_date\": \"2007-12-21T00:00:00\", \"genre\": \"Adventure\", \"inflation_adjusted_gross\": 267003525.0}, {\"movie_title\": \"WALL-E\", \"release_date\": \"2008-06-27T00:00:00\", \"genre\": \"Adventure\", \"inflation_adjusted_gross\": 262771918.0}, {\"movie_title\": \"Ransom\", \"release_date\": \"1996-11-08T00:00:00\", \"genre\": \"Action\", \"inflation_adjusted_gross\": 259807820.0}, {\"movie_title\": \"101 Dalmatians\", \"release_date\": \"1996-11-27T00:00:00\", \"genre\": \"Comedy\", \"inflation_adjusted_gross\": 258728898.0}, {\"movie_title\": \"Pirates of the Caribbean: On Stranger\\u2026\", \"release_date\": \"2011-05-20T00:00:00\", \"genre\": \"Adventure\", \"inflation_adjusted_gross\": 256263359.0}, {\"movie_title\": \"The Rock\", \"release_date\": \"1996-06-07T00:00:00\", \"genre\": \"Action\", \"inflation_adjusted_gross\": 255702705.0}, {\"movie_title\": \"The Aristocats\", \"release_date\": \"1970-04-24T00:00:00\", \"genre\": \"Musical\", \"inflation_adjusted_gross\": 255161499.0}, {\"movie_title\": \"Good Morning Vietnam\", \"release_date\": \"1987-12-23T00:00:00\", \"genre\": \"Comedy\", \"inflation_adjusted_gross\": 254414837.0}, {\"movie_title\": \"Ratatouille\", \"release_date\": \"2007-06-29T00:00:00\", \"genre\": \"Comedy\", \"inflation_adjusted_gross\": 252955933.0}, {\"movie_title\": \"Brave\", \"release_date\": \"2012-06-22T00:00:00\", \"genre\": \"Adventure\", \"inflation_adjusted_gross\": 251292441.0}, {\"movie_title\": \"Maleficent\", \"release_date\": \"2014-05-30T00:00:00\", \"genre\": \"Adventure\", \"inflation_adjusted_gross\": 249089809.0}, {\"movie_title\": \"Moana\", \"release_date\": \"2016-11-23T00:00:00\", \"genre\": \"Adventure\", \"inflation_adjusted_gross\": 246082029.0}, {\"movie_title\": \"Oz the Great and Powerful\", \"release_date\": \"2013-03-08T00:00:00\", \"genre\": \"Adventure\", \"inflation_adjusted_gross\": 243434130.0}, {\"movie_title\": \"National Treasure\", \"release_date\": \"2004-11-19T00:00:00\", \"genre\": \"Adventure\", \"inflation_adjusted_gross\": 234069353.0}, {\"movie_title\": \"Doctor Strange\", \"release_date\": \"2016-11-04T00:00:00\", \"genre\": \"Adventure\", \"inflation_adjusted_gross\": 232532923.0}, {\"movie_title\": \"Big Hero 6\", \"release_date\": \"2014-11-07T00:00:00\", \"genre\": \"Adventure\", \"inflation_adjusted_gross\": 229249222.0}, {\"movie_title\": \"The Little Mermaid\", \"release_date\": \"1989-11-15T00:00:00\", \"genre\": \"Adventure\", \"inflation_adjusted_gross\": 223726012.0}, {\"movie_title\": \"Mulan\", \"release_date\": \"1998-06-19T00:00:00\", \"genre\": \"Adventure\", \"inflation_adjusted_gross\": 216807832.0}, {\"movie_title\": \"Dinosaur\", \"release_date\": \"2000-05-19T00:00:00\", \"genre\": \"Adventure\", \"inflation_adjusted_gross\": 215438985.0}, {\"movie_title\": \"Tangled\", \"release_date\": \"2010-11-24T00:00:00\", \"genre\": \"Adventure\", \"inflation_adjusted_gross\": 214388548.0}, {\"movie_title\": \"Thor: The Dark World\", \"release_date\": \"2013-11-08T00:00:00\", \"genre\": \"Adventure\", \"inflation_adjusted_gross\": 213962184.0}, {\"movie_title\": \"Lilo & Stitch\", \"release_date\": \"2002-06-21T00:00:00\", \"genre\": \"Adventure\", \"inflation_adjusted_gross\": 211506702.0}, {\"movie_title\": \"Dick Tracy\", \"release_date\": \"1990-06-15T00:00:00\", \"genre\": \"Action\", \"inflation_adjusted_gross\": 207231621.0}, {\"movie_title\": \"Wild Hogs\", \"release_date\": \"2007-03-02T00:00:00\", \"genre\": \"Comedy\", \"inflation_adjusted_gross\": 206110533.0}, {\"movie_title\": \"Cars 2\", \"release_date\": \"2011-06-24T00:00:00\", \"genre\": \"Adventure\", \"inflation_adjusted_gross\": 203522177.0}, {\"movie_title\": \"Dead Poets Society\", \"release_date\": \"1989-06-02T00:00:00\", \"genre\": \"Drama\", \"inflation_adjusted_gross\": 202531517.0}, {\"movie_title\": \"The Santa Clause 2\", \"release_date\": \"2002-11-01T00:00:00\", \"genre\": \"Comedy\", \"inflation_adjusted_gross\": 201959095.0}, {\"movie_title\": \"Cinderella\", \"release_date\": \"2015-03-13T00:00:00\", \"genre\": \"Drama\", \"inflation_adjusted_gross\": 201151353.0}, {\"movie_title\": \"Wreck-It Ralph\", \"release_date\": \"2012-11-02T00:00:00\", \"genre\": \"Adventure\", \"inflation_adjusted_gross\": 200354959.0}, {\"movie_title\": \"Phenomenon\", \"release_date\": \"1996-07-05T00:00:00\", \"genre\": \"Drama\", \"inflation_adjusted_gross\": 199559799.0}, {\"movie_title\": \"Enemy of the State\", \"release_date\": \"1998-11-20T00:00:00\", \"genre\": \"Action\", \"inflation_adjusted_gross\": 198472008.0}, {\"movie_title\": \"George Of The Jungle\", \"release_date\": \"1997-07-16T00:00:00\", \"genre\": \"Comedy\", \"inflation_adjusted_gross\": 193326632.0}, {\"movie_title\": \"Lincoln\", \"release_date\": \"2012-11-09T00:00:00\", \"genre\": \"Drama\", \"inflation_adjusted_gross\": 192122330.0}, {\"movie_title\": \"The Hunchback of Notre Dame\", \"release_date\": \"1996-06-21T00:00:00\", \"genre\": \"Adventure\", \"inflation_adjusted_gross\": 190988799.0}, {\"movie_title\": \"Con Air\", \"release_date\": \"1997-06-06T00:00:00\", \"genre\": \"Action\", \"inflation_adjusted_gross\": 185712664.0}, {\"movie_title\": \"Bringing Down the House\", \"release_date\": \"2003-03-07T00:00:00\", \"genre\": \"Comedy\", \"inflation_adjusted_gross\": 185481530.0}, {\"movie_title\": \"Sweet Home Alabama\", \"release_date\": \"2002-09-27T00:00:00\", \"genre\": \"Comedy\", \"inflation_adjusted_gross\": 184521151.0}, {\"movie_title\": \"The Proposal\", \"release_date\": \"2009-06-19T00:00:00\", \"genre\": \"Romantic Comedy\", \"inflation_adjusted_gross\": 184288829.0}, {\"movie_title\": \"Tron: Legacy\", \"release_date\": \"2010-12-17T00:00:00\", \"genre\": \"Adventure\", \"inflation_adjusted_gross\": 183619259.0}, {\"movie_title\": \"Hercules\", \"release_date\": \"1997-06-13T00:00:00\", \"genre\": \"Adventure\", \"inflation_adjusted_gross\": 182029412.0}, {\"movie_title\": \"Remember the Titans\", \"release_date\": \"2000-09-29T00:00:00\", \"genre\": \"Drama\", \"inflation_adjusted_gross\": 180742479.0}, {\"movie_title\": \"The Help\", \"release_date\": \"2011-08-10T00:00:00\", \"genre\": \"Drama\", \"inflation_adjusted_gross\": 180404976.0}, {\"movie_title\": \"Ant-Man\", \"release_date\": \"2015-07-17T00:00:00\", \"genre\": \"Action\", \"inflation_adjusted_gross\": 180202163.0}, {\"movie_title\": \"Father of the Bride\", \"release_date\": \"1991-12-20T00:00:00\", \"genre\": \"Comedy\", \"inflation_adjusted_gross\": 179821881.0}, {\"movie_title\": \"The Hand That Rocks the Cradle\", \"release_date\": \"1992-01-10T00:00:00\", \"genre\": \"Thriller/Suspense\", \"inflation_adjusted_gross\": 178831137.0}, {\"movie_title\": \"Chicken Little\", \"release_date\": \"2005-11-04T00:00:00\", \"genre\": \"Adventure\", \"inflation_adjusted_gross\": 177954661.0}, {\"movie_title\": \"Crimson Tide\", \"release_date\": \"1995-05-12T00:00:00\", \"genre\": \"Action\", \"inflation_adjusted_gross\": 177102077.0}, {\"movie_title\": \"Flubber\", \"release_date\": \"1997-11-26T00:00:00\", \"genre\": \"Comedy\", \"inflation_adjusted_gross\": 170406423.0}, {\"movie_title\": \"The Chronicles of Narnia: Prince Caspian\", \"release_date\": \"2008-05-16T00:00:00\", \"genre\": \"Adventure\", \"inflation_adjusted_gross\": 166277038.0}, {\"movie_title\": \"Dangerous Minds\", \"release_date\": \"1995-08-11T00:00:00\", \"genre\": \"Drama\", \"inflation_adjusted_gross\": 164552293.0}, {\"movie_title\": \"Ruthless People\", \"release_date\": \"1986-06-27T00:00:00\", \"genre\": \"Comedy\", \"inflation_adjusted_gross\": 162748712.0}, {\"movie_title\": \"Inspector Gadget\", \"release_date\": \"1999-07-23T00:00:00\", \"genre\": \"Comedy\", \"inflation_adjusted_gross\": 161610341.0}, {\"movie_title\": \"The Princess Diaries\", \"release_date\": \"2001-08-03T00:00:00\", \"genre\": \"Comedy\", \"inflation_adjusted_gross\": 161218928.0}, {\"movie_title\": \"Cocktail\", \"release_date\": \"1988-07-29T00:00:00\", \"genre\": \"Drama\", \"inflation_adjusted_gross\": 160442289.0}, {\"movie_title\": \"The Rescuers\", \"release_date\": \"1977-06-22T00:00:00\", \"genre\": \"Adventure\", \"inflation_adjusted_gross\": 159743914.0}, {\"movie_title\": \"Gone in 60 Seconds\", \"release_date\": \"2000-06-09T00:00:00\", \"genre\": \"Action\", \"inflation_adjusted_gross\": 158970411.0}, {\"movie_title\": \"Mr. Holland's Opus\", \"release_date\": \"1995-12-29T00:00:00\", \"genre\": \"Drama\", \"inflation_adjusted_gross\": 157508868.0}, {\"movie_title\": \"While You Were Sleeping\", \"release_date\": \"1995-04-21T00:00:00\", \"genre\": \"Romantic Comedy\", \"inflation_adjusted_gross\": 157082900.0}, {\"movie_title\": \"Splash\", \"release_date\": \"1984-03-09T00:00:00\", \"genre\": \"Comedy\", \"inflation_adjusted_gross\": 157057661.0}, {\"movie_title\": \"Enchanted\", \"release_date\": \"2007-11-21T00:00:00\", \"genre\": \"Romantic Comedy\", \"inflation_adjusted_gross\": 156074310.0}, {\"movie_title\": \"The Village\", \"release_date\": \"2004-07-30T00:00:00\", \"genre\": \"Thriller/Suspense\", \"inflation_adjusted_gross\": 155021748.0}, {\"movie_title\": \"Disney's A Christmas Carol\", \"release_date\": \"2009-11-06T00:00:00\", \"genre\": \"Drama\", \"inflation_adjusted_gross\": 154927105.0}, {\"movie_title\": \"Freaky Friday\", \"release_date\": \"2003-08-06T00:00:00\", \"genre\": \"Comedy\", \"inflation_adjusted_gross\": 154090360.0}, {\"movie_title\": \"The Sword in the Stone\", \"release_date\": \"1963-12-25T00:00:00\", \"genre\": \"Adventure\", \"inflation_adjusted_gross\": 153870834.0}, {\"movie_title\": \"Turner & Hooch\", \"release_date\": \"1989-07-28T00:00:00\", \"genre\": \"Comedy\", \"inflation_adjusted_gross\": 150176361.0}, {\"movie_title\": \"The Pacifier\", \"release_date\": \"2005-03-04T00:00:00\", \"genre\": \"Comedy\", \"inflation_adjusted_gross\": 148619029.0}, {\"movie_title\": \"Unbreakable\", \"release_date\": \"2000-11-22T00:00:00\", \"genre\": \"Thriller/Suspense\", \"inflation_adjusted_gross\": 148208901.0}, {\"movie_title\": \"Father of the Bride Part II\", \"release_date\": \"1995-12-08T00:00:00\", \"genre\": \"Comedy\", \"inflation_adjusted_gross\": 147658438.0}, {\"movie_title\": \"3 Men and a Little Lady\", \"release_date\": \"1990-11-21T00:00:00\", \"genre\": \"Comedy\", \"inflation_adjusted_gross\": 143108869.0}, {\"movie_title\": \"Stakeout\", \"release_date\": \"1987-08-05T00:00:00\", \"genre\": \"Comedy\", \"inflation_adjusted_gross\": 141592160.0}, {\"movie_title\": \"Down and Out in Beverly Hills\", \"release_date\": \"1986-01-31T00:00:00\", \"genre\": \"Comedy\", \"inflation_adjusted_gross\": 141183693.0}, {\"movie_title\": \"Cool Runnings\", \"release_date\": \"1993-10-01T00:00:00\", \"genre\": \"Comedy\", \"inflation_adjusted_gross\": 140392731.0}, {\"movie_title\": \"Blackbeard's Ghost\", \"release_date\": \"1968-02-08T00:00:00\", \"genre\": \"Comedy\", \"inflation_adjusted_gross\": 138612686.0}, {\"movie_title\": \"The Emperor's New Groove\", \"release_date\": \"2000-12-15T00:00:00\", \"genre\": \"Adventure\", \"inflation_adjusted_gross\": 136789252.0}, {\"movie_title\": \"The Horse Whisperer\", \"release_date\": \"1998-05-15T00:00:00\", \"genre\": \"Drama\", \"inflation_adjusted_gross\": 135497531.0}, {\"movie_title\": \"G-Force\", \"release_date\": \"2009-07-24T00:00:00\", \"genre\": \"Adventure\", \"inflation_adjusted_gross\": 134246932.0}, {\"movie_title\": \"Bolt\", \"release_date\": \"2008-11-21T00:00:00\", \"genre\": \"Comedy\", \"inflation_adjusted_gross\": 133702498.0}, {\"movie_title\": \"Six Days, Seven Nights\", \"release_date\": \"1998-06-12T00:00:00\", \"genre\": \"Romantic Comedy\", \"inflation_adjusted_gross\": 133620516.0}, {\"movie_title\": \"The Fox and the Hound\", \"release_date\": \"1981-07-10T00:00:00\", \"genre\": \"Comedy\", \"inflation_adjusted_gross\": 133118889.0}, {\"movie_title\": \"The Apple Dumpling Gang\", \"release_date\": \"1975-07-01T00:00:00\", \"genre\": \"Comedy\", \"inflation_adjusted_gross\": 131246872.0}, {\"movie_title\": \"Into the Woods\", \"release_date\": \"2014-12-25T00:00:00\", \"genre\": \"Musical\", \"inflation_adjusted_gross\": 130894237.0}, {\"movie_title\": \"The Princess Diaries 2: Royal Engagement\", \"release_date\": \"2004-08-11T00:00:00\", \"genre\": \"Romantic Comedy\", \"inflation_adjusted_gross\": 129164207.0}, {\"movie_title\": \"Bedtime Stories\", \"release_date\": \"2008-12-25T00:00:00\", \"genre\": \"Comedy\", \"inflation_adjusted_gross\": 128039679.0}, {\"movie_title\": \"What About Bob?\", \"release_date\": \"1991-05-17T00:00:00\", \"genre\": \"Comedy\", \"inflation_adjusted_gross\": 127571325.0}, {\"movie_title\": \"Atlantis: The Lost Empire\", \"release_date\": \"2001-06-08T00:00:00\", \"genre\": \"Adventure\", \"inflation_adjusted_gross\": 125188122.0}, {\"movie_title\": \"Babes in Toyland\", \"release_date\": \"1961-12-14T00:00:00\", \"genre\": \"Musical\", \"inflation_adjusted_gross\": 124841160.0}, {\"movie_title\": \"The Good Dinosaur\", \"release_date\": \"2015-11-25T00:00:00\", \"genre\": \"Adventure\", \"inflation_adjusted_gross\": 123087120.0}, {\"movie_title\": \"Beaches\", \"release_date\": \"1988-12-21T00:00:00\", \"genre\": \"Drama\", \"inflation_adjusted_gross\": 120381757.0}, {\"movie_title\": \"Meet the Robinsons\", \"release_date\": \"2007-03-30T00:00:00\", \"genre\": \"Adventure\", \"inflation_adjusted_gross\": 119860589.0}, {\"movie_title\": \"Brother Bear\", \"release_date\": \"2003-10-24T00:00:00\", \"genre\": \"Adventure\", \"inflation_adjusted_gross\": 119218333.0}, {\"movie_title\": \"The Parent Trap\", \"release_date\": \"1998-07-29T00:00:00\", \"genre\": \"Comedy\", \"inflation_adjusted_gross\": 119185667.0}, {\"movie_title\": \"Honey I Blew Up the Kid\", \"release_date\": \"1992-07-17T00:00:00\", \"genre\": \"Comedy\", \"inflation_adjusted_gross\": 119162518.0}, {\"movie_title\": \"Flightplan\", \"release_date\": \"2005-09-23T00:00:00\", \"genre\": \"Thriller/Suspense\", \"inflation_adjusted_gross\": 117960425.0}, {\"movie_title\": \"The Color of Money\", \"release_date\": \"1986-10-17T00:00:00\", \"genre\": \"Drama\", \"inflation_adjusted_gross\": 117957323.0}, {\"movie_title\": \"Snow Dogs\", \"release_date\": \"2002-01-18T00:00:00\", \"genre\": \"Comedy\", \"inflation_adjusted_gross\": 117745317.0}, {\"movie_title\": \"Sister Act 2 Back in the Habit\", \"release_date\": \"1993-12-10T00:00:00\", \"genre\": \"Comedy\", \"inflation_adjusted_gross\": 116965668.0}, {\"movie_title\": \"The Princess and the Frog\", \"release_date\": \"2009-11-25T00:00:00\", \"genre\": \"Adventure\", \"inflation_adjusted_gross\": 116316457.0}, {\"movie_title\": \"Tombstone\", \"release_date\": \"1993-12-25T00:00:00\", \"genre\": \"Western\", \"inflation_adjusted_gross\": 115781734.0}, {\"movie_title\": \"Outrageous Fortune\", \"release_date\": \"1987-01-30T00:00:00\", \"genre\": \"Comedy\", \"inflation_adjusted_gross\": 113976921.0}, {\"movie_title\": \"Jack\", \"release_date\": \"1996-08-09T00:00:00\", \"genre\": \"Drama\", \"inflation_adjusted_gross\": 111792852.0}, {\"movie_title\": \"The Game Plan\", \"release_date\": \"2007-09-22T00:00:00\", \"genre\": \"Comedy\", \"inflation_adjusted_gross\": 111010758.0}, {\"movie_title\": \"Beverly Hills Chihuahua\", \"release_date\": \"2008-10-03T00:00:00\", \"genre\": \"Comedy\", \"inflation_adjusted_gross\": 110932022.0}, {\"movie_title\": \"Jungle 2 Jungle\", \"release_date\": \"1997-03-07T00:00:00\", \"genre\": \"Comedy\", \"inflation_adjusted_gross\": 110058379.0}, {\"movie_title\": \"The Rookie\", \"release_date\": \"2002-03-29T00:00:00\", \"genre\": \"Drama\", \"inflation_adjusted_gross\": 109691666.0}, {\"movie_title\": \"Bon Voyage!\", \"release_date\": \"1962-05-17T00:00:00\", \"genre\": \"Comedy\", \"inflation_adjusted_gross\": 109581646.0}, {\"movie_title\": \"The Three Musketeers\", \"release_date\": \"1993-11-12T00:00:00\", \"genre\": \"Adventure\", \"inflation_adjusted_gross\": 109310377.0}, {\"movie_title\": \"The Kid\", \"release_date\": \"2000-07-07T00:00:00\", \"genre\": \"Comedy\", \"inflation_adjusted_gross\": 108993148.0}, {\"movie_title\": \"The Santa Clause 3: The Escape Clause\", \"release_date\": \"2006-11-03T00:00:00\", \"genre\": \"Comedy\", \"inflation_adjusted_gross\": 108694869.0}, {\"movie_title\": \"Deuce Bigalow: Male Gigolo\", \"release_date\": \"1999-12-10T00:00:00\", \"genre\": \"Comedy\", \"inflation_adjusted_gross\": 106921374.0}, {\"movie_title\": \"High School Musical 3: Senior Year\", \"release_date\": \"2008-10-24T00:00:00\", \"genre\": \"Musical\", \"inflation_adjusted_gross\": 106308538.0}, {\"movie_title\": \"Arachnophobia\", \"release_date\": \"1990-07-18T00:00:00\", \"genre\": \"Thriller/Suspense\", \"inflation_adjusted_gross\": 106290270.0}, {\"movie_title\": \"Gnomeo and Juliet\", \"release_date\": \"2011-02-11T00:00:00\", \"genre\": \"Comedy\", \"inflation_adjusted_gross\": 106270797.0}, {\"movie_title\": \"The Haunted Mansion\", \"release_date\": \"2003-11-26T00:00:00\", \"genre\": \"Comedy\", \"inflation_adjusted_gross\": 105775678.0}, {\"movie_title\": \"Eight Below\", \"release_date\": \"2006-02-17T00:00:00\", \"genre\": \"Adventure\", \"inflation_adjusted_gross\": 105037235.0}, {\"movie_title\": \"102 Dalmatians\", \"release_date\": \"2000-11-22T00:00:00\", \"genre\": \"Comedy\", \"inflation_adjusted_gross\": 104055039.0}, {\"movie_title\": \"Angels in the Outfield\", \"release_date\": \"1994-07-15T00:00:00\", \"genre\": \"Comedy\", \"inflation_adjusted_gross\": 103798152.0}, {\"movie_title\": \"When a Man Loves a Woman\", \"release_date\": \"1994-04-29T00:00:00\", \"genre\": \"Drama\", \"inflation_adjusted_gross\": 103354194.0}, {\"movie_title\": \"The Mighty Ducks\", \"release_date\": \"1992-10-02T00:00:00\", \"genre\": \"Comedy\", \"inflation_adjusted_gross\": 103120810.0}, {\"movie_title\": \"Oliver & Company\", \"release_date\": \"1988-11-18T00:00:00\", \"genre\": \"Adventure\", \"inflation_adjusted_gross\": 102254492.0}, {\"movie_title\": \"The Boatniks\", \"release_date\": \"1970-07-01T00:00:00\", \"genre\": \"Comedy\", \"inflation_adjusted_gross\": 101200742.0}, {\"movie_title\": \"Ladder 49\", \"release_date\": \"2004-10-01T00:00:00\", \"genre\": \"Action\", \"inflation_adjusted_gross\": 101161045.0}, {\"movie_title\": \"Bridge to Terabithia\", \"release_date\": \"2007-02-16T00:00:00\", \"genre\": \"Drama\", \"inflation_adjusted_gross\": 100760721.0}, {\"movie_title\": \"The Nightmare Before Christmas\", \"release_date\": \"1993-10-13T00:00:00\", \"genre\": \"Musical\", \"inflation_adjusted_gross\": 100026637.0}, {\"movie_title\": \"Freaky Friday\", \"release_date\": \"1977-01-21T00:00:00\", \"genre\": \"Comedy\", \"inflation_adjusted_gross\": 98067733.0}, {\"movie_title\": \"Up Close & Personal\", \"release_date\": \"1996-03-01T00:00:00\", \"genre\": \"Drama\", \"inflation_adjusted_gross\": 97356578.0}, {\"movie_title\": \"Prince of Persia: Sands of Time\", \"release_date\": \"2010-05-28T00:00:00\", \"genre\": \"Action\", \"inflation_adjusted_gross\": 96971361.0}, {\"movie_title\": \"Mission to Mars\", \"release_date\": \"2000-03-10T00:00:00\", \"genre\": \"Adventure\", \"inflation_adjusted_gross\": 95208344.0}, {\"movie_title\": \"Coyote Ugly\", \"release_date\": \"2000-08-04T00:00:00\", \"genre\": \"Drama\", \"inflation_adjusted_gross\": 95070168.0}, {\"movie_title\": \"Fantasia 2000 (IMAX)\", \"release_date\": \"2000-01-01T00:00:00\", \"genre\": \"Musical\", \"inflation_adjusted_gross\": 94852354.0}, {\"movie_title\": \"Bicentennial Man\", \"release_date\": \"1999-12-17T00:00:00\", \"genre\": \"Drama\", \"inflation_adjusted_gross\": 94838225.0}, {\"movie_title\": \"The Distinguished Gentleman\", \"release_date\": \"1992-12-04T00:00:00\", \"genre\": \"Comedy\", \"inflation_adjusted_gross\": 94349900.0}, {\"movie_title\": \"D2: The Mighty Ducks\", \"release_date\": \"1994-03-25T00:00:00\", \"genre\": \"Comedy\", \"inflation_adjusted_gross\": 94226333.0}, {\"movie_title\": \"Holes\", \"release_date\": \"2003-04-18T00:00:00\", \"genre\": \"Drama\", \"inflation_adjusted_gross\": 94203395.0}, {\"movie_title\": \"The Muppets\", \"release_date\": \"2011-11-23T00:00:00\", \"genre\": \"Comedy\", \"inflation_adjusted_gross\": 94189503.0}, {\"movie_title\": \"A Civil Action\", \"release_date\": \"1998-12-25T00:00:00\", \"genre\": \"Drama\", \"inflation_adjusted_gross\": 94139530.0}, {\"movie_title\": \"Disney Planes\", \"release_date\": \"2013-08-09T00:00:00\", \"genre\": \"Comedy\", \"inflation_adjusted_gross\": 93614037.0}, {\"movie_title\": \"Tomorrowland\", \"release_date\": \"2015-05-22T00:00:00\", \"genre\": \"Adventure\", \"inflation_adjusted_gross\": 93436322.0}, {\"movie_title\": \"The Rocketeer\", \"release_date\": \"1991-06-21T00:00:00\", \"genre\": \"Action\", \"inflation_adjusted_gross\": 93256673.0}, {\"movie_title\": \"The Lone Ranger\", \"release_date\": \"2013-07-02T00:00:00\", \"genre\": \"Western\", \"inflation_adjusted_gross\": 92597388.0}, {\"movie_title\": \"Evita\", \"release_date\": \"1996-12-25T00:00:00\", \"genre\": \"Musical\", \"inflation_adjusted_gross\": 92077628.0}, {\"movie_title\": \"Hidalgo\", \"release_date\": \"2004-03-05T00:00:00\", \"genre\": \"Western\", \"inflation_adjusted_gross\": 91340921.0}, {\"movie_title\": \"Bedknobs and Broomsticks\", \"release_date\": \"1971-10-07T00:00:00\", \"genre\": \"Musical\", \"inflation_adjusted_gross\": 91305448.0}, {\"movie_title\": \"Medicine Man\", \"release_date\": \"1992-02-07T00:00:00\", \"genre\": \"Drama\", \"inflation_adjusted_gross\": 91304495.0}, {\"movie_title\": \"The Preacher's Wife\", \"release_date\": \"1996-12-13T00:00:00\", \"genre\": \"Drama\", \"inflation_adjusted_gross\": 91076877.0}, {\"movie_title\": \"Real Steel\", \"release_date\": \"2011-10-07T00:00:00\", \"genre\": \"Action\", \"inflation_adjusted_gross\": 90848019.0}, {\"movie_title\": \"Hannah Montana the Movie\", \"release_date\": \"2009-04-10T00:00:00\", \"genre\": \"Drama\", \"inflation_adjusted_gross\": 89443640.0}, {\"movie_title\": \"Shanghai Noon\", \"release_date\": \"2000-05-26T00:00:00\", \"genre\": \"Western\", \"inflation_adjusted_gross\": 89042541.0}, {\"movie_title\": \"The Jungle Book\", \"release_date\": \"1994-12-25T00:00:00\", \"genre\": \"Adventure\", \"inflation_adjusted_gross\": 88930321.0}, {\"movie_title\": \"G.I. Jane\", \"release_date\": \"1997-08-22T00:00:00\", \"genre\": \"Drama\", \"inflation_adjusted_gross\": 88467531.0}, {\"movie_title\": \"Mighty Joe Young\", \"release_date\": \"1998-12-25T00:00:00\", \"genre\": \"Adventure\", \"inflation_adjusted_gross\": 87906042.0}, {\"movie_title\": \"Miracle\", \"release_date\": \"2004-02-06T00:00:00\", \"genre\": \"Drama\", \"inflation_adjusted_gross\": 87392478.0}, {\"movie_title\": \"Herbie: Fully Loaded\", \"release_date\": \"2005-06-22T00:00:00\", \"genre\": \"Comedy\", \"inflation_adjusted_gross\": 86812798.0}, {\"movie_title\": \"Saving Mr. Banks\", \"release_date\": \"2013-12-13T00:00:00\", \"genre\": \"Drama\", \"inflation_adjusted_gross\": 86249969.0}, {\"movie_title\": \"Three Fugitives\", \"release_date\": \"1989-01-27T00:00:00\", \"genre\": \"Comedy\", \"inflation_adjusted_gross\": 85757817.0}, {\"movie_title\": \"Homeward Bound: The Incredible Journey\", \"release_date\": \"1993-02-03T00:00:00\", \"genre\": \"Adventure\", \"inflation_adjusted_gross\": 85182343.0}, {\"movie_title\": \"War Horse\", \"release_date\": \"2011-12-25T00:00:00\", \"genre\": \"Drama\", \"inflation_adjusted_gross\": 84762149.0}, {\"movie_title\": \"Shanghai Knights\", \"release_date\": \"2003-02-07T00:00:00\", \"genre\": \"Adventure\", \"inflation_adjusted_gross\": 84537962.0}, {\"movie_title\": \"Sky High\", \"release_date\": \"2005-07-29T00:00:00\", \"genre\": \"Adventure\", \"inflation_adjusted_gross\": 84088854.0}, {\"movie_title\": \"Step Up\", \"release_date\": \"2006-08-11T00:00:00\", \"genre\": \"Drama\", \"inflation_adjusted_gross\": 84078780.0}, {\"movie_title\": \"Big Business\", \"release_date\": \"1988-06-10T00:00:00\", \"genre\": \"Comedy\", \"inflation_adjusted_gross\": 82352451.0}, {\"movie_title\": \"D\\u00e9j\\u00e0 Vu\", \"release_date\": \"2006-11-22T00:00:00\", \"genre\": \"Thriller/Suspense\", \"inflation_adjusted_gross\": 82267038.0}, {\"movie_title\": \"Nothing To Lose\", \"release_date\": \"1997-07-18T00:00:00\", \"genre\": \"Comedy\", \"inflation_adjusted_gross\": 81692095.0}, {\"movie_title\": \"Open Range\", \"release_date\": \"2003-08-15T00:00:00\", \"genre\": \"Western\", \"inflation_adjusted_gross\": 81547672.0}, {\"movie_title\": \"Encino Man\", \"release_date\": \"1992-05-22T00:00:00\", \"genre\": \"Comedy\", \"inflation_adjusted_gross\": 81369058.0}, {\"movie_title\": \"Hocus Pocus\", \"release_date\": \"1993-07-16T00:00:00\", \"genre\": \"Comedy\", \"inflation_adjusted_gross\": 80147079.0}, {\"movie_title\": \"What's Love Got to Do With It\", \"release_date\": \"1993-06-09T00:00:00\", \"genre\": \"Drama\", \"inflation_adjusted_gross\": 79618610.0}, {\"movie_title\": \"The Count of Monte Cristo\", \"release_date\": \"2002-01-25T00:00:00\", \"genre\": \"Drama\", \"inflation_adjusted_gross\": 78682079.0}, {\"movie_title\": \"The Shaggy Dog\", \"release_date\": \"2006-03-10T00:00:00\", \"genre\": \"Comedy\", \"inflation_adjusted_gross\": 78667428.0}, {\"movie_title\": \"Man of the House\", \"release_date\": \"1995-03-03T00:00:00\", \"genre\": \"Comedy\", \"inflation_adjusted_gross\": 77573459.0}, {\"movie_title\": \"John Carter\", \"release_date\": \"2012-03-09T00:00:00\", \"genre\": \"Adventure\", \"inflation_adjusted_gross\": 77372445.0}, {\"movie_title\": \"Tron\", \"release_date\": \"1982-07-09T00:00:00\", \"genre\": \"Action\", \"inflation_adjusted_gross\": 77184895.0}, {\"movie_title\": \"Alice Through the Looking Glass\", \"release_date\": \"2016-05-27T00:00:00\", \"genre\": \"Adventure\", \"inflation_adjusted_gross\": 77042381.0}, {\"movie_title\": \"The Royal Tenenbaums\", \"release_date\": \"2001-12-14T00:00:00\", \"genre\": \"Black Comedy\", \"inflation_adjusted_gross\": 76758193.0}, {\"movie_title\": \"Hannah Montana/Miley Cyrus: Best of B\\u2026\", \"release_date\": \"2008-02-01T00:00:00\", \"genre\": \"Concert/Performance\", \"inflation_adjusted_gross\": 76646993.0}, {\"movie_title\": \"Pete\\u2019s Dragon\", \"release_date\": \"2016-08-12T00:00:00\", \"genre\": \"Adventure\", \"inflation_adjusted_gross\": 76233151.0}, {\"movie_title\": \"Race to Witch Mountain\", \"release_date\": \"2009-03-13T00:00:00\", \"genre\": \"Adventure\", \"inflation_adjusted_gross\": 75501997.0}, {\"movie_title\": \"The Doctor\", \"release_date\": \"1991-07-24T00:00:00\", \"genre\": \"Drama\", \"inflation_adjusted_gross\": 75084021.0}, {\"movie_title\": \"Invincible\", \"release_date\": \"2006-08-25T00:00:00\", \"genre\": \"Drama\", \"inflation_adjusted_gross\": 74398864.0}, {\"movie_title\": \"Alive\", \"release_date\": \"1993-01-15T00:00:00\", \"genre\": \"Adventure\", \"inflation_adjusted_gross\": 73914543.0}, {\"movie_title\": \"The Recruit\", \"release_date\": \"2003-01-31T00:00:00\", \"genre\": \"Thriller/Suspense\", \"inflation_adjusted_gross\": 73793522.0}, {\"movie_title\": \"Adventures in Babysitting\", \"release_date\": \"1987-07-03T00:00:00\", \"genre\": \"Comedy\", \"inflation_adjusted_gross\": 72853569.0}, {\"movie_title\": \"Bridge of Spies\", \"release_date\": \"2015-10-16T00:00:00\", \"genre\": \"Thriller/Suspense\", \"inflation_adjusted_gross\": 72313754.0}, {\"movie_title\": \"The Tigger Movie\", \"release_date\": \"2000-02-11T00:00:00\", \"genre\": \"Adventure\", \"inflation_adjusted_gross\": 71228678.0}, {\"movie_title\": \"The Guardian\", \"release_date\": \"2006-09-29T00:00:00\", \"genre\": \"Action\", \"inflation_adjusted_gross\": 70801353.0}, {\"movie_title\": \"Never Cry Wolf\", \"release_date\": \"1983-10-07T00:00:00\", \"genre\": \"Drama\", \"inflation_adjusted_gross\": 70669955.0}, {\"movie_title\": \"King Arthur\", \"release_date\": \"2004-07-07T00:00:00\", \"genre\": \"Adventure\", \"inflation_adjusted_gross\": 70423706.0}, {\"movie_title\": \"Peter Pan: Return to Neverland\", \"release_date\": \"2002-02-15T00:00:00\", \"genre\": \"Adventure\", \"inflation_adjusted_gross\": 70269715.0}, {\"movie_title\": \"White Fang\", \"release_date\": \"1991-01-18T00:00:00\", \"genre\": \"Adventure\", \"inflation_adjusted_gross\": 69540672.0}, {\"movie_title\": \"Alexander and the Terrible, Horrible,\\u2026\", \"release_date\": \"2014-10-10T00:00:00\", \"genre\": \"Comedy\", \"inflation_adjusted_gross\": 69055550.0}, {\"movie_title\": \"A Goofy Movie\", \"release_date\": \"1995-04-07T00:00:00\", \"genre\": \"Comedy\", \"inflation_adjusted_gross\": 68479579.0}, {\"movie_title\": \"The Prestige\", \"release_date\": \"2006-10-20T00:00:00\", \"genre\": \"Thriller/Suspense\", \"inflation_adjusted_gross\": 68289913.0}, {\"movie_title\": \"Can't Buy Me Love\", \"release_date\": \"1987-08-14T00:00:00\", \"genre\": \"Romantic Comedy\", \"inflation_adjusted_gross\": 68181300.0}, {\"movie_title\": \"Step Up 2 the Streets\", \"release_date\": \"2008-02-14T00:00:00\", \"genre\": \"Drama\", \"inflation_adjusted_gross\": 68118371.0}, {\"movie_title\": \"O Brother, Where Art Thou?\", \"release_date\": \"2000-12-22T00:00:00\", \"genre\": \"Comedy\", \"inflation_adjusted_gross\": 67922002.0}, {\"movie_title\": \"Home on the Range\", \"release_date\": \"2004-04-02T00:00:00\", \"genre\": \"Comedy\", \"inflation_adjusted_gross\": 67910166.0}, {\"movie_title\": \"The Sorcerer's Apprentice\", \"release_date\": \"2010-07-14T00:00:00\", \"genre\": \"Adventure\", \"inflation_adjusted_gross\": 67473105.0}, {\"movie_title\": \"The Last Song\", \"release_date\": \"2010-03-31T00:00:00\", \"genre\": \"Drama\", \"inflation_adjusted_gross\": 67258772.0}, {\"movie_title\": \"Judge Dredd\", \"release_date\": \"1995-06-30T00:00:00\", \"genre\": \"Action\", \"inflation_adjusted_gross\": 67222776.0}, {\"movie_title\": \"The Hitchhiker's Guide to the Galaxy\", \"release_date\": \"2005-04-29T00:00:00\", \"genre\": \"Comedy\", \"inflation_adjusted_gross\": 67096891.0}, {\"movie_title\": \"The Jungle Book 2\", \"release_date\": \"2003-02-14T00:00:00\", \"genre\": \"Adventure\", \"inflation_adjusted_gross\": 66966883.0}, {\"movie_title\": \"The Joy Luck Club\", \"release_date\": \"1993-09-08T00:00:00\", \"genre\": \"Drama\", \"inflation_adjusted_gross\": 66768171.0}, {\"movie_title\": \"Muppet Treasure Island\", \"release_date\": \"1996-02-16T00:00:00\", \"genre\": \"Adventure\", \"inflation_adjusted_gross\": 65470567.0}, {\"movie_title\": \"Apocalypto\", \"release_date\": \"2006-12-08T00:00:00\", \"genre\": \"Adventure\", \"inflation_adjusted_gross\": 64959548.0}, {\"movie_title\": \"Secretariat\", \"release_date\": \"2010-10-08T00:00:00\", \"genre\": \"Drama\", \"inflation_adjusted_gross\": 63781920.0}, {\"movie_title\": \"I Love Trouble\", \"release_date\": \"1994-06-29T00:00:00\", \"genre\": \"Romantic Comedy\", \"inflation_adjusted_gross\": 63651027.0}, {\"movie_title\": \"Ten Things I Hate About You\", \"release_date\": \"1999-03-31T00:00:00\", \"genre\": \"Romantic Comedy\", \"inflation_adjusted_gross\": 63354375.0}, {\"movie_title\": \"Blank Check\", \"release_date\": \"1994-02-11T00:00:00\", \"genre\": \"Comedy\", \"inflation_adjusted_gross\": 63170804.0}, {\"movie_title\": \"Reign of Fire\", \"release_date\": \"2002-02-19T00:00:00\", \"genre\": \"Action\", \"inflation_adjusted_gross\": 62480631.0}, {\"movie_title\": \"Homeward Bound II: Lost in San Franc\\u2026\", \"release_date\": \"1996-03-08T00:00:00\", \"genre\": \"Adventure\", \"inflation_adjusted_gross\": 62384706.0}, {\"movie_title\": \"My Favorite Martian\", \"release_date\": \"1999-02-12T00:00:00\", \"genre\": \"Comedy\", \"inflation_adjusted_gross\": 61150849.0}, {\"movie_title\": \"Planes: Fire and Rescue\", \"release_date\": \"2014-07-18T00:00:00\", \"genre\": \"Adventure\", \"inflation_adjusted_gross\": 61040349.0}, {\"movie_title\": \"Under the Tuscan Sun\", \"release_date\": \"2003-09-26T00:00:00\", \"genre\": \"Comedy\", \"inflation_adjusted_gross\": 60944053.0}, {\"movie_title\": \"A Low Down Dirty Shame\", \"release_date\": \"1994-11-23T00:00:00\", \"genre\": \"Action\", \"inflation_adjusted_gross\": 60321919.0}, {\"movie_title\": \"Shoot to Kill\", \"release_date\": \"1988-02-12T00:00:00\", \"genre\": \"Action\", \"inflation_adjusted_gross\": 60097074.0}, {\"movie_title\": \"Eddie\", \"release_date\": \"1996-05-31T00:00:00\", \"genre\": \"Comedy\", \"inflation_adjusted_gross\": 59828966.0}, {\"movie_title\": \"The Lizzie McGuire Movie\", \"release_date\": \"2003-05-02T00:00:00\", \"genre\": \"Comedy\", \"inflation_adjusted_gross\": 59743191.0}, {\"movie_title\": \"Powder\", \"release_date\": \"1995-10-27T00:00:00\", \"genre\": \"Drama\", \"inflation_adjusted_gross\": 59727216.0}, {\"movie_title\": \"Green Card\", \"release_date\": \"1990-12-25T00:00:00\", \"genre\": \"Romantic Comedy\", \"inflation_adjusted_gross\": 59679131.0}, {\"movie_title\": \"In the Army Now\", \"release_date\": \"1994-08-12T00:00:00\", \"genre\": \"Comedy\", \"inflation_adjusted_gross\": 59673787.0}, {\"movie_title\": \"3 Ninjas\", \"release_date\": \"1992-08-07T00:00:00\", \"genre\": \"Action\", \"inflation_adjusted_gross\": 58965304.0}, {\"movie_title\": \"Metro\", \"release_date\": \"1997-01-17T00:00:00\", \"genre\": \"Action\", \"inflation_adjusted_gross\": 58804106.0}, {\"movie_title\": \"I am Number Four\", \"release_date\": \"2011-02-18T00:00:00\", \"genre\": \"Adventure\", \"inflation_adjusted_gross\": 58574607.0}, {\"movie_title\": \"Dan in Real Life\", \"release_date\": \"2007-10-20T00:00:00\", \"genre\": \"Romantic Comedy\", \"inflation_adjusted_gross\": 58350234.0}, {\"movie_title\": \"Keeping the Faith\", \"release_date\": \"2000-04-14T00:00:00\", \"genre\": \"Romantic Comedy\", \"inflation_adjusted_gross\": 57925202.0}, {\"movie_title\": \"Ernest Saves Christmas\", \"release_date\": \"1988-11-11T00:00:00\", \"genre\": \"Comedy\", \"inflation_adjusted_gross\": 57845202.0}, {\"movie_title\": \"Deceived\", \"release_date\": \"1991-09-27T00:00:00\", \"genre\": \"Thriller/Suspense\", \"inflation_adjusted_gross\": 57544453.0}, {\"movie_title\": \"Instinct\", \"release_date\": \"1999-06-04T00:00:00\", \"genre\": \"Drama\", \"inflation_adjusted_gross\": 56595842.0}, {\"movie_title\": \"The Hundred-Foot Journey\", \"release_date\": \"2014-08-08T00:00:00\", \"genre\": \"Romantic Comedy\", \"inflation_adjusted_gross\": 55961409.0}, {\"movie_title\": \"The Rescuers Down Under\", \"release_date\": \"1990-11-16T00:00:00\", \"genre\": \"Adventure\", \"inflation_adjusted_gross\": 55796728.0}, {\"movie_title\": \"Old Dogs\", \"release_date\": \"2009-11-25T00:00:00\", \"genre\": \"Comedy\", \"inflation_adjusted_gross\": 55503929.0}, {\"movie_title\": \"The BFG\", \"release_date\": \"2016-07-01T00:00:00\", \"genre\": \"Adventure\", \"inflation_adjusted_gross\": 55483770.0}, {\"movie_title\": \"The Muppet Christmas Carol\", \"release_date\": \"1992-12-11T00:00:00\", \"genre\": \"Comedy\", \"inflation_adjusted_gross\": 55417615.0}, {\"movie_title\": \"Treasure Planet\", \"release_date\": \"2002-11-27T00:00:00\", \"genre\": \"Adventure\", \"inflation_adjusted_gross\": 55189145.0}, {\"movie_title\": \"James and the Giant Peach\", \"release_date\": \"1996-04-12T00:00:00\", \"genre\": \"Adventure\", \"inflation_adjusted_gross\": 55159783.0}, {\"movie_title\": \"The Odd Life of Timothy Green\", \"release_date\": \"2012-08-15T00:00:00\", \"genre\": \"Drama\", \"inflation_adjusted_gross\": 54914942.0}, {\"movie_title\": \"Glory Road\", \"release_date\": \"2006-01-13T00:00:00\", \"genre\": \"Drama\", \"inflation_adjusted_gross\": 54888236.0}, {\"movie_title\": \"Tin Men\", \"release_date\": \"1987-03-06T00:00:00\", \"genre\": \"Comedy\", \"inflation_adjusted_gross\": 54787202.0}, {\"movie_title\": \"Recess: School's Out\", \"release_date\": \"2001-02-16T00:00:00\", \"genre\": \"Comedy\", \"inflation_adjusted_gross\": 54656124.0}, {\"movie_title\": \"The 13th Warrior\", \"release_date\": \"1999-08-27T00:00:00\", \"genre\": \"Action\", \"inflation_adjusted_gross\": 54262148.0}, {\"movie_title\": \"The Ladykillers\", \"release_date\": \"2004-03-26T00:00:00\", \"genre\": \"Comedy\", \"inflation_adjusted_gross\": 53881593.0}, {\"movie_title\": \"Romy and Michele's High School Reunion\", \"release_date\": \"1997-04-25T00:00:00\", \"genre\": \"Comedy\", \"inflation_adjusted_gross\": 53693680.0}, {\"movie_title\": \"The Great Mouse Detective\", \"release_date\": \"1986-07-02T00:00:00\", \"genre\": \"Adventure\", \"inflation_adjusted_gross\": 53637367.0}, {\"movie_title\": \"Underdog\", \"release_date\": \"2007-08-03T00:00:00\", \"genre\": \"Adventure\", \"inflation_adjusted_gross\": 53619462.0}, {\"movie_title\": \"College Road Trip\", \"release_date\": \"2008-03-07T00:00:00\", \"genre\": \"Comedy\", \"inflation_adjusted_gross\": 53550960.0}, {\"movie_title\": \"Son in Law\", \"release_date\": \"1993-07-02T00:00:00\", \"genre\": \"Comedy\", \"inflation_adjusted_gross\": 52921433.0}, {\"movie_title\": \"Muppets Most Wanted\", \"release_date\": \"2014-03-21T00:00:00\", \"genre\": \"Comedy\", \"inflation_adjusted_gross\": 52807594.0}, {\"movie_title\": \"Grosse Pointe Blank\", \"release_date\": \"1997-04-11T00:00:00\", \"genre\": \"Black Comedy\", \"inflation_adjusted_gross\": 51579764.0}, {\"movie_title\": \"Spy Hard\", \"release_date\": \"1996-05-24T00:00:00\", \"genre\": \"Comedy\", \"inflation_adjusted_gross\": 51373912.0}, {\"movie_title\": \"Houseguest\", \"release_date\": \"1995-01-06T00:00:00\", \"genre\": \"Comedy\", \"inflation_adjusted_gross\": 51016522.0}, {\"movie_title\": \"Raising Helen\", \"release_date\": \"2004-05-28T00:00:00\", \"genre\": \"Comedy\", \"inflation_adjusted_gross\": 50886144.0}, {\"movie_title\": \"Quiz Show\", \"release_date\": \"1994-09-14T00:00:00\", \"genre\": \"Drama\", \"inflation_adjusted_gross\": 50840394.0}, {\"movie_title\": \"Ernest Goes to Camp\", \"release_date\": \"1987-05-22T00:00:00\", \"genre\": \"Comedy\", \"inflation_adjusted_gross\": 50686462.0}, {\"movie_title\": \"The Hot Chick\", \"release_date\": \"2002-12-13T00:00:00\", \"genre\": \"Comedy\", \"inflation_adjusted_gross\": 50624654.0}, {\"movie_title\": \"The Black Cauldron\", \"release_date\": \"1985-07-24T00:00:00\", \"genre\": \"Adventure\", \"inflation_adjusted_gross\": 50553142.0}, {\"movie_title\": \"First Kid\", \"release_date\": \"1996-08-30T00:00:00\", \"genre\": \"Comedy\", \"inflation_adjusted_gross\": 50465108.0}, {\"movie_title\": \"Ernest Goes to Jail\", \"release_date\": \"1990-04-06T00:00:00\", \"genre\": \"Comedy\", \"inflation_adjusted_gross\": 49999822.0}, {\"movie_title\": \"Renaissance Man\", \"release_date\": \"1994-06-03T00:00:00\", \"genre\": \"Comedy\", \"inflation_adjusted_gross\": 49945474.0}, {\"movie_title\": \"Confessions of a Shopaholic\", \"release_date\": \"2009-02-13T00:00:00\", \"genre\": \"Romantic Comedy\", \"inflation_adjusted_gross\": 49767744.0}, {\"movie_title\": \"The Adventures of Huck Finn\", \"release_date\": \"1993-04-02T00:00:00\", \"genre\": \"Adventure\", \"inflation_adjusted_gross\": 49080505.0}, {\"movie_title\": \"Tough Guys\", \"release_date\": \"1986-10-03T00:00:00\", \"genre\": \"Comedy\", \"inflation_adjusted_gross\": 48758184.0}, {\"movie_title\": \"An American Werewolf in Paris\", \"release_date\": \"1997-12-25T00:00:00\", \"genre\": \"Horror\", \"inflation_adjusted_gross\": 48546161.0}, {\"movie_title\": \"The Wild\", \"release_date\": \"2006-04-14T00:00:00\", \"genre\": \"Adventure\", \"inflation_adjusted_gross\": 48114115.0}, {\"movie_title\": \"Operation Dumbo Drop\", \"release_date\": \"1995-07-28T00:00:00\", \"genre\": \"Adventure\", \"inflation_adjusted_gross\": 47809421.0}, {\"movie_title\": \"The Insider\", \"release_date\": \"1999-11-05T00:00:00\", \"genre\": \"Drama\", \"inflation_adjusted_gross\": 47794214.0}, {\"movie_title\": \"Oscar\", \"release_date\": \"1991-04-26T00:00:00\", \"genre\": \"Comedy\", \"inflation_adjusted_gross\": 47181395.0}, {\"movie_title\": \"The Program\", \"release_date\": \"1993-09-24T00:00:00\", \"genre\": \"Action\", \"inflation_adjusted_gross\": 46919256.0}, {\"movie_title\": \"Dead Presidents\", \"release_date\": \"1995-10-04T00:00:00\", \"genre\": \"Drama\", \"inflation_adjusted_gross\": 46741467.0}, {\"movie_title\": \"The Other Sister\", \"release_date\": \"1999-02-26T00:00:00\", \"genre\": \"Romantic Comedy\", \"inflation_adjusted_gross\": 46145331.0}, {\"movie_title\": \"Guilty as Sin\", \"release_date\": \"1993-06-04T00:00:00\", \"genre\": \"Thriller/Suspense\", \"inflation_adjusted_gross\": 46064723.0}, {\"movie_title\": \"Tom and Huck\", \"release_date\": \"1995-12-22T00:00:00\", \"genre\": \"Adventure\", \"inflation_adjusted_gross\": 45911517.0}, {\"movie_title\": \"Captain Ron\", \"release_date\": \"1992-09-18T00:00:00\", \"genre\": \"Comedy\", \"inflation_adjusted_gross\": 45741576.0}, {\"movie_title\": \"Step Up 3D\", \"release_date\": \"2010-08-06T00:00:00\", \"genre\": \"Drama\", \"inflation_adjusted_gross\": 45302137.0}, {\"movie_title\": \"Air Bud\", \"release_date\": \"1997-08-01T00:00:00\", \"genre\": \"Comedy\", \"inflation_adjusted_gross\": 45266588.0}, {\"movie_title\": \"Need for Speed\", \"release_date\": \"2014-03-14T00:00:00\", \"genre\": \"Action\", \"inflation_adjusted_gross\": 44955015.0}, {\"movie_title\": \"McFarland, USA\", \"release_date\": \"2015-02-20T00:00:00\", \"genre\": \"Drama\", \"inflation_adjusted_gross\": 44480275.0}, {\"movie_title\": \"Double Take\", \"release_date\": \"2001-01-12T00:00:00\", \"genre\": \"Action\", \"inflation_adjusted_gross\": 44418589.0}, {\"movie_title\": \"Hello Again\", \"release_date\": \"1987-11-06T00:00:00\", \"genre\": \"Comedy\", \"inflation_adjusted_gross\": 44024529.0}, {\"movie_title\": \"Consenting Adults\", \"release_date\": \"1992-10-16T00:00:00\", \"genre\": \"Drama\", \"inflation_adjusted_gross\": 43859823.0}, {\"movie_title\": \"Bad Company\", \"release_date\": \"2002-06-07T00:00:00\", \"genre\": \"Action\", \"inflation_adjusted_gross\": 43756218.0}, {\"movie_title\": \"D3: The Mighty Ducks\", \"release_date\": \"1996-10-04T00:00:00\", \"genre\": \"Comedy\", \"inflation_adjusted_gross\": 43713554.0}, {\"movie_title\": \"Surrogates\", \"release_date\": \"2009-09-25T00:00:00\", \"genre\": \"Action\", \"inflation_adjusted_gross\": 43361416.0}, {\"movie_title\": \"Straight Talk\", \"release_date\": \"1992-04-03T00:00:00\", \"genre\": \"Comedy\", \"inflation_adjusted_gross\": 43068356.0}, {\"movie_title\": \"The Air Up There\", \"release_date\": \"1994-01-07T00:00:00\", \"genre\": \"Comedy\", \"inflation_adjusted_gross\": 42940186.0}, {\"movie_title\": \"High Fidelity\", \"release_date\": \"2000-03-31T00:00:00\", \"genre\": \"Comedy\", \"inflation_adjusted_gross\": 42661516.0}, {\"movie_title\": \"Iron Will\", \"release_date\": \"1994-01-14T00:00:00\", \"genre\": \"Drama\", \"inflation_adjusted_gross\": 42610902.0}, {\"movie_title\": \"Super Mario Bros.\", \"release_date\": \"1993-05-28T00:00:00\", \"genre\": \"Action\", \"inflation_adjusted_gross\": 42445058.0}, {\"movie_title\": \"Calendar Girls\", \"release_date\": \"2003-12-19T00:00:00\", \"genre\": \"Comedy\", \"inflation_adjusted_gross\": 42379650.0}, {\"movie_title\": \"Flight of the Navigator\", \"release_date\": \"1986-07-30T00:00:00\", \"genre\": \"Adventure\", \"inflation_adjusted_gross\": 42183197.0}, {\"movie_title\": \"Boys\", \"release_date\": \"1996-05-10T00:00:00\", \"genre\": \"Drama\", \"inflation_adjusted_gross\": 41826566.0}, {\"movie_title\": \"Beloved\", \"release_date\": \"1998-10-16T00:00:00\", \"genre\": \"Drama\", \"inflation_adjusted_gross\": 41062682.0}, {\"movie_title\": \"An Innocent Man\", \"release_date\": \"1989-10-06T00:00:00\", \"genre\": \"Drama\", \"inflation_adjusted_gross\": 40983414.0}, {\"movie_title\": \"Another Stakeout\", \"release_date\": \"1993-07-23T00:00:00\", \"genre\": \"Comedy\", \"inflation_adjusted_gross\": 40943541.0}, {\"movie_title\": \"Color of Night\", \"release_date\": \"1994-08-19T00:00:00\", \"genre\": \"Thriller/Suspense\", \"inflation_adjusted_gross\": 40804816.0}, {\"movie_title\": \"Stella\", \"release_date\": \"1990-02-02T00:00:00\", \"genre\": \"Drama\", \"inflation_adjusted_gross\": 40077147.0}, {\"movie_title\": \"Taking Care of Business\", \"release_date\": \"1990-08-17T00:00:00\", \"genre\": \"Comedy\", \"inflation_adjusted_gross\": 39963460.0}, {\"movie_title\": \"Blaze\", \"release_date\": \"1989-12-13T00:00:00\", \"genre\": \"Drama\", \"inflation_adjusted_gross\": 39884640.0}, {\"movie_title\": \"Confessions of a Teenage Drama Queen\", \"release_date\": \"2004-02-20T00:00:00\", \"genre\": \"Comedy\", \"inflation_adjusted_gross\": 39816568.0}, {\"movie_title\": \"Betsy's Wedding\", \"release_date\": \"1990-06-22T00:00:00\", \"genre\": \"Comedy\", \"inflation_adjusted_gross\": 39433357.0}, {\"movie_title\": \"Mr. Magoo\", \"release_date\": \"1997-12-25T00:00:00\", \"genre\": \"Comedy\", \"inflation_adjusted_gross\": 39145784.0}, {\"movie_title\": \"He Got Game\", \"release_date\": \"1998-05-01T00:00:00\", \"genre\": \"Drama\", \"inflation_adjusted_gross\": 38766948.0}, {\"movie_title\": \"Jonas Brothers: The 3D Concert Experi\\u2026\", \"release_date\": \"2009-02-27T00:00:00\", \"genre\": \"Concert/Performance\", \"inflation_adjusted_gross\": 38174685.0}, {\"movie_title\": \"Million Dollar Arm\", \"release_date\": \"2014-05-10T00:00:00\", \"genre\": \"Drama\", \"inflation_adjusted_gross\": 37607865.0}, {\"movie_title\": \"Frankenweenie\", \"release_date\": \"2012-10-05T00:00:00\", \"genre\": \"Comedy\", \"inflation_adjusted_gross\": 37363513.0}, {\"movie_title\": \"Paradise\", \"release_date\": \"1991-09-18T00:00:00\", \"genre\": \"Drama\", \"inflation_adjusted_gross\": 37313540.0}, {\"movie_title\": \"Beauty and the Beast (IMAX)\", \"release_date\": \"2002-01-01T00:00:00\", \"genre\": \"Musical\", \"inflation_adjusted_gross\": 36980311.0}, {\"movie_title\": \"Gone Fishin'\", \"release_date\": \"1997-05-30T00:00:00\", \"genre\": \"Comedy\", \"inflation_adjusted_gross\": 36265379.0}, {\"movie_title\": \"Born Yesterday\", \"release_date\": \"1993-03-26T00:00:00\", \"genre\": \"Romantic Comedy\", \"inflation_adjusted_gross\": 36165012.0}, {\"movie_title\": \"DuckTales: The Movie - Treasure of th\\u2026\", \"release_date\": \"1990-08-03T00:00:00\", \"genre\": \"Adventure\", \"inflation_adjusted_gross\": 36107823.0}, {\"movie_title\": \"Kazaam\", \"release_date\": \"1996-07-17T00:00:00\", \"genre\": \"Comedy\", \"inflation_adjusted_gross\": 36009655.0}, {\"movie_title\": \"Earth\", \"release_date\": \"2009-04-22T00:00:00\", \"genre\": \"Documentary\", \"inflation_adjusted_gross\": 35981010.0}, {\"movie_title\": \"Corky Romano\", \"release_date\": \"2001-10-12T00:00:00\", \"genre\": \"Comedy\", \"inflation_adjusted_gross\": 35705805.0}, {\"movie_title\": \"Jane Austen's Mafia\", \"release_date\": \"1998-07-24T00:00:00\", \"genre\": \"Comedy\", \"inflation_adjusted_gross\": 35668055.0}, {\"movie_title\": \"When in Rome\", \"release_date\": \"2010-01-29T00:00:00\", \"genre\": \"Romantic Comedy\", \"inflation_adjusted_gross\": 34917330.0}, {\"movie_title\": \"Stick It\", \"release_date\": \"2006-04-28T00:00:00\", \"genre\": \"Comedy\", \"inflation_adjusted_gross\": 34634731.0}, {\"movie_title\": \"Toy Story 3D Double Feature\", \"release_date\": \"2009-10-02T00:00:00\", \"genre\": \"Adventure\", \"inflation_adjusted_gross\": 34509545.0}, {\"movie_title\": \"The Big Green\", \"release_date\": \"1995-09-29T00:00:00\", \"genre\": \"Comedy\", \"inflation_adjusted_gross\": 34372339.0}, {\"movie_title\": \"Heavy Weights\", \"release_date\": \"1995-02-17T00:00:00\", \"genre\": \"Comedy\", \"inflation_adjusted_gross\": 34245779.0}, {\"movie_title\": \"Terminal Velocity\", \"release_date\": \"1994-09-23T00:00:00\", \"genre\": \"Action\", \"inflation_adjusted_gross\": 34048315.0}, {\"movie_title\": \"Baby: Secret of the Lost Legend\", \"release_date\": \"1985-03-22T00:00:00\", \"genre\": \"Adventure\", \"inflation_adjusted_gross\": 33900697.0}, {\"movie_title\": \"That Darn Cat\", \"release_date\": \"1997-02-14T00:00:00\", \"genre\": \"Comedy\", \"inflation_adjusted_gross\": 33613158.0}, {\"movie_title\": \"Dark Water\", \"release_date\": \"2005-07-08T00:00:00\", \"genre\": \"Thriller/Suspense\", \"inflation_adjusted_gross\": 33500491.0}, {\"movie_title\": \"Simon Birch\", \"release_date\": \"1998-09-11T00:00:00\", \"genre\": \"Drama\", \"inflation_adjusted_gross\": 32809442.0}, {\"movie_title\": \"Benji the Hunted\", \"release_date\": \"1987-06-05T00:00:00\", \"genre\": \"Adventure\", \"inflation_adjusted_gross\": 32798382.0}, {\"movie_title\": \"Around the World in 80 Days\", \"release_date\": \"2004-06-16T00:00:00\", \"genre\": \"Adventure\", \"inflation_adjusted_gross\": 32585356.0}, {\"movie_title\": \"Piglet's Big Movie\", \"release_date\": \"2003-03-21T00:00:00\", \"genre\": \"Comedy\", \"inflation_adjusted_gross\": 32298812.0}, {\"movie_title\": \"Doug's 1st Movie\", \"release_date\": \"1999-03-26T00:00:00\", \"genre\": \"Adventure\", \"inflation_adjusted_gross\": 32228598.0}, {\"movie_title\": \"The Life Aquatic with Steve Zissou\", \"release_date\": \"2004-12-10T00:00:00\", \"genre\": \"Comedy\", \"inflation_adjusted_gross\": 32198655.0}, {\"movie_title\": \"Ice Princess\", \"release_date\": \"2005-03-18T00:00:00\", \"genre\": \"Comedy\", \"inflation_adjusted_gross\": 32064685.0}, {\"movie_title\": \"Summer of Sam\", \"release_date\": \"1999-07-02T00:00:00\", \"genre\": \"Drama\", \"inflation_adjusted_gross\": 32007656.0}, {\"movie_title\": \"Delivery Man\", \"release_date\": \"2013-11-22T00:00:00\", \"genre\": \"Comedy\", \"inflation_adjusted_gross\": 31787136.0}, {\"movie_title\": \"One Magic Christmas\", \"release_date\": \"1985-11-22T00:00:00\", \"genre\": \"Drama\", \"inflation_adjusted_gross\": 31415432.0}, {\"movie_title\": \"Billy Bathgate\", \"release_date\": \"1991-11-01T00:00:00\", \"genre\": \"Drama\", \"inflation_adjusted_gross\": 31167691.0}, {\"movie_title\": \"Tim Burton's The Nightmare Before Chr\\u2026\", \"release_date\": \"2006-10-20T00:00:00\", \"genre\": \"Musical\", \"inflation_adjusted_gross\": 30737517.0}, {\"movie_title\": \"Mr. Destiny\", \"release_date\": \"1990-10-12T00:00:00\", \"genre\": \"Comedy\", \"inflation_adjusted_gross\": 30722056.0}, {\"movie_title\": \"Chimpanzee\", \"release_date\": \"2012-04-20T00:00:00\", \"genre\": \"Documentary\", \"inflation_adjusted_gross\": 30675725.0}, {\"movie_title\": \"The Alamo\", \"release_date\": \"2004-04-09T00:00:00\", \"genre\": \"Western\", \"inflation_adjusted_gross\": 30416359.0}, {\"movie_title\": \"Haakon Haakonsen\", \"release_date\": \"1991-03-01T00:00:00\", \"genre\": \"Adventure\", \"inflation_adjusted_gross\": 30084149.0}, {\"movie_title\": \"Indian Summer\", \"release_date\": \"1993-04-23T00:00:00\", \"genre\": \"Comedy\", \"inflation_adjusted_gross\": 29968953.0}, {\"movie_title\": \"Spaced Invaders\", \"release_date\": \"1990-04-27T00:00:00\", \"genre\": \"Comedy\", \"inflation_adjusted_gross\": 29964452.0}, {\"movie_title\": \"Mad Love\", \"release_date\": \"1995-05-26T00:00:00\", \"genre\": \"Drama\", \"inflation_adjusted_gross\": 29934306.0}, {\"movie_title\": \"Cold Creek Manor\", \"release_date\": \"2003-09-19T00:00:00\", \"genre\": \"Thriller/Suspense\", \"inflation_adjusted_gross\": 29895090.0}, {\"movie_title\": \"Stay Alive\", \"release_date\": \"2006-03-24T00:00:00\", \"genre\": \"Horror\", \"inflation_adjusted_gross\": 29712825.0}, {\"movie_title\": \"Mr. 3000\", \"release_date\": \"2004-09-17T00:00:00\", \"genre\": \"Comedy\", \"inflation_adjusted_gross\": 29593641.0}, {\"movie_title\": \"Fire Birds\", \"release_date\": \"1990-05-24T00:00:00\", \"genre\": \"Action\", \"inflation_adjusted_gross\": 29485923.0}, {\"movie_title\": \"A Lot Like Love\", \"release_date\": \"2005-04-22T00:00:00\", \"genre\": \"Comedy\", \"inflation_adjusted_gross\": 28716947.0}, {\"movie_title\": \"Rushmore\", \"release_date\": \"1998-12-11T00:00:00\", \"genre\": \"Black Comedy\", \"inflation_adjusted_gross\": 28392518.0}, {\"movie_title\": \"Winnie the Pooh\", \"release_date\": \"2011-07-15T00:00:00\", \"genre\": \"Adventure\", \"inflation_adjusted_gross\": 28375869.0}, {\"movie_title\": \"Rocket Man\", \"release_date\": \"1997-10-10T00:00:00\", \"genre\": \"Comedy\", \"inflation_adjusted_gross\": 28371890.0}, {\"movie_title\": \"Ernest Scared Stupid\", \"release_date\": \"1991-10-11T00:00:00\", \"genre\": \"Comedy\", \"inflation_adjusted_gross\": 28320147.0}, {\"movie_title\": \"Return to Snowy River\", \"release_date\": \"1988-04-15T00:00:00\", \"genre\": \"Adventure\", \"inflation_adjusted_gross\": 28073384.0}, {\"movie_title\": \"Tuck Everlasting\", \"release_date\": \"2002-10-11T00:00:00\", \"genre\": \"Drama\", \"inflation_adjusted_gross\": 27789959.0}, {\"movie_title\": \"The Finest Hours\", \"release_date\": \"2016-01-29T00:00:00\", \"genre\": \"Thriller/Suspense\", \"inflation_adjusted_gross\": 27569558.0}, {\"movie_title\": \"You Again\", \"release_date\": \"2010-09-24T00:00:00\", \"genre\": \"Comedy\", \"inflation_adjusted_gross\": 27461121.0}, {\"movie_title\": \"The Sixth Man\", \"release_date\": \"1997-03-28T00:00:00\", \"genre\": \"Comedy\", \"inflation_adjusted_gross\": 27117599.0}, {\"movie_title\": \"Nixon\", \"release_date\": \"1995-12-20T00:00:00\", \"genre\": \"Drama\", \"inflation_adjusted_gross\": 26302005.0}, {\"movie_title\": \"A Far Off Place\", \"release_date\": \"1993-03-12T00:00:00\", \"genre\": \"Adventure\", \"inflation_adjusted_gross\": 26248558.0}, {\"movie_title\": \"D.O.A.\", \"release_date\": \"1988-03-18T00:00:00\", \"genre\": \"Thriller/Suspense\", \"inflation_adjusted_gross\": 26062188.0}, {\"movie_title\": \"A Kid in King Arthur's Court\", \"release_date\": \"1995-08-11T00:00:00\", \"genre\": \"Adventure\", \"inflation_adjusted_gross\": 25981285.0}, {\"movie_title\": \"Max Keeble's Big Move\", \"release_date\": \"2001-10-05T00:00:00\", \"genre\": \"Comedy\", \"inflation_adjusted_gross\": 25749730.0}, {\"movie_title\": \"Valiant\", \"release_date\": \"2005-08-19T00:00:00\", \"genre\": \"Adventure\", \"inflation_adjusted_gross\": 25616292.0}, {\"movie_title\": \"Return to Oz\", \"release_date\": \"1985-06-21T00:00:00\", \"genre\": \"Adventure\", \"inflation_adjusted_gross\": 25215934.0}, {\"movie_title\": \"crazy/beautiful\", \"release_date\": \"2001-06-29T00:00:00\", \"genre\": \"Drama\", \"inflation_adjusted_gross\": 25214223.0}, {\"movie_title\": \"The Invisible\", \"release_date\": \"2007-04-27T00:00:00\", \"genre\": \"Thriller/Suspense\", \"inflation_adjusted_gross\": 25202168.0}, {\"movie_title\": \"Life With Mikey\", \"release_date\": \"1993-06-04T00:00:00\", \"genre\": \"Comedy\", \"inflation_adjusted_gross\": 25146538.0}, {\"movie_title\": \"A Stranger Among Us\", \"release_date\": \"1992-07-17T00:00:00\", \"genre\": \"Drama\", \"inflation_adjusted_gross\": 24950752.0}, {\"movie_title\": \"The Marrying Man\", \"release_date\": \"1991-04-05T00:00:00\", \"genre\": \"Romantic Comedy\", \"inflation_adjusted_gross\": 24939118.0}, {\"movie_title\": \"The Country Bears\", \"release_date\": \"2002-07-26T00:00:00\", \"genre\": \"Adventure\", \"inflation_adjusted_gross\": 24650121.0}, {\"movie_title\": \"Mr. Wrong\", \"release_date\": \"1996-02-16T00:00:00\", \"genre\": \"Romantic Comedy\", \"inflation_adjusted_gross\": 24422334.0}, {\"movie_title\": \"The Associate\", \"release_date\": \"1996-10-25T00:00:00\", \"genre\": \"Comedy\", \"inflation_adjusted_gross\": 24333094.0}, {\"movie_title\": \"3 Ninjas Kick Back\", \"release_date\": \"1994-05-06T00:00:00\", \"genre\": \"Action\", \"inflation_adjusted_gross\": 24267154.0}, {\"movie_title\": \"Gross Anatomy\", \"release_date\": \"1989-10-20T00:00:00\", \"genre\": \"Drama\", \"inflation_adjusted_gross\": 23972012.0}, {\"movie_title\": \"Ghosts of the Abyss\", \"release_date\": \"2003-04-11T00:00:00\", \"genre\": \"Documentary\", \"inflation_adjusted_gross\": 23803108.0}, {\"movie_title\": \"Pooh's Heffalump Movie\", \"release_date\": \"2005-02-11T00:00:00\", \"genre\": \"Adventure\", \"inflation_adjusted_gross\": 23801835.0}, {\"movie_title\": \"Roommates\", \"release_date\": \"1995-03-03T00:00:00\", \"genre\": \"Comedy\", \"inflation_adjusted_gross\": 23404369.0}, {\"movie_title\": \"The Ref\", \"release_date\": \"1994-03-09T00:00:00\", \"genre\": \"Comedy\", \"inflation_adjusted_gross\": 23401275.0}, {\"movie_title\": \"Mars Needs Moms\", \"release_date\": \"2011-03-11T00:00:00\", \"genre\": \"Adventure\", \"inflation_adjusted_gross\": 22741603.0}, {\"movie_title\": \"New York Stories\", \"release_date\": \"1989-03-01T00:00:00\", \"genre\": \"Drama\", \"inflation_adjusted_gross\": 22740861.0}, {\"movie_title\": \"One Good Cop\", \"release_date\": \"1991-05-03T00:00:00\", \"genre\": \"Action\", \"inflation_adjusted_gross\": 22580472.0}, {\"movie_title\": \"The Journey of Natty Gann\", \"release_date\": \"1985-09-27T00:00:00\", \"genre\": \"Drama\", \"inflation_adjusted_gross\": 22302956.0}, {\"movie_title\": \"Annapolis\", \"release_date\": \"2006-01-27T00:00:00\", \"genre\": \"Drama\", \"inflation_adjusted_gross\": 22044113.0}, {\"movie_title\": \"I'll Be Home For Christmas\", \"release_date\": \"1998-11-13T00:00:00\", \"genre\": \"Comedy\", \"inflation_adjusted_gross\": 21941840.0}, {\"movie_title\": \"Holy Man\", \"release_date\": \"1998-10-09T00:00:00\", \"genre\": \"Comedy\", \"inflation_adjusted_gross\": 21694605.0}, {\"movie_title\": \"Camp Nowhere\", \"release_date\": \"1994-08-26T00:00:00\", \"genre\": \"Comedy\", \"inflation_adjusted_gross\": 21576332.0}, {\"movie_title\": \"Sleeping Beauty\", \"release_date\": \"1959-01-29T00:00:00\", \"genre\": \"Drama\", \"inflation_adjusted_gross\": 21505832.0}, {\"movie_title\": \"Country\", \"release_date\": \"1984-09-29T00:00:00\", \"genre\": \"Drama\", \"inflation_adjusted_gross\": 21075000.0}, {\"movie_title\": \"Oceans\", \"release_date\": \"2010-04-22T00:00:00\", \"genre\": \"Documentary\", \"inflation_adjusted_gross\": 20751600.0}, {\"movie_title\": \"Out Cold\", \"release_date\": \"2001-11-21T00:00:00\", \"genre\": \"Comedy\", \"inflation_adjusted_gross\": 20700691.0}, {\"movie_title\": \"Tex\", \"release_date\": \"1982-11-19T00:00:00\", \"genre\": \"Drama\", \"inflation_adjusted_gross\": 20643199.0}, {\"movie_title\": \"The Crew\", \"release_date\": \"2000-08-25T00:00:00\", \"genre\": \"Comedy\", \"inflation_adjusted_gross\": 20362201.0}, {\"movie_title\": \"The Secret World of Arietty\", \"release_date\": \"2012-02-17T00:00:00\", \"genre\": \"Adventure\", \"inflation_adjusted_gross\": 20325733.0}, {\"movie_title\": \"The Greatest Game Ever Played\", \"release_date\": \"2005-09-30T00:00:00\", \"genre\": \"Drama\", \"inflation_adjusted_gross\": 20162672.0}, {\"movie_title\": \"Deep Rising\", \"release_date\": \"1998-01-30T00:00:00\", \"genre\": \"Action\", \"inflation_adjusted_gross\": 20136775.0}, {\"movie_title\": \"The Scarlet Letter\", \"release_date\": \"1995-10-13T00:00:00\", \"genre\": \"Drama\", \"inflation_adjusted_gross\": 20075033.0}, {\"movie_title\": \"White Squall\", \"release_date\": \"1996-02-02T00:00:00\", \"genre\": \"Adventure\", \"inflation_adjusted_gross\": 19509726.0}, {\"movie_title\": \"Fright Night\", \"release_date\": \"2011-08-19T00:00:00\", \"genre\": \"Horror\", \"inflation_adjusted_gross\": 19452402.0}, {\"movie_title\": \"Scenes from a Mall\", \"release_date\": \"1991-02-22T00:00:00\", \"genre\": \"Comedy\", \"inflation_adjusted_gross\": 19149495.0}, {\"movie_title\": \"Swing Vote\", \"release_date\": \"2008-08-01T00:00:00\", \"genre\": \"Comedy\", \"inflation_adjusted_gross\": 19125841.0}, {\"movie_title\": \"Angie\", \"release_date\": \"1994-03-04T00:00:00\", \"genre\": \"Comedy\", \"inflation_adjusted_gross\": 19116981.0}, {\"movie_title\": \"Bears\", \"release_date\": \"2014-04-18T00:00:00\", \"genre\": \"Documentary\", \"inflation_adjusted_gross\": 18346024.0}, {\"movie_title\": \"25th Hour\", \"release_date\": \"2002-12-19T00:00:00\", \"genre\": \"Drama\", \"inflation_adjusted_gross\": 18325463.0}, {\"movie_title\": \"The Inkwell\", \"release_date\": \"1994-04-22T00:00:00\", \"genre\": \"Comedy\", \"inflation_adjusted_gross\": 18316030.0}, {\"movie_title\": \"White Fang 2: Myth of the White Wolf\", \"release_date\": \"1994-04-15T00:00:00\", \"genre\": \"Adventure\", \"inflation_adjusted_gross\": 18083994.0}, {\"movie_title\": \"The Puppet Masters\", \"release_date\": \"1994-10-21T00:00:00\", \"genre\": \"Horror\", \"inflation_adjusted_gross\": 17727017.0}, {\"movie_title\": \"Celtic Pride\", \"release_date\": \"1996-04-19T00:00:00\", \"genre\": \"Comedy\", \"inflation_adjusted_gross\": 17623615.0}, {\"movie_title\": \"Gake no ue no Ponyo\", \"release_date\": \"2009-08-14T00:00:00\", \"genre\": \"Adventure\", \"inflation_adjusted_gross\": 16961607.0}, {\"movie_title\": \"Cheetah\", \"release_date\": \"1989-08-18T00:00:00\", \"genre\": \"Adventure\", \"inflation_adjusted_gross\": 16653473.0}, {\"movie_title\": \"Before and After\", \"release_date\": \"1996-02-23T00:00:00\", \"genre\": \"Drama\", \"inflation_adjusted_gross\": 16482589.0}, {\"movie_title\": \"Monkey Kingdom\", \"release_date\": \"2015-04-17T00:00:00\", \"genre\": \"Documentary\", \"inflation_adjusted_gross\": 16432322.0}, {\"movie_title\": \"African Cats\", \"release_date\": \"2011-04-22T00:00:00\", \"genre\": \"Documentary\", \"inflation_adjusted_gross\": 16401551.0}, {\"movie_title\": \"The Rich Man's Wife\", \"release_date\": \"1996-09-13T00:00:00\", \"genre\": \"Thriller/Suspense\", \"inflation_adjusted_gross\": 16284619.0}, {\"movie_title\": \"Tall Tale\", \"release_date\": \"1995-03-24T00:00:00\", \"genre\": \"Western\", \"inflation_adjusted_gross\": 15983331.0}, {\"movie_title\": \"Aspen Extreme\", \"release_date\": \"1993-01-22T00:00:00\", \"genre\": \"Romantic Comedy\", \"inflation_adjusted_gross\": 15970955.0}, {\"movie_title\": \"Unstrung Heroes\", \"release_date\": \"1995-09-15T00:00:00\", \"genre\": \"Drama\", \"inflation_adjusted_gross\": 15365850.0}, {\"movie_title\": \"Disorganized Crime\", \"release_date\": \"1989-04-14T00:00:00\", \"genre\": \"Comedy\", \"inflation_adjusted_gross\": 15233465.0}, {\"movie_title\": \"Something Wicked This Way Comes\", \"release_date\": \"1983-04-29T00:00:00\", \"genre\": \"Horror\", \"inflation_adjusted_gross\": 15136765.0}, {\"movie_title\": \"Sarafina!\", \"release_date\": \"1992-09-18T00:00:00\", \"genre\": \"Drama\", \"inflation_adjusted_gross\": 14841352.0}, {\"movie_title\": \"Sorority Boys\", \"release_date\": \"2002-03-22T00:00:00\", \"genre\": \"Comedy\", \"inflation_adjusted_gross\": 14797862.0}, {\"movie_title\": \"Mystery, Alaska\", \"release_date\": \"1999-10-01T00:00:00\", \"genre\": \"Comedy\", \"inflation_adjusted_gross\": 14755189.0}, {\"movie_title\": \"The Jerky Boys\", \"release_date\": \"1995-02-03T00:00:00\", \"genre\": \"Comedy\", \"inflation_adjusted_gross\": 14641561.0}, {\"movie_title\": \"Wild Hearts Can't Be Broken\", \"release_date\": \"1991-05-24T00:00:00\", \"genre\": \"Drama\", \"inflation_adjusted_gross\": 14617333.0}, {\"movie_title\": \"Casanova\", \"release_date\": \"2005-12-25T00:00:00\", \"genre\": \"Drama\", \"inflation_adjusted_gross\": 14574087.0}, {\"movie_title\": \"A Thousand Acres\", \"release_date\": \"1997-09-19T00:00:00\", \"genre\": \"Drama\", \"inflation_adjusted_gross\": 14561324.0}, {\"movie_title\": \"1492: Conquest of Paradise\", \"release_date\": \"1992-10-09T00:00:00\", \"genre\": \"Adventure\", \"inflation_adjusted_gross\": 14421454.0}, {\"movie_title\": \"Sen to Chihiro no Kamikakushi\", \"release_date\": \"2002-09-20T00:00:00\", \"genre\": \"Adventure\", \"inflation_adjusted_gross\": 14338992.0}, {\"movie_title\": \"Fantasia 2000 (Theatrical Release)\", \"release_date\": \"2000-06-16T00:00:00\", \"genre\": \"Musical\", \"inflation_adjusted_gross\": 14238144.0}, {\"movie_title\": \"Krippendorf's Tribe\", \"release_date\": \"1998-02-27T00:00:00\", \"genre\": \"Comedy\", \"inflation_adjusted_gross\": 13608633.0}, {\"movie_title\": \"Shopgirl\", \"release_date\": \"2005-10-21T00:00:00\", \"genre\": \"Drama\", \"inflation_adjusted_gross\": 13519621.0}, {\"movie_title\": \"Play it to the Bone\", \"release_date\": \"1999-12-24T00:00:00\", \"genre\": \"Comedy\", \"inflation_adjusted_gross\": 13180524.0}, {\"movie_title\": \"People Like Us\", \"release_date\": \"2012-06-29T00:00:00\", \"genre\": \"Drama\", \"inflation_adjusted_gross\": 13165822.0}, {\"movie_title\": \"Primeval\", \"release_date\": \"2007-01-12T00:00:00\", \"genre\": \"Adventure\", \"inflation_adjusted_gross\": 12985302.0}, {\"movie_title\": \"Roving Mars\", \"release_date\": \"2006-01-27T00:00:00\", \"genre\": \"Documentary\", \"inflation_adjusted_gross\": 12948025.0}, {\"movie_title\": \"Night Crossing\", \"release_date\": \"1982-02-05T00:00:00\", \"genre\": \"Drama\", \"inflation_adjusted_gross\": 12903059.0}, {\"movie_title\": \"The Light Between Oceans\", \"release_date\": \"2016-09-02T00:00:00\", \"genre\": \"Drama\", \"inflation_adjusted_gross\": 12545979.0}, {\"movie_title\": \"Strange Magic\", \"release_date\": \"2015-01-23T00:00:00\", \"genre\": \"Adventure\", \"inflation_adjusted_gross\": 12429583.0}, {\"movie_title\": \"Ed Wood\", \"release_date\": \"1994-09-30T00:00:00\", \"genre\": \"Comedy\", \"inflation_adjusted_gross\": 12042634.0}, {\"movie_title\": \"The Rescue\", \"release_date\": \"1988-08-05T00:00:00\", \"genre\": \"Action\", \"inflation_adjusted_gross\": 12009960.0}, {\"movie_title\": \"Aliens of the Deep\", \"release_date\": \"2005-01-28T00:00:00\", \"genre\": \"Documentary\", \"inflation_adjusted_gross\": 11740942.0}, {\"movie_title\": \"Trenchcoat\", \"release_date\": \"1983-03-11T00:00:00\", \"genre\": \"Comedy\", \"inflation_adjusted_gross\": 11519089.0}, {\"movie_title\": \"Swing Kids\", \"release_date\": \"1993-03-05T00:00:00\", \"genre\": \"Musical\", \"inflation_adjusted_gross\": 11468231.0}, {\"movie_title\": \"The Cemetery Club\", \"release_date\": \"1993-02-03T00:00:00\", \"genre\": \"Comedy\", \"inflation_adjusted_gross\": 11369541.0}, {\"movie_title\": \"Heartbreak Hotel\", \"release_date\": \"1988-09-30T00:00:00\", \"genre\": \"Comedy\", \"inflation_adjusted_gross\": 11300331.0}, {\"movie_title\": \"Last Dance\", \"release_date\": \"1996-05-03T00:00:00\", \"genre\": \"Drama\", \"inflation_adjusted_gross\": 11171714.0}, {\"movie_title\": \"The Tie That Binds\", \"release_date\": \"1995-09-08T00:00:00\", \"genre\": \"Thriller/Suspense\", \"inflation_adjusted_gross\": 11167895.0}, {\"movie_title\": \"Off Beat\", \"release_date\": \"1986-04-11T00:00:00\", \"genre\": \"Comedy\", \"inflation_adjusted_gross\": 11003932.0}, {\"movie_title\": \"Prom\", \"release_date\": \"2011-04-29T00:00:00\", \"genre\": \"Comedy\", \"inflation_adjusted_gross\": 10768946.0}, {\"movie_title\": \"Big Trouble\", \"release_date\": \"2002-04-05T00:00:00\", \"genre\": \"Comedy\", \"inflation_adjusted_gross\": 10537188.0}, {\"movie_title\": \"Kundun\", \"release_date\": \"1997-12-25T00:00:00\", \"genre\": \"Drama\", \"inflation_adjusted_gross\": 10236836.0}, {\"movie_title\": \"The Straight Story\", \"release_date\": \"1999-10-15T00:00:00\", \"genre\": \"Drama\", \"inflation_adjusted_gross\": 10111144.0}, {\"movie_title\": \"Moonlight Mile\", \"release_date\": \"2002-09-27T00:00:00\", \"genre\": \"Drama\", \"inflation_adjusted_gross\": 9909094.0}, {\"movie_title\": \"Innocent Blood\", \"release_date\": \"1992-09-25T00:00:00\", \"genre\": \"Horror\", \"inflation_adjusted_gross\": 9907922.0}, {\"movie_title\": \"Miami Rhapsody\", \"release_date\": \"1995-01-27T00:00:00\", \"genre\": \"Romantic Comedy\", \"inflation_adjusted_gross\": 9857435.0}, {\"movie_title\": \"The Good Mother\", \"release_date\": \"1988-11-04T00:00:00\", \"genre\": \"Drama\", \"inflation_adjusted_gross\": 9772655.0}, {\"movie_title\": \"My Science Project\", \"release_date\": \"1985-08-09T00:00:00\", \"genre\": \"Comedy\", \"inflation_adjusted_gross\": 9736051.0}, {\"movie_title\": \"Miracle at St. Anna\", \"release_date\": \"2008-09-26T00:00:00\", \"genre\": \"Drama\", \"inflation_adjusted_gross\": 9295171.0}, {\"movie_title\": \"Young Black Stallion\", \"release_date\": \"2003-12-25T00:00:00\", \"genre\": \"Adventure\", \"inflation_adjusted_gross\": 9254344.0}, {\"movie_title\": \"Queen of Katwe\", \"release_date\": \"2016-09-23T00:00:00\", \"genre\": \"Drama\", \"inflation_adjusted_gross\": 8874389.0}, {\"movie_title\": \"Teacher's Pet: The Movie\", \"release_date\": \"2004-01-16T00:00:00\", \"genre\": \"Comedy\", \"inflation_adjusted_gross\": 8812764.0}, {\"movie_title\": \"The Hoax\", \"release_date\": \"2007-04-06T00:00:00\", \"genre\": \"Drama\", \"inflation_adjusted_gross\": 8779196.0}, {\"movie_title\": \"A Beautiful Planet\", \"release_date\": \"2016-04-29T00:00:00\", \"genre\": \"Documentary\", \"inflation_adjusted_gross\": 7895708.0}, {\"movie_title\": \"Meet the Deedles\", \"release_date\": \"1998-03-27T00:00:00\", \"genre\": \"Comedy\", \"inflation_adjusted_gross\": 7829877.0}, {\"movie_title\": \"Playing God\", \"release_date\": \"1997-10-17T00:00:00\", \"genre\": \"Thriller/Suspense\", \"inflation_adjusted_gross\": 7652965.0}, {\"movie_title\": \"Mumford\", \"release_date\": \"1999-09-24T00:00:00\", \"genre\": \"Comedy\", \"inflation_adjusted_gross\": 7566363.0}, {\"movie_title\": \"Bubble Boy\", \"release_date\": \"2001-08-24T00:00:00\", \"genre\": \"Comedy\", \"inflation_adjusted_gross\": 7450434.0}, {\"movie_title\": \"Duets\", \"release_date\": \"2000-09-15T00:00:00\", \"genre\": \"Drama\", \"inflation_adjusted_gross\": 7404372.0}, {\"movie_title\": \"Cabin Boy\", \"release_date\": \"1994-01-07T00:00:00\", \"genre\": \"Comedy\", \"inflation_adjusted_gross\": 7168577.0}, {\"movie_title\": \"Just Visiting\", \"release_date\": \"2001-04-06T00:00:00\", \"genre\": \"Comedy\", \"inflation_adjusted_gross\": 7114869.0}, {\"movie_title\": \"A Simple Twist of Fate\", \"release_date\": \"1994-09-02T00:00:00\", \"genre\": \"Drama\", \"inflation_adjusted_gross\": 7035189.0}, {\"movie_title\": \"Squanto: A Warrior's Tale\", \"release_date\": \"1994-10-28T00:00:00\", \"genre\": \"Drama\", \"inflation_adjusted_gross\": 6858345.0}, {\"movie_title\": \"Bad Company\", \"release_date\": \"1995-01-20T00:00:00\", \"genre\": \"Thriller/Suspense\", \"inflation_adjusted_gross\": 6829092.0}, {\"movie_title\": \"Hauru no ugoku shiro\", \"release_date\": \"2005-06-10T00:00:00\", \"genre\": \"Adventure\", \"inflation_adjusted_gross\": 6194870.0}, {\"movie_title\": \"ESPN's Ultimate X - The Movie\", \"release_date\": \"2002-05-10T00:00:00\", \"genre\": \"Documentary\", \"inflation_adjusted_gross\": 6089874.0}, {\"movie_title\": \"Blame it on the Bellboy\", \"release_date\": \"1992-03-06T00:00:00\", \"genre\": \"Comedy\", \"inflation_adjusted_gross\": 5872667.0}, {\"movie_title\": \"The Lookout\", \"release_date\": \"2007-03-30T00:00:00\", \"genre\": \"Drama\", \"inflation_adjusted_gross\": 5637048.0}, {\"movie_title\": \"Goal! The Dream Begins\", \"release_date\": \"2006-05-12T00:00:00\", \"genre\": \"Drama\", \"inflation_adjusted_gross\": 5512647.0}, {\"movie_title\": \"Kaze Tachinu\", \"release_date\": \"2013-11-08T00:00:00\", \"genre\": \"Drama\", \"inflation_adjusted_gross\": 5367415.0}, {\"movie_title\": \"Jefferson in Paris\", \"release_date\": \"1995-03-31T00:00:00\", \"genre\": \"Drama\", \"inflation_adjusted_gross\": 4770461.0}, {\"movie_title\": \"Noises Off...\", \"release_date\": \"1992-03-20T00:00:00\", \"genre\": \"Comedy\", \"inflation_adjusted_gross\": 4631720.0}, {\"movie_title\": \"Cradle Will Rock\", \"release_date\": \"1999-12-08T00:00:00\", \"genre\": \"Drama\", \"inflation_adjusted_gross\": 4609153.0}, {\"movie_title\": \"Shadow Conspiracy\", \"release_date\": \"1997-01-31T00:00:00\", \"genre\": \"Thriller/Suspense\", \"inflation_adjusted_gross\": 3957025.0}, {\"movie_title\": \"The Fifth Estate\", \"release_date\": \"2013-10-18T00:00:00\", \"genre\": \"Drama\", \"inflation_adjusted_gross\": 3374251.0}, {\"movie_title\": \"Washington Square\", \"release_date\": \"1997-10-05T00:00:00\", \"genre\": \"Drama\", \"inflation_adjusted_gross\": 3257546.0}, {\"movie_title\": \"Running Brave\", \"release_date\": \"1983-11-04T00:00:00\", \"genre\": \"Drama\", \"inflation_adjusted_gross\": 3223725.0}, {\"movie_title\": \"Gun Shy\", \"release_date\": \"2000-02-04T00:00:00\", \"genre\": \"Comedy\", \"inflation_adjusted_gross\": 2562155.0}, {\"movie_title\": \"Where the Heart Is\", \"release_date\": \"1990-02-23T00:00:00\", \"genre\": \"Comedy\", \"inflation_adjusted_gross\": 2210321.0}, {\"movie_title\": \"Veronica Guerin\", \"release_date\": \"2003-10-17T00:00:00\", \"genre\": \"Drama\", \"inflation_adjusted_gross\": 2194759.0}, {\"movie_title\": \"Money for Nothing\", \"release_date\": \"1993-09-10T00:00:00\", \"genre\": \"Comedy\", \"inflation_adjusted_gross\": 2127496.0}, {\"movie_title\": \"Two Much\", \"release_date\": \"1996-03-15T00:00:00\", \"genre\": \"Romantic Comedy\", \"inflation_adjusted_gross\": 2057055.0}, {\"movie_title\": \"Un indien dans la ville\", \"release_date\": \"1996-03-22T00:00:00\", \"genre\": \"Comedy\", \"inflation_adjusted_gross\": 1963937.0}, {\"movie_title\": \"X Games 3D: The Movie\", \"release_date\": \"2009-08-21T00:00:00\", \"genre\": \"Documentary\", \"inflation_adjusted_gross\": 1563976.0}, {\"movie_title\": \"Holy Matrimony\", \"release_date\": \"1994-04-08T00:00:00\", \"genre\": \"Comedy\", \"inflation_adjusted_gross\": 1473665.0}, {\"movie_title\": \"Firelight\", \"release_date\": \"1998-09-04T00:00:00\", \"genre\": \"Drama\", \"inflation_adjusted_gross\": 1409943.0}, {\"movie_title\": \"Prefontaine\", \"release_date\": \"1997-01-24T00:00:00\", \"genre\": \"Drama\", \"inflation_adjusted_gross\": 1085093.0}, {\"movie_title\": \"Funny Bones\", \"release_date\": \"1995-03-31T00:00:00\", \"genre\": \"Comedy\", \"inflation_adjusted_gross\": 1025425.0}, {\"movie_title\": \"A Pyromaniac's Love Story\", \"release_date\": \"1995-03-28T00:00:00\", \"genre\": \"Romantic Comedy\", \"inflation_adjusted_gross\": 907414.0}, {\"movie_title\": \"The Last Shot\", \"release_date\": \"2004-09-24T00:00:00\", \"genre\": \"Comedy\", \"inflation_adjusted_gross\": 629502.0}, {\"movie_title\": \"Feast of July\", \"release_date\": \"1995-10-13T00:00:00\", \"genre\": \"Drama\", \"inflation_adjusted_gross\": 568342.0}, {\"movie_title\": \"America's Heart and Soul\", \"release_date\": \"2004-07-02T00:00:00\", \"genre\": \"Documentary\", \"inflation_adjusted_gross\": 426246.0}, {\"movie_title\": \"Morning Light\", \"release_date\": \"2008-10-17T00:00:00\", \"genre\": \"Documentary\", \"inflation_adjusted_gross\": 322979.0}, {\"movie_title\": \"Breakfast of Champions\", \"release_date\": \"1999-09-17T00:00:00\", \"genre\": \"Comedy\", \"inflation_adjusted_gross\": 295851.0}, {\"movie_title\": \"Goal! 2: Living the Dream...\", \"release_date\": \"2008-08-29T00:00:00\", \"genre\": \"Drama\", \"inflation_adjusted_gross\": 264247.0}, {\"movie_title\": \"It's Pat\", \"release_date\": \"1994-08-26T00:00:00\", \"genre\": \"Comedy\", \"inflation_adjusted_gross\": 125666.0}, {\"movie_title\": \"Waking Sleeping Beauty\", \"release_date\": \"2010-03-26T00:00:00\", \"genre\": \"Documentary\", \"inflation_adjusted_gross\": 86264.0}, {\"movie_title\": \"An Alan Smithee Film: Burn Hollywood \\u2026\", \"release_date\": \"1998-02-27T00:00:00\", \"genre\": \"Comedy\", \"inflation_adjusted_gross\": 82277.0}, {\"movie_title\": \"Gedo Senki (Tales from Earthsea)\", \"release_date\": \"2010-08-13T00:00:00\", \"genre\": \"Adventure\", \"inflation_adjusted_gross\": 51988.0}, {\"movie_title\": \"Walt and El Grupo\", \"release_date\": \"2009-09-10T00:00:00\", \"genre\": \"Documentary\", \"inflation_adjusted_gross\": 23064.0}, {\"movie_title\": \"Zokkomon\", \"release_date\": \"2011-04-22T00:00:00\", \"genre\": \"Adventure\", \"inflation_adjusted_gross\": 2984.0}, {\"movie_title\": \"Amy\", \"release_date\": \"1981-03-20T00:00:00\", \"genre\": \"Drama\", \"inflation_adjusted_gross\": 0.0}, {\"movie_title\": \"Condorman\", \"release_date\": \"1981-08-07T00:00:00\", \"genre\": \"Action\", \"inflation_adjusted_gross\": 0.0}]}}, {\"mode\": \"vega-lite\"});\n",
       "</script>"
      ],
      "text/plain": [
       "alt.Chart(...)"
      ]
     },
     "execution_count": 36,
     "metadata": {},
     "output_type": "execute_result"
    }
   ],
   "source": [
    "genre_gross_boxplot = (\n",
    "    alt.Chart(genre_gross)\n",
    "    .mark_boxplot(extent=3, size=30)\n",
    "    .encode(\n",
    "        x=alt.X(\"genre:N\", title=\"Movie Genre\"),\n",
    "        y=alt.Y(\n",
    "            \"inflation_adjusted_gross:Q\",\n",
    "            title=\"Inflation-Adjusted Gross Revenue (millons)\",\n",
    "        ),\n",
    "    )\n",
    "    .properties(\n",
    "        title=\"Figure 1: Distribution of Inflation-Adjusted Gross Revenue by Genre\",\n",
    "        width=500,\n",
    "        height=500,\n",
    "    )\n",
    ").configure_axis(labelFontSize=12, titleFontSize=12)\n",
    "\n",
    "genre_gross_boxplot\n"
   ]
  },
  {
   "cell_type": "markdown",
   "metadata": {},
   "source": [
    "Upon inspection of figure 1 above, some major outliers are noted for several genres, most notably in the `Musical` category. Let's create a scatter plot of inflation-adjusted revenue vs year to visualize how these outliers may relate to release date."
   ]
  },
  {
   "cell_type": "code",
   "execution_count": 37,
   "metadata": {},
   "outputs": [
    {
     "data": {
      "text/html": [
       "\n",
       "<div id=\"altair-viz-e82fc1f79a6b41ee80a901fc1fe4ed9b\"></div>\n",
       "<script type=\"text/javascript\">\n",
       "  (function(spec, embedOpt){\n",
       "    let outputDiv = document.currentScript.previousElementSibling;\n",
       "    if (outputDiv.id !== \"altair-viz-e82fc1f79a6b41ee80a901fc1fe4ed9b\") {\n",
       "      outputDiv = document.getElementById(\"altair-viz-e82fc1f79a6b41ee80a901fc1fe4ed9b\");\n",
       "    }\n",
       "    const paths = {\n",
       "      \"vega\": \"https://cdn.jsdelivr.net/npm//vega@5?noext\",\n",
       "      \"vega-lib\": \"https://cdn.jsdelivr.net/npm//vega-lib?noext\",\n",
       "      \"vega-lite\": \"https://cdn.jsdelivr.net/npm//vega-lite@4.8.1?noext\",\n",
       "      \"vega-embed\": \"https://cdn.jsdelivr.net/npm//vega-embed@6?noext\",\n",
       "    };\n",
       "\n",
       "    function loadScript(lib) {\n",
       "      return new Promise(function(resolve, reject) {\n",
       "        var s = document.createElement('script');\n",
       "        s.src = paths[lib];\n",
       "        s.async = true;\n",
       "        s.onload = () => resolve(paths[lib]);\n",
       "        s.onerror = () => reject(`Error loading script: ${paths[lib]}`);\n",
       "        document.getElementsByTagName(\"head\")[0].appendChild(s);\n",
       "      });\n",
       "    }\n",
       "\n",
       "    function showError(err) {\n",
       "      outputDiv.innerHTML = `<div class=\"error\" style=\"color:red;\">${err}</div>`;\n",
       "      throw err;\n",
       "    }\n",
       "\n",
       "    function displayChart(vegaEmbed) {\n",
       "      vegaEmbed(outputDiv, spec, embedOpt)\n",
       "        .catch(err => showError(`Javascript Error: ${err.message}<br>This usually means there's a typo in your chart specification. See the javascript console for the full traceback.`));\n",
       "    }\n",
       "\n",
       "    if(typeof define === \"function\" && define.amd) {\n",
       "      requirejs.config({paths});\n",
       "      require([\"vega-embed\"], displayChart, err => showError(`Error loading script: ${err.message}`));\n",
       "    } else if (typeof vegaEmbed === \"function\") {\n",
       "      displayChart(vegaEmbed);\n",
       "    } else {\n",
       "      loadScript(\"vega\")\n",
       "        .then(() => loadScript(\"vega-lite\"))\n",
       "        .then(() => loadScript(\"vega-embed\"))\n",
       "        .catch(showError)\n",
       "        .then(() => displayChart(vegaEmbed));\n",
       "    }\n",
       "  })({\"config\": {\"view\": {\"continuousWidth\": 400, \"continuousHeight\": 300}, \"axis\": {\"labelFontSize\": 12, \"titleFontSize\": 12}}, \"data\": {\"name\": \"data-9db7cf16bc53793206da2549ef0f1b7b\"}, \"mark\": {\"type\": \"circle\", \"opacity\": 0.3}, \"encoding\": {\"x\": {\"type\": \"temporal\", \"field\": \"release_date\", \"title\": \"Movie Release Date\"}, \"y\": {\"type\": \"quantitative\", \"field\": \"inflation_adjusted_gross\", \"title\": \"Inflation-Adjusted Gross Revenue (USD)\"}}, \"height\": 300, \"title\": \"Figure 2: Inflation-Adjusted Gross Revenue of Movies by Year\", \"width\": 500, \"$schema\": \"https://vega.github.io/schema/vega-lite/v4.8.1.json\", \"datasets\": {\"data-9db7cf16bc53793206da2549ef0f1b7b\": [{\"movie_title\": \"Snow White and the Seven Dwarfs\", \"release_date\": \"1937-12-21T00:00:00\", \"genre\": \"Musical\", \"inflation_adjusted_gross\": 5228953251.0}, {\"movie_title\": \"Pinocchio\", \"release_date\": \"1940-02-09T00:00:00\", \"genre\": \"Adventure\", \"inflation_adjusted_gross\": 2188229052.0}, {\"movie_title\": \"Fantasia\", \"release_date\": \"1940-11-13T00:00:00\", \"genre\": \"Musical\", \"inflation_adjusted_gross\": 2187090808.0}, {\"movie_title\": \"101 Dalmatians\", \"release_date\": \"1961-01-25T00:00:00\", \"genre\": \"Comedy\", \"inflation_adjusted_gross\": 1362870985.0}, {\"movie_title\": \"Lady and the Tramp\", \"release_date\": \"1955-06-22T00:00:00\", \"genre\": \"Drama\", \"inflation_adjusted_gross\": 1236035515.0}, {\"movie_title\": \"Song of the South\", \"release_date\": \"1946-11-12T00:00:00\", \"genre\": \"Adventure\", \"inflation_adjusted_gross\": 1078510579.0}, {\"movie_title\": \"Star Wars Ep. VII: The Force Awakens\", \"release_date\": \"2015-12-18T00:00:00\", \"genre\": \"Adventure\", \"inflation_adjusted_gross\": 936662225.0}, {\"movie_title\": \"Cinderella\", \"release_date\": \"1950-02-15T00:00:00\", \"genre\": \"Drama\", \"inflation_adjusted_gross\": 920608730.0}, {\"movie_title\": \"The Jungle Book\", \"release_date\": \"1967-10-18T00:00:00\", \"genre\": \"Musical\", \"inflation_adjusted_gross\": 789612346.0}, {\"movie_title\": \"The Lion King\", \"release_date\": \"1994-06-15T00:00:00\", \"genre\": \"Adventure\", \"inflation_adjusted_gross\": 761640898.0}, {\"movie_title\": \"The Avengers\", \"release_date\": \"2012-05-04T00:00:00\", \"genre\": \"Action\", \"inflation_adjusted_gross\": 660081224.0}, {\"movie_title\": \"Pirates of the Caribbean: Dead Man\\u2019\\u2026\", \"release_date\": \"2006-07-07T00:00:00\", \"genre\": \"Adventure\", \"inflation_adjusted_gross\": 544817142.0}, {\"movie_title\": \"Rogue One: A Star Wars Story\", \"release_date\": \"2016-12-16T00:00:00\", \"genre\": \"Adventure\", \"inflation_adjusted_gross\": 529483936.0}, {\"movie_title\": \"20,000 Leagues Under the Sea\", \"release_date\": \"1954-12-23T00:00:00\", \"genre\": \"Adventure\", \"inflation_adjusted_gross\": 528279994.0}, {\"movie_title\": \"Finding Nemo\", \"release_date\": \"2003-05-30T00:00:00\", \"genre\": \"Adventure\", \"inflation_adjusted_gross\": 518148559.0}, {\"movie_title\": \"Finding Dory\", \"release_date\": \"2016-06-17T00:00:00\", \"genre\": \"Adventure\", \"inflation_adjusted_gross\": 486295561.0}, {\"movie_title\": \"The Sixth Sense\", \"release_date\": \"1999-08-06T00:00:00\", \"genre\": \"Thriller/Suspense\", \"inflation_adjusted_gross\": 485424724.0}, {\"movie_title\": \"Avengers: Age of Ultron\", \"release_date\": \"2015-05-01T00:00:00\", \"genre\": \"Action\", \"inflation_adjusted_gross\": 459005868.0}, {\"movie_title\": \"Toy Story 3\", \"release_date\": \"2010-06-18T00:00:00\", \"genre\": \"Adventure\", \"inflation_adjusted_gross\": 443408255.0}, {\"movie_title\": \"Aladdin\", \"release_date\": \"1992-11-11T00:00:00\", \"genre\": \"Comedy\", \"inflation_adjusted_gross\": 441969178.0}, {\"movie_title\": \"Pirates of the Caribbean: The Curse o\\u2026\", \"release_date\": \"2003-07-09T00:00:00\", \"genre\": \"Adventure\", \"inflation_adjusted_gross\": 426967926.0}, {\"movie_title\": \"Iron Man 3\", \"release_date\": \"2013-05-03T00:00:00\", \"genre\": \"Action\", \"inflation_adjusted_gross\": 424084233.0}, {\"movie_title\": \"Monsters, Inc.\", \"release_date\": \"2001-11-02T00:00:00\", \"genre\": \"Adventure\", \"inflation_adjusted_gross\": 416073179.0}, {\"movie_title\": \"Frozen\", \"release_date\": \"2013-11-22T00:00:00\", \"genre\": \"Adventure\", \"inflation_adjusted_gross\": 414997174.0}, {\"movie_title\": \"Captain America: Civil War\", \"release_date\": \"2016-05-06T00:00:00\", \"genre\": \"Action\", \"inflation_adjusted_gross\": 408084349.0}, {\"movie_title\": \"Toy Story 2\", \"release_date\": \"1999-11-19T00:00:00\", \"genre\": \"Adventure\", \"inflation_adjusted_gross\": 404450426.0}, {\"movie_title\": \"The Chronicles of Narnia: The Lion, t\\u2026\", \"release_date\": \"2005-12-09T00:00:00\", \"genre\": \"Adventure\", \"inflation_adjusted_gross\": 381557539.0}, {\"movie_title\": \"Pirates of the Caribbean: At World\\u2019\\u2026\", \"release_date\": \"2007-05-24T00:00:00\", \"genre\": \"Adventure\", \"inflation_adjusted_gross\": 379129960.0}, {\"movie_title\": \"Toy Story\", \"release_date\": \"1995-11-22T00:00:00\", \"genre\": \"Adventure\", \"inflation_adjusted_gross\": 370409631.0}, {\"movie_title\": \"The Jungle Book\", \"release_date\": \"2016-04-15T00:00:00\", \"genre\": \"Adventure\", \"inflation_adjusted_gross\": 364001123.0}, {\"movie_title\": \"Beauty and the Beast\", \"release_date\": \"1991-11-13T00:00:00\", \"genre\": \"Musical\", \"inflation_adjusted_gross\": 363017667.0}, {\"movie_title\": \"Armageddon\", \"release_date\": \"1998-07-01T00:00:00\", \"genre\": \"Adventure\", \"inflation_adjusted_gross\": 362324957.0}, {\"movie_title\": \"Alice in Wonderland\", \"release_date\": \"2010-03-05T00:00:00\", \"genre\": \"Adventure\", \"inflation_adjusted_gross\": 357063499.0}, {\"movie_title\": \"Inside Out\", \"release_date\": \"2015-06-19T00:00:00\", \"genre\": \"Adventure\", \"inflation_adjusted_gross\": 356461711.0}, {\"movie_title\": \"Pretty Woman\", \"release_date\": \"1990-03-23T00:00:00\", \"genre\": \"Romantic Comedy\", \"inflation_adjusted_gross\": 356389765.0}, {\"movie_title\": \"The Incredibles\", \"release_date\": \"2004-11-05T00:00:00\", \"genre\": \"Adventure\", \"inflation_adjusted_gross\": 354488708.0}, {\"movie_title\": \"3 Men and a Baby\", \"release_date\": \"1987-11-25T00:00:00\", \"genre\": \"Comedy\", \"inflation_adjusted_gross\": 353334607.0}, {\"movie_title\": \"Guardians of the Galaxy\", \"release_date\": \"2014-08-01T00:00:00\", \"genre\": \"Adventure\", \"inflation_adjusted_gross\": 343771168.0}, {\"movie_title\": \"Zootopia\", \"release_date\": \"2016-03-04T00:00:00\", \"genre\": \"Adventure\", \"inflation_adjusted_gross\": 341268248.0}, {\"movie_title\": \"Signs\", \"release_date\": \"2002-08-02T00:00:00\", \"genre\": \"Thriller/Suspense\", \"inflation_adjusted_gross\": 330754439.0}, {\"movie_title\": \"Up\", \"release_date\": \"2009-05-29T00:00:00\", \"genre\": \"Adventure\", \"inflation_adjusted_gross\": 329336681.0}, {\"movie_title\": \"Who Framed Roger Rabbit?\", \"release_date\": \"1988-06-22T00:00:00\", \"genre\": \"Comedy\", \"inflation_adjusted_gross\": 316250084.0}, {\"movie_title\": \"Cars\", \"release_date\": \"2006-06-09T00:00:00\", \"genre\": \"Comedy\", \"inflation_adjusted_gross\": 314140384.0}, {\"movie_title\": \"The Absent Minded Professor\", \"release_date\": \"1961-03-16T00:00:00\", \"genre\": \"Comedy\", \"inflation_adjusted_gross\": 310094574.0}, {\"movie_title\": \"The Santa Clause\", \"release_date\": \"1994-11-11T00:00:00\", \"genre\": \"Comedy\", \"inflation_adjusted_gross\": 298369717.0}, {\"movie_title\": \"Pearl Harbor\", \"release_date\": \"2001-05-25T00:00:00\", \"genre\": \"Action\", \"inflation_adjusted_gross\": 295705112.0}, {\"movie_title\": \"A Bug's Life\", \"release_date\": \"1998-11-20T00:00:00\", \"genre\": \"Adventure\", \"inflation_adjusted_gross\": 288981698.0}, {\"movie_title\": \"The Waterboy\", \"release_date\": \"1998-11-06T00:00:00\", \"genre\": \"Comedy\", \"inflation_adjusted_gross\": 288691833.0}, {\"movie_title\": \"Tarzan\", \"release_date\": \"1999-06-16T00:00:00\", \"genre\": \"Adventure\", \"inflation_adjusted_gross\": 283900254.0}, {\"movie_title\": \"Sister Act\", \"release_date\": \"1992-05-29T00:00:00\", \"genre\": \"Comedy\", \"inflation_adjusted_gross\": 283583472.0}, {\"movie_title\": \"Monsters University\", \"release_date\": \"2013-06-21T00:00:00\", \"genre\": \"Adventure\", \"inflation_adjusted_gross\": 278395641.0}, {\"movie_title\": \"Honey, I Shrunk the Kids\", \"release_date\": \"1989-06-23T00:00:00\", \"genre\": \"Adventure\", \"inflation_adjusted_gross\": 276191669.0}, {\"movie_title\": \"Pocahontas\", \"release_date\": \"1995-06-10T00:00:00\", \"genre\": \"Adventure\", \"inflation_adjusted_gross\": 274370957.0}, {\"movie_title\": \"Captain America: The Winter Soldier\", \"release_date\": \"2014-04-04T00:00:00\", \"genre\": \"Action\", \"inflation_adjusted_gross\": 268013076.0}, {\"movie_title\": \"National Treasure 2: Book of Secrets\", \"release_date\": \"2007-12-21T00:00:00\", \"genre\": \"Adventure\", \"inflation_adjusted_gross\": 267003525.0}, {\"movie_title\": \"WALL-E\", \"release_date\": \"2008-06-27T00:00:00\", \"genre\": \"Adventure\", \"inflation_adjusted_gross\": 262771918.0}, {\"movie_title\": \"Ransom\", \"release_date\": \"1996-11-08T00:00:00\", \"genre\": \"Action\", \"inflation_adjusted_gross\": 259807820.0}, {\"movie_title\": \"101 Dalmatians\", \"release_date\": \"1996-11-27T00:00:00\", \"genre\": \"Comedy\", \"inflation_adjusted_gross\": 258728898.0}, {\"movie_title\": \"Pirates of the Caribbean: On Stranger\\u2026\", \"release_date\": \"2011-05-20T00:00:00\", \"genre\": \"Adventure\", \"inflation_adjusted_gross\": 256263359.0}, {\"movie_title\": \"The Rock\", \"release_date\": \"1996-06-07T00:00:00\", \"genre\": \"Action\", \"inflation_adjusted_gross\": 255702705.0}, {\"movie_title\": \"The Aristocats\", \"release_date\": \"1970-04-24T00:00:00\", \"genre\": \"Musical\", \"inflation_adjusted_gross\": 255161499.0}, {\"movie_title\": \"Good Morning Vietnam\", \"release_date\": \"1987-12-23T00:00:00\", \"genre\": \"Comedy\", \"inflation_adjusted_gross\": 254414837.0}, {\"movie_title\": \"Ratatouille\", \"release_date\": \"2007-06-29T00:00:00\", \"genre\": \"Comedy\", \"inflation_adjusted_gross\": 252955933.0}, {\"movie_title\": \"Brave\", \"release_date\": \"2012-06-22T00:00:00\", \"genre\": \"Adventure\", \"inflation_adjusted_gross\": 251292441.0}, {\"movie_title\": \"Maleficent\", \"release_date\": \"2014-05-30T00:00:00\", \"genre\": \"Adventure\", \"inflation_adjusted_gross\": 249089809.0}, {\"movie_title\": \"Moana\", \"release_date\": \"2016-11-23T00:00:00\", \"genre\": \"Adventure\", \"inflation_adjusted_gross\": 246082029.0}, {\"movie_title\": \"Oz the Great and Powerful\", \"release_date\": \"2013-03-08T00:00:00\", \"genre\": \"Adventure\", \"inflation_adjusted_gross\": 243434130.0}, {\"movie_title\": \"National Treasure\", \"release_date\": \"2004-11-19T00:00:00\", \"genre\": \"Adventure\", \"inflation_adjusted_gross\": 234069353.0}, {\"movie_title\": \"Doctor Strange\", \"release_date\": \"2016-11-04T00:00:00\", \"genre\": \"Adventure\", \"inflation_adjusted_gross\": 232532923.0}, {\"movie_title\": \"Big Hero 6\", \"release_date\": \"2014-11-07T00:00:00\", \"genre\": \"Adventure\", \"inflation_adjusted_gross\": 229249222.0}, {\"movie_title\": \"The Little Mermaid\", \"release_date\": \"1989-11-15T00:00:00\", \"genre\": \"Adventure\", \"inflation_adjusted_gross\": 223726012.0}, {\"movie_title\": \"Mulan\", \"release_date\": \"1998-06-19T00:00:00\", \"genre\": \"Adventure\", \"inflation_adjusted_gross\": 216807832.0}, {\"movie_title\": \"Dinosaur\", \"release_date\": \"2000-05-19T00:00:00\", \"genre\": \"Adventure\", \"inflation_adjusted_gross\": 215438985.0}, {\"movie_title\": \"Tangled\", \"release_date\": \"2010-11-24T00:00:00\", \"genre\": \"Adventure\", \"inflation_adjusted_gross\": 214388548.0}, {\"movie_title\": \"Thor: The Dark World\", \"release_date\": \"2013-11-08T00:00:00\", \"genre\": \"Adventure\", \"inflation_adjusted_gross\": 213962184.0}, {\"movie_title\": \"Lilo & Stitch\", \"release_date\": \"2002-06-21T00:00:00\", \"genre\": \"Adventure\", \"inflation_adjusted_gross\": 211506702.0}, {\"movie_title\": \"Dick Tracy\", \"release_date\": \"1990-06-15T00:00:00\", \"genre\": \"Action\", \"inflation_adjusted_gross\": 207231621.0}, {\"movie_title\": \"Wild Hogs\", \"release_date\": \"2007-03-02T00:00:00\", \"genre\": \"Comedy\", \"inflation_adjusted_gross\": 206110533.0}, {\"movie_title\": \"Cars 2\", \"release_date\": \"2011-06-24T00:00:00\", \"genre\": \"Adventure\", \"inflation_adjusted_gross\": 203522177.0}, {\"movie_title\": \"Dead Poets Society\", \"release_date\": \"1989-06-02T00:00:00\", \"genre\": \"Drama\", \"inflation_adjusted_gross\": 202531517.0}, {\"movie_title\": \"The Santa Clause 2\", \"release_date\": \"2002-11-01T00:00:00\", \"genre\": \"Comedy\", \"inflation_adjusted_gross\": 201959095.0}, {\"movie_title\": \"Cinderella\", \"release_date\": \"2015-03-13T00:00:00\", \"genre\": \"Drama\", \"inflation_adjusted_gross\": 201151353.0}, {\"movie_title\": \"Wreck-It Ralph\", \"release_date\": \"2012-11-02T00:00:00\", \"genre\": \"Adventure\", \"inflation_adjusted_gross\": 200354959.0}, {\"movie_title\": \"Phenomenon\", \"release_date\": \"1996-07-05T00:00:00\", \"genre\": \"Drama\", \"inflation_adjusted_gross\": 199559799.0}, {\"movie_title\": \"Enemy of the State\", \"release_date\": \"1998-11-20T00:00:00\", \"genre\": \"Action\", \"inflation_adjusted_gross\": 198472008.0}, {\"movie_title\": \"George Of The Jungle\", \"release_date\": \"1997-07-16T00:00:00\", \"genre\": \"Comedy\", \"inflation_adjusted_gross\": 193326632.0}, {\"movie_title\": \"Lincoln\", \"release_date\": \"2012-11-09T00:00:00\", \"genre\": \"Drama\", \"inflation_adjusted_gross\": 192122330.0}, {\"movie_title\": \"The Hunchback of Notre Dame\", \"release_date\": \"1996-06-21T00:00:00\", \"genre\": \"Adventure\", \"inflation_adjusted_gross\": 190988799.0}, {\"movie_title\": \"Con Air\", \"release_date\": \"1997-06-06T00:00:00\", \"genre\": \"Action\", \"inflation_adjusted_gross\": 185712664.0}, {\"movie_title\": \"Bringing Down the House\", \"release_date\": \"2003-03-07T00:00:00\", \"genre\": \"Comedy\", \"inflation_adjusted_gross\": 185481530.0}, {\"movie_title\": \"Sweet Home Alabama\", \"release_date\": \"2002-09-27T00:00:00\", \"genre\": \"Comedy\", \"inflation_adjusted_gross\": 184521151.0}, {\"movie_title\": \"The Proposal\", \"release_date\": \"2009-06-19T00:00:00\", \"genre\": \"Romantic Comedy\", \"inflation_adjusted_gross\": 184288829.0}, {\"movie_title\": \"Tron: Legacy\", \"release_date\": \"2010-12-17T00:00:00\", \"genre\": \"Adventure\", \"inflation_adjusted_gross\": 183619259.0}, {\"movie_title\": \"Hercules\", \"release_date\": \"1997-06-13T00:00:00\", \"genre\": \"Adventure\", \"inflation_adjusted_gross\": 182029412.0}, {\"movie_title\": \"Remember the Titans\", \"release_date\": \"2000-09-29T00:00:00\", \"genre\": \"Drama\", \"inflation_adjusted_gross\": 180742479.0}, {\"movie_title\": \"The Help\", \"release_date\": \"2011-08-10T00:00:00\", \"genre\": \"Drama\", \"inflation_adjusted_gross\": 180404976.0}, {\"movie_title\": \"Ant-Man\", \"release_date\": \"2015-07-17T00:00:00\", \"genre\": \"Action\", \"inflation_adjusted_gross\": 180202163.0}, {\"movie_title\": \"Father of the Bride\", \"release_date\": \"1991-12-20T00:00:00\", \"genre\": \"Comedy\", \"inflation_adjusted_gross\": 179821881.0}, {\"movie_title\": \"The Hand That Rocks the Cradle\", \"release_date\": \"1992-01-10T00:00:00\", \"genre\": \"Thriller/Suspense\", \"inflation_adjusted_gross\": 178831137.0}, {\"movie_title\": \"Chicken Little\", \"release_date\": \"2005-11-04T00:00:00\", \"genre\": \"Adventure\", \"inflation_adjusted_gross\": 177954661.0}, {\"movie_title\": \"Crimson Tide\", \"release_date\": \"1995-05-12T00:00:00\", \"genre\": \"Action\", \"inflation_adjusted_gross\": 177102077.0}, {\"movie_title\": \"Flubber\", \"release_date\": \"1997-11-26T00:00:00\", \"genre\": \"Comedy\", \"inflation_adjusted_gross\": 170406423.0}, {\"movie_title\": \"The Chronicles of Narnia: Prince Caspian\", \"release_date\": \"2008-05-16T00:00:00\", \"genre\": \"Adventure\", \"inflation_adjusted_gross\": 166277038.0}, {\"movie_title\": \"Dangerous Minds\", \"release_date\": \"1995-08-11T00:00:00\", \"genre\": \"Drama\", \"inflation_adjusted_gross\": 164552293.0}, {\"movie_title\": \"Ruthless People\", \"release_date\": \"1986-06-27T00:00:00\", \"genre\": \"Comedy\", \"inflation_adjusted_gross\": 162748712.0}, {\"movie_title\": \"Inspector Gadget\", \"release_date\": \"1999-07-23T00:00:00\", \"genre\": \"Comedy\", \"inflation_adjusted_gross\": 161610341.0}, {\"movie_title\": \"The Princess Diaries\", \"release_date\": \"2001-08-03T00:00:00\", \"genre\": \"Comedy\", \"inflation_adjusted_gross\": 161218928.0}, {\"movie_title\": \"Cocktail\", \"release_date\": \"1988-07-29T00:00:00\", \"genre\": \"Drama\", \"inflation_adjusted_gross\": 160442289.0}, {\"movie_title\": \"The Rescuers\", \"release_date\": \"1977-06-22T00:00:00\", \"genre\": \"Adventure\", \"inflation_adjusted_gross\": 159743914.0}, {\"movie_title\": \"Gone in 60 Seconds\", \"release_date\": \"2000-06-09T00:00:00\", \"genre\": \"Action\", \"inflation_adjusted_gross\": 158970411.0}, {\"movie_title\": \"Mr. Holland's Opus\", \"release_date\": \"1995-12-29T00:00:00\", \"genre\": \"Drama\", \"inflation_adjusted_gross\": 157508868.0}, {\"movie_title\": \"While You Were Sleeping\", \"release_date\": \"1995-04-21T00:00:00\", \"genre\": \"Romantic Comedy\", \"inflation_adjusted_gross\": 157082900.0}, {\"movie_title\": \"Splash\", \"release_date\": \"1984-03-09T00:00:00\", \"genre\": \"Comedy\", \"inflation_adjusted_gross\": 157057661.0}, {\"movie_title\": \"Enchanted\", \"release_date\": \"2007-11-21T00:00:00\", \"genre\": \"Romantic Comedy\", \"inflation_adjusted_gross\": 156074310.0}, {\"movie_title\": \"The Village\", \"release_date\": \"2004-07-30T00:00:00\", \"genre\": \"Thriller/Suspense\", \"inflation_adjusted_gross\": 155021748.0}, {\"movie_title\": \"Disney's A Christmas Carol\", \"release_date\": \"2009-11-06T00:00:00\", \"genre\": \"Drama\", \"inflation_adjusted_gross\": 154927105.0}, {\"movie_title\": \"Freaky Friday\", \"release_date\": \"2003-08-06T00:00:00\", \"genre\": \"Comedy\", \"inflation_adjusted_gross\": 154090360.0}, {\"movie_title\": \"The Sword in the Stone\", \"release_date\": \"1963-12-25T00:00:00\", \"genre\": \"Adventure\", \"inflation_adjusted_gross\": 153870834.0}, {\"movie_title\": \"Turner & Hooch\", \"release_date\": \"1989-07-28T00:00:00\", \"genre\": \"Comedy\", \"inflation_adjusted_gross\": 150176361.0}, {\"movie_title\": \"The Pacifier\", \"release_date\": \"2005-03-04T00:00:00\", \"genre\": \"Comedy\", \"inflation_adjusted_gross\": 148619029.0}, {\"movie_title\": \"Unbreakable\", \"release_date\": \"2000-11-22T00:00:00\", \"genre\": \"Thriller/Suspense\", \"inflation_adjusted_gross\": 148208901.0}, {\"movie_title\": \"Father of the Bride Part II\", \"release_date\": \"1995-12-08T00:00:00\", \"genre\": \"Comedy\", \"inflation_adjusted_gross\": 147658438.0}, {\"movie_title\": \"3 Men and a Little Lady\", \"release_date\": \"1990-11-21T00:00:00\", \"genre\": \"Comedy\", \"inflation_adjusted_gross\": 143108869.0}, {\"movie_title\": \"Stakeout\", \"release_date\": \"1987-08-05T00:00:00\", \"genre\": \"Comedy\", \"inflation_adjusted_gross\": 141592160.0}, {\"movie_title\": \"Down and Out in Beverly Hills\", \"release_date\": \"1986-01-31T00:00:00\", \"genre\": \"Comedy\", \"inflation_adjusted_gross\": 141183693.0}, {\"movie_title\": \"Cool Runnings\", \"release_date\": \"1993-10-01T00:00:00\", \"genre\": \"Comedy\", \"inflation_adjusted_gross\": 140392731.0}, {\"movie_title\": \"Blackbeard's Ghost\", \"release_date\": \"1968-02-08T00:00:00\", \"genre\": \"Comedy\", \"inflation_adjusted_gross\": 138612686.0}, {\"movie_title\": \"The Emperor's New Groove\", \"release_date\": \"2000-12-15T00:00:00\", \"genre\": \"Adventure\", \"inflation_adjusted_gross\": 136789252.0}, {\"movie_title\": \"The Horse Whisperer\", \"release_date\": \"1998-05-15T00:00:00\", \"genre\": \"Drama\", \"inflation_adjusted_gross\": 135497531.0}, {\"movie_title\": \"G-Force\", \"release_date\": \"2009-07-24T00:00:00\", \"genre\": \"Adventure\", \"inflation_adjusted_gross\": 134246932.0}, {\"movie_title\": \"Bolt\", \"release_date\": \"2008-11-21T00:00:00\", \"genre\": \"Comedy\", \"inflation_adjusted_gross\": 133702498.0}, {\"movie_title\": \"Six Days, Seven Nights\", \"release_date\": \"1998-06-12T00:00:00\", \"genre\": \"Romantic Comedy\", \"inflation_adjusted_gross\": 133620516.0}, {\"movie_title\": \"The Fox and the Hound\", \"release_date\": \"1981-07-10T00:00:00\", \"genre\": \"Comedy\", \"inflation_adjusted_gross\": 133118889.0}, {\"movie_title\": \"The Apple Dumpling Gang\", \"release_date\": \"1975-07-01T00:00:00\", \"genre\": \"Comedy\", \"inflation_adjusted_gross\": 131246872.0}, {\"movie_title\": \"Into the Woods\", \"release_date\": \"2014-12-25T00:00:00\", \"genre\": \"Musical\", \"inflation_adjusted_gross\": 130894237.0}, {\"movie_title\": \"The Princess Diaries 2: Royal Engagement\", \"release_date\": \"2004-08-11T00:00:00\", \"genre\": \"Romantic Comedy\", \"inflation_adjusted_gross\": 129164207.0}, {\"movie_title\": \"Bedtime Stories\", \"release_date\": \"2008-12-25T00:00:00\", \"genre\": \"Comedy\", \"inflation_adjusted_gross\": 128039679.0}, {\"movie_title\": \"What About Bob?\", \"release_date\": \"1991-05-17T00:00:00\", \"genre\": \"Comedy\", \"inflation_adjusted_gross\": 127571325.0}, {\"movie_title\": \"Atlantis: The Lost Empire\", \"release_date\": \"2001-06-08T00:00:00\", \"genre\": \"Adventure\", \"inflation_adjusted_gross\": 125188122.0}, {\"movie_title\": \"Babes in Toyland\", \"release_date\": \"1961-12-14T00:00:00\", \"genre\": \"Musical\", \"inflation_adjusted_gross\": 124841160.0}, {\"movie_title\": \"The Good Dinosaur\", \"release_date\": \"2015-11-25T00:00:00\", \"genre\": \"Adventure\", \"inflation_adjusted_gross\": 123087120.0}, {\"movie_title\": \"Beaches\", \"release_date\": \"1988-12-21T00:00:00\", \"genre\": \"Drama\", \"inflation_adjusted_gross\": 120381757.0}, {\"movie_title\": \"Meet the Robinsons\", \"release_date\": \"2007-03-30T00:00:00\", \"genre\": \"Adventure\", \"inflation_adjusted_gross\": 119860589.0}, {\"movie_title\": \"Brother Bear\", \"release_date\": \"2003-10-24T00:00:00\", \"genre\": \"Adventure\", \"inflation_adjusted_gross\": 119218333.0}, {\"movie_title\": \"The Parent Trap\", \"release_date\": \"1998-07-29T00:00:00\", \"genre\": \"Comedy\", \"inflation_adjusted_gross\": 119185667.0}, {\"movie_title\": \"Honey I Blew Up the Kid\", \"release_date\": \"1992-07-17T00:00:00\", \"genre\": \"Comedy\", \"inflation_adjusted_gross\": 119162518.0}, {\"movie_title\": \"Flightplan\", \"release_date\": \"2005-09-23T00:00:00\", \"genre\": \"Thriller/Suspense\", \"inflation_adjusted_gross\": 117960425.0}, {\"movie_title\": \"The Color of Money\", \"release_date\": \"1986-10-17T00:00:00\", \"genre\": \"Drama\", \"inflation_adjusted_gross\": 117957323.0}, {\"movie_title\": \"Snow Dogs\", \"release_date\": \"2002-01-18T00:00:00\", \"genre\": \"Comedy\", \"inflation_adjusted_gross\": 117745317.0}, {\"movie_title\": \"Sister Act 2 Back in the Habit\", \"release_date\": \"1993-12-10T00:00:00\", \"genre\": \"Comedy\", \"inflation_adjusted_gross\": 116965668.0}, {\"movie_title\": \"The Princess and the Frog\", \"release_date\": \"2009-11-25T00:00:00\", \"genre\": \"Adventure\", \"inflation_adjusted_gross\": 116316457.0}, {\"movie_title\": \"Tombstone\", \"release_date\": \"1993-12-25T00:00:00\", \"genre\": \"Western\", \"inflation_adjusted_gross\": 115781734.0}, {\"movie_title\": \"Outrageous Fortune\", \"release_date\": \"1987-01-30T00:00:00\", \"genre\": \"Comedy\", \"inflation_adjusted_gross\": 113976921.0}, {\"movie_title\": \"Jack\", \"release_date\": \"1996-08-09T00:00:00\", \"genre\": \"Drama\", \"inflation_adjusted_gross\": 111792852.0}, {\"movie_title\": \"The Game Plan\", \"release_date\": \"2007-09-22T00:00:00\", \"genre\": \"Comedy\", \"inflation_adjusted_gross\": 111010758.0}, {\"movie_title\": \"Beverly Hills Chihuahua\", \"release_date\": \"2008-10-03T00:00:00\", \"genre\": \"Comedy\", \"inflation_adjusted_gross\": 110932022.0}, {\"movie_title\": \"Jungle 2 Jungle\", \"release_date\": \"1997-03-07T00:00:00\", \"genre\": \"Comedy\", \"inflation_adjusted_gross\": 110058379.0}, {\"movie_title\": \"The Rookie\", \"release_date\": \"2002-03-29T00:00:00\", \"genre\": \"Drama\", \"inflation_adjusted_gross\": 109691666.0}, {\"movie_title\": \"Bon Voyage!\", \"release_date\": \"1962-05-17T00:00:00\", \"genre\": \"Comedy\", \"inflation_adjusted_gross\": 109581646.0}, {\"movie_title\": \"The Three Musketeers\", \"release_date\": \"1993-11-12T00:00:00\", \"genre\": \"Adventure\", \"inflation_adjusted_gross\": 109310377.0}, {\"movie_title\": \"The Kid\", \"release_date\": \"2000-07-07T00:00:00\", \"genre\": \"Comedy\", \"inflation_adjusted_gross\": 108993148.0}, {\"movie_title\": \"The Santa Clause 3: The Escape Clause\", \"release_date\": \"2006-11-03T00:00:00\", \"genre\": \"Comedy\", \"inflation_adjusted_gross\": 108694869.0}, {\"movie_title\": \"Deuce Bigalow: Male Gigolo\", \"release_date\": \"1999-12-10T00:00:00\", \"genre\": \"Comedy\", \"inflation_adjusted_gross\": 106921374.0}, {\"movie_title\": \"High School Musical 3: Senior Year\", \"release_date\": \"2008-10-24T00:00:00\", \"genre\": \"Musical\", \"inflation_adjusted_gross\": 106308538.0}, {\"movie_title\": \"Arachnophobia\", \"release_date\": \"1990-07-18T00:00:00\", \"genre\": \"Thriller/Suspense\", \"inflation_adjusted_gross\": 106290270.0}, {\"movie_title\": \"Gnomeo and Juliet\", \"release_date\": \"2011-02-11T00:00:00\", \"genre\": \"Comedy\", \"inflation_adjusted_gross\": 106270797.0}, {\"movie_title\": \"The Haunted Mansion\", \"release_date\": \"2003-11-26T00:00:00\", \"genre\": \"Comedy\", \"inflation_adjusted_gross\": 105775678.0}, {\"movie_title\": \"Eight Below\", \"release_date\": \"2006-02-17T00:00:00\", \"genre\": \"Adventure\", \"inflation_adjusted_gross\": 105037235.0}, {\"movie_title\": \"102 Dalmatians\", \"release_date\": \"2000-11-22T00:00:00\", \"genre\": \"Comedy\", \"inflation_adjusted_gross\": 104055039.0}, {\"movie_title\": \"Angels in the Outfield\", \"release_date\": \"1994-07-15T00:00:00\", \"genre\": \"Comedy\", \"inflation_adjusted_gross\": 103798152.0}, {\"movie_title\": \"When a Man Loves a Woman\", \"release_date\": \"1994-04-29T00:00:00\", \"genre\": \"Drama\", \"inflation_adjusted_gross\": 103354194.0}, {\"movie_title\": \"The Mighty Ducks\", \"release_date\": \"1992-10-02T00:00:00\", \"genre\": \"Comedy\", \"inflation_adjusted_gross\": 103120810.0}, {\"movie_title\": \"Oliver & Company\", \"release_date\": \"1988-11-18T00:00:00\", \"genre\": \"Adventure\", \"inflation_adjusted_gross\": 102254492.0}, {\"movie_title\": \"The Boatniks\", \"release_date\": \"1970-07-01T00:00:00\", \"genre\": \"Comedy\", \"inflation_adjusted_gross\": 101200742.0}, {\"movie_title\": \"Ladder 49\", \"release_date\": \"2004-10-01T00:00:00\", \"genre\": \"Action\", \"inflation_adjusted_gross\": 101161045.0}, {\"movie_title\": \"Bridge to Terabithia\", \"release_date\": \"2007-02-16T00:00:00\", \"genre\": \"Drama\", \"inflation_adjusted_gross\": 100760721.0}, {\"movie_title\": \"The Nightmare Before Christmas\", \"release_date\": \"1993-10-13T00:00:00\", \"genre\": \"Musical\", \"inflation_adjusted_gross\": 100026637.0}, {\"movie_title\": \"Freaky Friday\", \"release_date\": \"1977-01-21T00:00:00\", \"genre\": \"Comedy\", \"inflation_adjusted_gross\": 98067733.0}, {\"movie_title\": \"Up Close & Personal\", \"release_date\": \"1996-03-01T00:00:00\", \"genre\": \"Drama\", \"inflation_adjusted_gross\": 97356578.0}, {\"movie_title\": \"Prince of Persia: Sands of Time\", \"release_date\": \"2010-05-28T00:00:00\", \"genre\": \"Action\", \"inflation_adjusted_gross\": 96971361.0}, {\"movie_title\": \"Mission to Mars\", \"release_date\": \"2000-03-10T00:00:00\", \"genre\": \"Adventure\", \"inflation_adjusted_gross\": 95208344.0}, {\"movie_title\": \"Coyote Ugly\", \"release_date\": \"2000-08-04T00:00:00\", \"genre\": \"Drama\", \"inflation_adjusted_gross\": 95070168.0}, {\"movie_title\": \"Fantasia 2000 (IMAX)\", \"release_date\": \"2000-01-01T00:00:00\", \"genre\": \"Musical\", \"inflation_adjusted_gross\": 94852354.0}, {\"movie_title\": \"Bicentennial Man\", \"release_date\": \"1999-12-17T00:00:00\", \"genre\": \"Drama\", \"inflation_adjusted_gross\": 94838225.0}, {\"movie_title\": \"The Distinguished Gentleman\", \"release_date\": \"1992-12-04T00:00:00\", \"genre\": \"Comedy\", \"inflation_adjusted_gross\": 94349900.0}, {\"movie_title\": \"D2: The Mighty Ducks\", \"release_date\": \"1994-03-25T00:00:00\", \"genre\": \"Comedy\", \"inflation_adjusted_gross\": 94226333.0}, {\"movie_title\": \"Holes\", \"release_date\": \"2003-04-18T00:00:00\", \"genre\": \"Drama\", \"inflation_adjusted_gross\": 94203395.0}, {\"movie_title\": \"The Muppets\", \"release_date\": \"2011-11-23T00:00:00\", \"genre\": \"Comedy\", \"inflation_adjusted_gross\": 94189503.0}, {\"movie_title\": \"A Civil Action\", \"release_date\": \"1998-12-25T00:00:00\", \"genre\": \"Drama\", \"inflation_adjusted_gross\": 94139530.0}, {\"movie_title\": \"Disney Planes\", \"release_date\": \"2013-08-09T00:00:00\", \"genre\": \"Comedy\", \"inflation_adjusted_gross\": 93614037.0}, {\"movie_title\": \"Tomorrowland\", \"release_date\": \"2015-05-22T00:00:00\", \"genre\": \"Adventure\", \"inflation_adjusted_gross\": 93436322.0}, {\"movie_title\": \"The Rocketeer\", \"release_date\": \"1991-06-21T00:00:00\", \"genre\": \"Action\", \"inflation_adjusted_gross\": 93256673.0}, {\"movie_title\": \"The Lone Ranger\", \"release_date\": \"2013-07-02T00:00:00\", \"genre\": \"Western\", \"inflation_adjusted_gross\": 92597388.0}, {\"movie_title\": \"Evita\", \"release_date\": \"1996-12-25T00:00:00\", \"genre\": \"Musical\", \"inflation_adjusted_gross\": 92077628.0}, {\"movie_title\": \"Hidalgo\", \"release_date\": \"2004-03-05T00:00:00\", \"genre\": \"Western\", \"inflation_adjusted_gross\": 91340921.0}, {\"movie_title\": \"Bedknobs and Broomsticks\", \"release_date\": \"1971-10-07T00:00:00\", \"genre\": \"Musical\", \"inflation_adjusted_gross\": 91305448.0}, {\"movie_title\": \"Medicine Man\", \"release_date\": \"1992-02-07T00:00:00\", \"genre\": \"Drama\", \"inflation_adjusted_gross\": 91304495.0}, {\"movie_title\": \"The Preacher's Wife\", \"release_date\": \"1996-12-13T00:00:00\", \"genre\": \"Drama\", \"inflation_adjusted_gross\": 91076877.0}, {\"movie_title\": \"Real Steel\", \"release_date\": \"2011-10-07T00:00:00\", \"genre\": \"Action\", \"inflation_adjusted_gross\": 90848019.0}, {\"movie_title\": \"Hannah Montana the Movie\", \"release_date\": \"2009-04-10T00:00:00\", \"genre\": \"Drama\", \"inflation_adjusted_gross\": 89443640.0}, {\"movie_title\": \"Shanghai Noon\", \"release_date\": \"2000-05-26T00:00:00\", \"genre\": \"Western\", \"inflation_adjusted_gross\": 89042541.0}, {\"movie_title\": \"The Jungle Book\", \"release_date\": \"1994-12-25T00:00:00\", \"genre\": \"Adventure\", \"inflation_adjusted_gross\": 88930321.0}, {\"movie_title\": \"G.I. Jane\", \"release_date\": \"1997-08-22T00:00:00\", \"genre\": \"Drama\", \"inflation_adjusted_gross\": 88467531.0}, {\"movie_title\": \"Mighty Joe Young\", \"release_date\": \"1998-12-25T00:00:00\", \"genre\": \"Adventure\", \"inflation_adjusted_gross\": 87906042.0}, {\"movie_title\": \"Miracle\", \"release_date\": \"2004-02-06T00:00:00\", \"genre\": \"Drama\", \"inflation_adjusted_gross\": 87392478.0}, {\"movie_title\": \"Herbie: Fully Loaded\", \"release_date\": \"2005-06-22T00:00:00\", \"genre\": \"Comedy\", \"inflation_adjusted_gross\": 86812798.0}, {\"movie_title\": \"Saving Mr. Banks\", \"release_date\": \"2013-12-13T00:00:00\", \"genre\": \"Drama\", \"inflation_adjusted_gross\": 86249969.0}, {\"movie_title\": \"Three Fugitives\", \"release_date\": \"1989-01-27T00:00:00\", \"genre\": \"Comedy\", \"inflation_adjusted_gross\": 85757817.0}, {\"movie_title\": \"Homeward Bound: The Incredible Journey\", \"release_date\": \"1993-02-03T00:00:00\", \"genre\": \"Adventure\", \"inflation_adjusted_gross\": 85182343.0}, {\"movie_title\": \"War Horse\", \"release_date\": \"2011-12-25T00:00:00\", \"genre\": \"Drama\", \"inflation_adjusted_gross\": 84762149.0}, {\"movie_title\": \"Shanghai Knights\", \"release_date\": \"2003-02-07T00:00:00\", \"genre\": \"Adventure\", \"inflation_adjusted_gross\": 84537962.0}, {\"movie_title\": \"Sky High\", \"release_date\": \"2005-07-29T00:00:00\", \"genre\": \"Adventure\", \"inflation_adjusted_gross\": 84088854.0}, {\"movie_title\": \"Step Up\", \"release_date\": \"2006-08-11T00:00:00\", \"genre\": \"Drama\", \"inflation_adjusted_gross\": 84078780.0}, {\"movie_title\": \"Big Business\", \"release_date\": \"1988-06-10T00:00:00\", \"genre\": \"Comedy\", \"inflation_adjusted_gross\": 82352451.0}, {\"movie_title\": \"D\\u00e9j\\u00e0 Vu\", \"release_date\": \"2006-11-22T00:00:00\", \"genre\": \"Thriller/Suspense\", \"inflation_adjusted_gross\": 82267038.0}, {\"movie_title\": \"Nothing To Lose\", \"release_date\": \"1997-07-18T00:00:00\", \"genre\": \"Comedy\", \"inflation_adjusted_gross\": 81692095.0}, {\"movie_title\": \"Open Range\", \"release_date\": \"2003-08-15T00:00:00\", \"genre\": \"Western\", \"inflation_adjusted_gross\": 81547672.0}, {\"movie_title\": \"Encino Man\", \"release_date\": \"1992-05-22T00:00:00\", \"genre\": \"Comedy\", \"inflation_adjusted_gross\": 81369058.0}, {\"movie_title\": \"Hocus Pocus\", \"release_date\": \"1993-07-16T00:00:00\", \"genre\": \"Comedy\", \"inflation_adjusted_gross\": 80147079.0}, {\"movie_title\": \"What's Love Got to Do With It\", \"release_date\": \"1993-06-09T00:00:00\", \"genre\": \"Drama\", \"inflation_adjusted_gross\": 79618610.0}, {\"movie_title\": \"The Count of Monte Cristo\", \"release_date\": \"2002-01-25T00:00:00\", \"genre\": \"Drama\", \"inflation_adjusted_gross\": 78682079.0}, {\"movie_title\": \"The Shaggy Dog\", \"release_date\": \"2006-03-10T00:00:00\", \"genre\": \"Comedy\", \"inflation_adjusted_gross\": 78667428.0}, {\"movie_title\": \"Man of the House\", \"release_date\": \"1995-03-03T00:00:00\", \"genre\": \"Comedy\", \"inflation_adjusted_gross\": 77573459.0}, {\"movie_title\": \"John Carter\", \"release_date\": \"2012-03-09T00:00:00\", \"genre\": \"Adventure\", \"inflation_adjusted_gross\": 77372445.0}, {\"movie_title\": \"Tron\", \"release_date\": \"1982-07-09T00:00:00\", \"genre\": \"Action\", \"inflation_adjusted_gross\": 77184895.0}, {\"movie_title\": \"Alice Through the Looking Glass\", \"release_date\": \"2016-05-27T00:00:00\", \"genre\": \"Adventure\", \"inflation_adjusted_gross\": 77042381.0}, {\"movie_title\": \"The Royal Tenenbaums\", \"release_date\": \"2001-12-14T00:00:00\", \"genre\": \"Black Comedy\", \"inflation_adjusted_gross\": 76758193.0}, {\"movie_title\": \"Hannah Montana/Miley Cyrus: Best of B\\u2026\", \"release_date\": \"2008-02-01T00:00:00\", \"genre\": \"Concert/Performance\", \"inflation_adjusted_gross\": 76646993.0}, {\"movie_title\": \"Pete\\u2019s Dragon\", \"release_date\": \"2016-08-12T00:00:00\", \"genre\": \"Adventure\", \"inflation_adjusted_gross\": 76233151.0}, {\"movie_title\": \"Race to Witch Mountain\", \"release_date\": \"2009-03-13T00:00:00\", \"genre\": \"Adventure\", \"inflation_adjusted_gross\": 75501997.0}, {\"movie_title\": \"The Doctor\", \"release_date\": \"1991-07-24T00:00:00\", \"genre\": \"Drama\", \"inflation_adjusted_gross\": 75084021.0}, {\"movie_title\": \"Invincible\", \"release_date\": \"2006-08-25T00:00:00\", \"genre\": \"Drama\", \"inflation_adjusted_gross\": 74398864.0}, {\"movie_title\": \"Alive\", \"release_date\": \"1993-01-15T00:00:00\", \"genre\": \"Adventure\", \"inflation_adjusted_gross\": 73914543.0}, {\"movie_title\": \"The Recruit\", \"release_date\": \"2003-01-31T00:00:00\", \"genre\": \"Thriller/Suspense\", \"inflation_adjusted_gross\": 73793522.0}, {\"movie_title\": \"Adventures in Babysitting\", \"release_date\": \"1987-07-03T00:00:00\", \"genre\": \"Comedy\", \"inflation_adjusted_gross\": 72853569.0}, {\"movie_title\": \"Bridge of Spies\", \"release_date\": \"2015-10-16T00:00:00\", \"genre\": \"Thriller/Suspense\", \"inflation_adjusted_gross\": 72313754.0}, {\"movie_title\": \"The Tigger Movie\", \"release_date\": \"2000-02-11T00:00:00\", \"genre\": \"Adventure\", \"inflation_adjusted_gross\": 71228678.0}, {\"movie_title\": \"The Guardian\", \"release_date\": \"2006-09-29T00:00:00\", \"genre\": \"Action\", \"inflation_adjusted_gross\": 70801353.0}, {\"movie_title\": \"Never Cry Wolf\", \"release_date\": \"1983-10-07T00:00:00\", \"genre\": \"Drama\", \"inflation_adjusted_gross\": 70669955.0}, {\"movie_title\": \"King Arthur\", \"release_date\": \"2004-07-07T00:00:00\", \"genre\": \"Adventure\", \"inflation_adjusted_gross\": 70423706.0}, {\"movie_title\": \"Peter Pan: Return to Neverland\", \"release_date\": \"2002-02-15T00:00:00\", \"genre\": \"Adventure\", \"inflation_adjusted_gross\": 70269715.0}, {\"movie_title\": \"White Fang\", \"release_date\": \"1991-01-18T00:00:00\", \"genre\": \"Adventure\", \"inflation_adjusted_gross\": 69540672.0}, {\"movie_title\": \"Alexander and the Terrible, Horrible,\\u2026\", \"release_date\": \"2014-10-10T00:00:00\", \"genre\": \"Comedy\", \"inflation_adjusted_gross\": 69055550.0}, {\"movie_title\": \"A Goofy Movie\", \"release_date\": \"1995-04-07T00:00:00\", \"genre\": \"Comedy\", \"inflation_adjusted_gross\": 68479579.0}, {\"movie_title\": \"The Prestige\", \"release_date\": \"2006-10-20T00:00:00\", \"genre\": \"Thriller/Suspense\", \"inflation_adjusted_gross\": 68289913.0}, {\"movie_title\": \"Can't Buy Me Love\", \"release_date\": \"1987-08-14T00:00:00\", \"genre\": \"Romantic Comedy\", \"inflation_adjusted_gross\": 68181300.0}, {\"movie_title\": \"Step Up 2 the Streets\", \"release_date\": \"2008-02-14T00:00:00\", \"genre\": \"Drama\", \"inflation_adjusted_gross\": 68118371.0}, {\"movie_title\": \"O Brother, Where Art Thou?\", \"release_date\": \"2000-12-22T00:00:00\", \"genre\": \"Comedy\", \"inflation_adjusted_gross\": 67922002.0}, {\"movie_title\": \"Home on the Range\", \"release_date\": \"2004-04-02T00:00:00\", \"genre\": \"Comedy\", \"inflation_adjusted_gross\": 67910166.0}, {\"movie_title\": \"The Sorcerer's Apprentice\", \"release_date\": \"2010-07-14T00:00:00\", \"genre\": \"Adventure\", \"inflation_adjusted_gross\": 67473105.0}, {\"movie_title\": \"The Last Song\", \"release_date\": \"2010-03-31T00:00:00\", \"genre\": \"Drama\", \"inflation_adjusted_gross\": 67258772.0}, {\"movie_title\": \"Judge Dredd\", \"release_date\": \"1995-06-30T00:00:00\", \"genre\": \"Action\", \"inflation_adjusted_gross\": 67222776.0}, {\"movie_title\": \"The Hitchhiker's Guide to the Galaxy\", \"release_date\": \"2005-04-29T00:00:00\", \"genre\": \"Comedy\", \"inflation_adjusted_gross\": 67096891.0}, {\"movie_title\": \"The Jungle Book 2\", \"release_date\": \"2003-02-14T00:00:00\", \"genre\": \"Adventure\", \"inflation_adjusted_gross\": 66966883.0}, {\"movie_title\": \"The Joy Luck Club\", \"release_date\": \"1993-09-08T00:00:00\", \"genre\": \"Drama\", \"inflation_adjusted_gross\": 66768171.0}, {\"movie_title\": \"Muppet Treasure Island\", \"release_date\": \"1996-02-16T00:00:00\", \"genre\": \"Adventure\", \"inflation_adjusted_gross\": 65470567.0}, {\"movie_title\": \"Apocalypto\", \"release_date\": \"2006-12-08T00:00:00\", \"genre\": \"Adventure\", \"inflation_adjusted_gross\": 64959548.0}, {\"movie_title\": \"Secretariat\", \"release_date\": \"2010-10-08T00:00:00\", \"genre\": \"Drama\", \"inflation_adjusted_gross\": 63781920.0}, {\"movie_title\": \"I Love Trouble\", \"release_date\": \"1994-06-29T00:00:00\", \"genre\": \"Romantic Comedy\", \"inflation_adjusted_gross\": 63651027.0}, {\"movie_title\": \"Ten Things I Hate About You\", \"release_date\": \"1999-03-31T00:00:00\", \"genre\": \"Romantic Comedy\", \"inflation_adjusted_gross\": 63354375.0}, {\"movie_title\": \"Blank Check\", \"release_date\": \"1994-02-11T00:00:00\", \"genre\": \"Comedy\", \"inflation_adjusted_gross\": 63170804.0}, {\"movie_title\": \"Reign of Fire\", \"release_date\": \"2002-02-19T00:00:00\", \"genre\": \"Action\", \"inflation_adjusted_gross\": 62480631.0}, {\"movie_title\": \"Homeward Bound II: Lost in San Franc\\u2026\", \"release_date\": \"1996-03-08T00:00:00\", \"genre\": \"Adventure\", \"inflation_adjusted_gross\": 62384706.0}, {\"movie_title\": \"My Favorite Martian\", \"release_date\": \"1999-02-12T00:00:00\", \"genre\": \"Comedy\", \"inflation_adjusted_gross\": 61150849.0}, {\"movie_title\": \"Planes: Fire and Rescue\", \"release_date\": \"2014-07-18T00:00:00\", \"genre\": \"Adventure\", \"inflation_adjusted_gross\": 61040349.0}, {\"movie_title\": \"Under the Tuscan Sun\", \"release_date\": \"2003-09-26T00:00:00\", \"genre\": \"Comedy\", \"inflation_adjusted_gross\": 60944053.0}, {\"movie_title\": \"A Low Down Dirty Shame\", \"release_date\": \"1994-11-23T00:00:00\", \"genre\": \"Action\", \"inflation_adjusted_gross\": 60321919.0}, {\"movie_title\": \"Shoot to Kill\", \"release_date\": \"1988-02-12T00:00:00\", \"genre\": \"Action\", \"inflation_adjusted_gross\": 60097074.0}, {\"movie_title\": \"Eddie\", \"release_date\": \"1996-05-31T00:00:00\", \"genre\": \"Comedy\", \"inflation_adjusted_gross\": 59828966.0}, {\"movie_title\": \"The Lizzie McGuire Movie\", \"release_date\": \"2003-05-02T00:00:00\", \"genre\": \"Comedy\", \"inflation_adjusted_gross\": 59743191.0}, {\"movie_title\": \"Powder\", \"release_date\": \"1995-10-27T00:00:00\", \"genre\": \"Drama\", \"inflation_adjusted_gross\": 59727216.0}, {\"movie_title\": \"Green Card\", \"release_date\": \"1990-12-25T00:00:00\", \"genre\": \"Romantic Comedy\", \"inflation_adjusted_gross\": 59679131.0}, {\"movie_title\": \"In the Army Now\", \"release_date\": \"1994-08-12T00:00:00\", \"genre\": \"Comedy\", \"inflation_adjusted_gross\": 59673787.0}, {\"movie_title\": \"3 Ninjas\", \"release_date\": \"1992-08-07T00:00:00\", \"genre\": \"Action\", \"inflation_adjusted_gross\": 58965304.0}, {\"movie_title\": \"Metro\", \"release_date\": \"1997-01-17T00:00:00\", \"genre\": \"Action\", \"inflation_adjusted_gross\": 58804106.0}, {\"movie_title\": \"I am Number Four\", \"release_date\": \"2011-02-18T00:00:00\", \"genre\": \"Adventure\", \"inflation_adjusted_gross\": 58574607.0}, {\"movie_title\": \"Dan in Real Life\", \"release_date\": \"2007-10-20T00:00:00\", \"genre\": \"Romantic Comedy\", \"inflation_adjusted_gross\": 58350234.0}, {\"movie_title\": \"Keeping the Faith\", \"release_date\": \"2000-04-14T00:00:00\", \"genre\": \"Romantic Comedy\", \"inflation_adjusted_gross\": 57925202.0}, {\"movie_title\": \"Ernest Saves Christmas\", \"release_date\": \"1988-11-11T00:00:00\", \"genre\": \"Comedy\", \"inflation_adjusted_gross\": 57845202.0}, {\"movie_title\": \"Deceived\", \"release_date\": \"1991-09-27T00:00:00\", \"genre\": \"Thriller/Suspense\", \"inflation_adjusted_gross\": 57544453.0}, {\"movie_title\": \"Instinct\", \"release_date\": \"1999-06-04T00:00:00\", \"genre\": \"Drama\", \"inflation_adjusted_gross\": 56595842.0}, {\"movie_title\": \"The Hundred-Foot Journey\", \"release_date\": \"2014-08-08T00:00:00\", \"genre\": \"Romantic Comedy\", \"inflation_adjusted_gross\": 55961409.0}, {\"movie_title\": \"The Rescuers Down Under\", \"release_date\": \"1990-11-16T00:00:00\", \"genre\": \"Adventure\", \"inflation_adjusted_gross\": 55796728.0}, {\"movie_title\": \"Old Dogs\", \"release_date\": \"2009-11-25T00:00:00\", \"genre\": \"Comedy\", \"inflation_adjusted_gross\": 55503929.0}, {\"movie_title\": \"The BFG\", \"release_date\": \"2016-07-01T00:00:00\", \"genre\": \"Adventure\", \"inflation_adjusted_gross\": 55483770.0}, {\"movie_title\": \"The Muppet Christmas Carol\", \"release_date\": \"1992-12-11T00:00:00\", \"genre\": \"Comedy\", \"inflation_adjusted_gross\": 55417615.0}, {\"movie_title\": \"Treasure Planet\", \"release_date\": \"2002-11-27T00:00:00\", \"genre\": \"Adventure\", \"inflation_adjusted_gross\": 55189145.0}, {\"movie_title\": \"James and the Giant Peach\", \"release_date\": \"1996-04-12T00:00:00\", \"genre\": \"Adventure\", \"inflation_adjusted_gross\": 55159783.0}, {\"movie_title\": \"The Odd Life of Timothy Green\", \"release_date\": \"2012-08-15T00:00:00\", \"genre\": \"Drama\", \"inflation_adjusted_gross\": 54914942.0}, {\"movie_title\": \"Glory Road\", \"release_date\": \"2006-01-13T00:00:00\", \"genre\": \"Drama\", \"inflation_adjusted_gross\": 54888236.0}, {\"movie_title\": \"Tin Men\", \"release_date\": \"1987-03-06T00:00:00\", \"genre\": \"Comedy\", \"inflation_adjusted_gross\": 54787202.0}, {\"movie_title\": \"Recess: School's Out\", \"release_date\": \"2001-02-16T00:00:00\", \"genre\": \"Comedy\", \"inflation_adjusted_gross\": 54656124.0}, {\"movie_title\": \"The 13th Warrior\", \"release_date\": \"1999-08-27T00:00:00\", \"genre\": \"Action\", \"inflation_adjusted_gross\": 54262148.0}, {\"movie_title\": \"The Ladykillers\", \"release_date\": \"2004-03-26T00:00:00\", \"genre\": \"Comedy\", \"inflation_adjusted_gross\": 53881593.0}, {\"movie_title\": \"Romy and Michele's High School Reunion\", \"release_date\": \"1997-04-25T00:00:00\", \"genre\": \"Comedy\", \"inflation_adjusted_gross\": 53693680.0}, {\"movie_title\": \"The Great Mouse Detective\", \"release_date\": \"1986-07-02T00:00:00\", \"genre\": \"Adventure\", \"inflation_adjusted_gross\": 53637367.0}, {\"movie_title\": \"Underdog\", \"release_date\": \"2007-08-03T00:00:00\", \"genre\": \"Adventure\", \"inflation_adjusted_gross\": 53619462.0}, {\"movie_title\": \"College Road Trip\", \"release_date\": \"2008-03-07T00:00:00\", \"genre\": \"Comedy\", \"inflation_adjusted_gross\": 53550960.0}, {\"movie_title\": \"Son in Law\", \"release_date\": \"1993-07-02T00:00:00\", \"genre\": \"Comedy\", \"inflation_adjusted_gross\": 52921433.0}, {\"movie_title\": \"Muppets Most Wanted\", \"release_date\": \"2014-03-21T00:00:00\", \"genre\": \"Comedy\", \"inflation_adjusted_gross\": 52807594.0}, {\"movie_title\": \"Grosse Pointe Blank\", \"release_date\": \"1997-04-11T00:00:00\", \"genre\": \"Black Comedy\", \"inflation_adjusted_gross\": 51579764.0}, {\"movie_title\": \"Spy Hard\", \"release_date\": \"1996-05-24T00:00:00\", \"genre\": \"Comedy\", \"inflation_adjusted_gross\": 51373912.0}, {\"movie_title\": \"Houseguest\", \"release_date\": \"1995-01-06T00:00:00\", \"genre\": \"Comedy\", \"inflation_adjusted_gross\": 51016522.0}, {\"movie_title\": \"Raising Helen\", \"release_date\": \"2004-05-28T00:00:00\", \"genre\": \"Comedy\", \"inflation_adjusted_gross\": 50886144.0}, {\"movie_title\": \"Quiz Show\", \"release_date\": \"1994-09-14T00:00:00\", \"genre\": \"Drama\", \"inflation_adjusted_gross\": 50840394.0}, {\"movie_title\": \"Ernest Goes to Camp\", \"release_date\": \"1987-05-22T00:00:00\", \"genre\": \"Comedy\", \"inflation_adjusted_gross\": 50686462.0}, {\"movie_title\": \"The Hot Chick\", \"release_date\": \"2002-12-13T00:00:00\", \"genre\": \"Comedy\", \"inflation_adjusted_gross\": 50624654.0}, {\"movie_title\": \"The Black Cauldron\", \"release_date\": \"1985-07-24T00:00:00\", \"genre\": \"Adventure\", \"inflation_adjusted_gross\": 50553142.0}, {\"movie_title\": \"First Kid\", \"release_date\": \"1996-08-30T00:00:00\", \"genre\": \"Comedy\", \"inflation_adjusted_gross\": 50465108.0}, {\"movie_title\": \"Ernest Goes to Jail\", \"release_date\": \"1990-04-06T00:00:00\", \"genre\": \"Comedy\", \"inflation_adjusted_gross\": 49999822.0}, {\"movie_title\": \"Renaissance Man\", \"release_date\": \"1994-06-03T00:00:00\", \"genre\": \"Comedy\", \"inflation_adjusted_gross\": 49945474.0}, {\"movie_title\": \"Confessions of a Shopaholic\", \"release_date\": \"2009-02-13T00:00:00\", \"genre\": \"Romantic Comedy\", \"inflation_adjusted_gross\": 49767744.0}, {\"movie_title\": \"The Adventures of Huck Finn\", \"release_date\": \"1993-04-02T00:00:00\", \"genre\": \"Adventure\", \"inflation_adjusted_gross\": 49080505.0}, {\"movie_title\": \"Tough Guys\", \"release_date\": \"1986-10-03T00:00:00\", \"genre\": \"Comedy\", \"inflation_adjusted_gross\": 48758184.0}, {\"movie_title\": \"An American Werewolf in Paris\", \"release_date\": \"1997-12-25T00:00:00\", \"genre\": \"Horror\", \"inflation_adjusted_gross\": 48546161.0}, {\"movie_title\": \"The Wild\", \"release_date\": \"2006-04-14T00:00:00\", \"genre\": \"Adventure\", \"inflation_adjusted_gross\": 48114115.0}, {\"movie_title\": \"Operation Dumbo Drop\", \"release_date\": \"1995-07-28T00:00:00\", \"genre\": \"Adventure\", \"inflation_adjusted_gross\": 47809421.0}, {\"movie_title\": \"The Insider\", \"release_date\": \"1999-11-05T00:00:00\", \"genre\": \"Drama\", \"inflation_adjusted_gross\": 47794214.0}, {\"movie_title\": \"Oscar\", \"release_date\": \"1991-04-26T00:00:00\", \"genre\": \"Comedy\", \"inflation_adjusted_gross\": 47181395.0}, {\"movie_title\": \"The Program\", \"release_date\": \"1993-09-24T00:00:00\", \"genre\": \"Action\", \"inflation_adjusted_gross\": 46919256.0}, {\"movie_title\": \"Dead Presidents\", \"release_date\": \"1995-10-04T00:00:00\", \"genre\": \"Drama\", \"inflation_adjusted_gross\": 46741467.0}, {\"movie_title\": \"The Other Sister\", \"release_date\": \"1999-02-26T00:00:00\", \"genre\": \"Romantic Comedy\", \"inflation_adjusted_gross\": 46145331.0}, {\"movie_title\": \"Guilty as Sin\", \"release_date\": \"1993-06-04T00:00:00\", \"genre\": \"Thriller/Suspense\", \"inflation_adjusted_gross\": 46064723.0}, {\"movie_title\": \"Tom and Huck\", \"release_date\": \"1995-12-22T00:00:00\", \"genre\": \"Adventure\", \"inflation_adjusted_gross\": 45911517.0}, {\"movie_title\": \"Captain Ron\", \"release_date\": \"1992-09-18T00:00:00\", \"genre\": \"Comedy\", \"inflation_adjusted_gross\": 45741576.0}, {\"movie_title\": \"Step Up 3D\", \"release_date\": \"2010-08-06T00:00:00\", \"genre\": \"Drama\", \"inflation_adjusted_gross\": 45302137.0}, {\"movie_title\": \"Air Bud\", \"release_date\": \"1997-08-01T00:00:00\", \"genre\": \"Comedy\", \"inflation_adjusted_gross\": 45266588.0}, {\"movie_title\": \"Need for Speed\", \"release_date\": \"2014-03-14T00:00:00\", \"genre\": \"Action\", \"inflation_adjusted_gross\": 44955015.0}, {\"movie_title\": \"McFarland, USA\", \"release_date\": \"2015-02-20T00:00:00\", \"genre\": \"Drama\", \"inflation_adjusted_gross\": 44480275.0}, {\"movie_title\": \"Double Take\", \"release_date\": \"2001-01-12T00:00:00\", \"genre\": \"Action\", \"inflation_adjusted_gross\": 44418589.0}, {\"movie_title\": \"Hello Again\", \"release_date\": \"1987-11-06T00:00:00\", \"genre\": \"Comedy\", \"inflation_adjusted_gross\": 44024529.0}, {\"movie_title\": \"Consenting Adults\", \"release_date\": \"1992-10-16T00:00:00\", \"genre\": \"Drama\", \"inflation_adjusted_gross\": 43859823.0}, {\"movie_title\": \"Bad Company\", \"release_date\": \"2002-06-07T00:00:00\", \"genre\": \"Action\", \"inflation_adjusted_gross\": 43756218.0}, {\"movie_title\": \"D3: The Mighty Ducks\", \"release_date\": \"1996-10-04T00:00:00\", \"genre\": \"Comedy\", \"inflation_adjusted_gross\": 43713554.0}, {\"movie_title\": \"Surrogates\", \"release_date\": \"2009-09-25T00:00:00\", \"genre\": \"Action\", \"inflation_adjusted_gross\": 43361416.0}, {\"movie_title\": \"Straight Talk\", \"release_date\": \"1992-04-03T00:00:00\", \"genre\": \"Comedy\", \"inflation_adjusted_gross\": 43068356.0}, {\"movie_title\": \"The Air Up There\", \"release_date\": \"1994-01-07T00:00:00\", \"genre\": \"Comedy\", \"inflation_adjusted_gross\": 42940186.0}, {\"movie_title\": \"High Fidelity\", \"release_date\": \"2000-03-31T00:00:00\", \"genre\": \"Comedy\", \"inflation_adjusted_gross\": 42661516.0}, {\"movie_title\": \"Iron Will\", \"release_date\": \"1994-01-14T00:00:00\", \"genre\": \"Drama\", \"inflation_adjusted_gross\": 42610902.0}, {\"movie_title\": \"Super Mario Bros.\", \"release_date\": \"1993-05-28T00:00:00\", \"genre\": \"Action\", \"inflation_adjusted_gross\": 42445058.0}, {\"movie_title\": \"Calendar Girls\", \"release_date\": \"2003-12-19T00:00:00\", \"genre\": \"Comedy\", \"inflation_adjusted_gross\": 42379650.0}, {\"movie_title\": \"Flight of the Navigator\", \"release_date\": \"1986-07-30T00:00:00\", \"genre\": \"Adventure\", \"inflation_adjusted_gross\": 42183197.0}, {\"movie_title\": \"Boys\", \"release_date\": \"1996-05-10T00:00:00\", \"genre\": \"Drama\", \"inflation_adjusted_gross\": 41826566.0}, {\"movie_title\": \"Beloved\", \"release_date\": \"1998-10-16T00:00:00\", \"genre\": \"Drama\", \"inflation_adjusted_gross\": 41062682.0}, {\"movie_title\": \"An Innocent Man\", \"release_date\": \"1989-10-06T00:00:00\", \"genre\": \"Drama\", \"inflation_adjusted_gross\": 40983414.0}, {\"movie_title\": \"Another Stakeout\", \"release_date\": \"1993-07-23T00:00:00\", \"genre\": \"Comedy\", \"inflation_adjusted_gross\": 40943541.0}, {\"movie_title\": \"Color of Night\", \"release_date\": \"1994-08-19T00:00:00\", \"genre\": \"Thriller/Suspense\", \"inflation_adjusted_gross\": 40804816.0}, {\"movie_title\": \"Stella\", \"release_date\": \"1990-02-02T00:00:00\", \"genre\": \"Drama\", \"inflation_adjusted_gross\": 40077147.0}, {\"movie_title\": \"Taking Care of Business\", \"release_date\": \"1990-08-17T00:00:00\", \"genre\": \"Comedy\", \"inflation_adjusted_gross\": 39963460.0}, {\"movie_title\": \"Blaze\", \"release_date\": \"1989-12-13T00:00:00\", \"genre\": \"Drama\", \"inflation_adjusted_gross\": 39884640.0}, {\"movie_title\": \"Confessions of a Teenage Drama Queen\", \"release_date\": \"2004-02-20T00:00:00\", \"genre\": \"Comedy\", \"inflation_adjusted_gross\": 39816568.0}, {\"movie_title\": \"Betsy's Wedding\", \"release_date\": \"1990-06-22T00:00:00\", \"genre\": \"Comedy\", \"inflation_adjusted_gross\": 39433357.0}, {\"movie_title\": \"Mr. Magoo\", \"release_date\": \"1997-12-25T00:00:00\", \"genre\": \"Comedy\", \"inflation_adjusted_gross\": 39145784.0}, {\"movie_title\": \"He Got Game\", \"release_date\": \"1998-05-01T00:00:00\", \"genre\": \"Drama\", \"inflation_adjusted_gross\": 38766948.0}, {\"movie_title\": \"Jonas Brothers: The 3D Concert Experi\\u2026\", \"release_date\": \"2009-02-27T00:00:00\", \"genre\": \"Concert/Performance\", \"inflation_adjusted_gross\": 38174685.0}, {\"movie_title\": \"Million Dollar Arm\", \"release_date\": \"2014-05-10T00:00:00\", \"genre\": \"Drama\", \"inflation_adjusted_gross\": 37607865.0}, {\"movie_title\": \"Frankenweenie\", \"release_date\": \"2012-10-05T00:00:00\", \"genre\": \"Comedy\", \"inflation_adjusted_gross\": 37363513.0}, {\"movie_title\": \"Paradise\", \"release_date\": \"1991-09-18T00:00:00\", \"genre\": \"Drama\", \"inflation_adjusted_gross\": 37313540.0}, {\"movie_title\": \"Beauty and the Beast (IMAX)\", \"release_date\": \"2002-01-01T00:00:00\", \"genre\": \"Musical\", \"inflation_adjusted_gross\": 36980311.0}, {\"movie_title\": \"Gone Fishin'\", \"release_date\": \"1997-05-30T00:00:00\", \"genre\": \"Comedy\", \"inflation_adjusted_gross\": 36265379.0}, {\"movie_title\": \"Born Yesterday\", \"release_date\": \"1993-03-26T00:00:00\", \"genre\": \"Romantic Comedy\", \"inflation_adjusted_gross\": 36165012.0}, {\"movie_title\": \"DuckTales: The Movie - Treasure of th\\u2026\", \"release_date\": \"1990-08-03T00:00:00\", \"genre\": \"Adventure\", \"inflation_adjusted_gross\": 36107823.0}, {\"movie_title\": \"Kazaam\", \"release_date\": \"1996-07-17T00:00:00\", \"genre\": \"Comedy\", \"inflation_adjusted_gross\": 36009655.0}, {\"movie_title\": \"Earth\", \"release_date\": \"2009-04-22T00:00:00\", \"genre\": \"Documentary\", \"inflation_adjusted_gross\": 35981010.0}, {\"movie_title\": \"Corky Romano\", \"release_date\": \"2001-10-12T00:00:00\", \"genre\": \"Comedy\", \"inflation_adjusted_gross\": 35705805.0}, {\"movie_title\": \"Jane Austen's Mafia\", \"release_date\": \"1998-07-24T00:00:00\", \"genre\": \"Comedy\", \"inflation_adjusted_gross\": 35668055.0}, {\"movie_title\": \"When in Rome\", \"release_date\": \"2010-01-29T00:00:00\", \"genre\": \"Romantic Comedy\", \"inflation_adjusted_gross\": 34917330.0}, {\"movie_title\": \"Stick It\", \"release_date\": \"2006-04-28T00:00:00\", \"genre\": \"Comedy\", \"inflation_adjusted_gross\": 34634731.0}, {\"movie_title\": \"Toy Story 3D Double Feature\", \"release_date\": \"2009-10-02T00:00:00\", \"genre\": \"Adventure\", \"inflation_adjusted_gross\": 34509545.0}, {\"movie_title\": \"The Big Green\", \"release_date\": \"1995-09-29T00:00:00\", \"genre\": \"Comedy\", \"inflation_adjusted_gross\": 34372339.0}, {\"movie_title\": \"Heavy Weights\", \"release_date\": \"1995-02-17T00:00:00\", \"genre\": \"Comedy\", \"inflation_adjusted_gross\": 34245779.0}, {\"movie_title\": \"Terminal Velocity\", \"release_date\": \"1994-09-23T00:00:00\", \"genre\": \"Action\", \"inflation_adjusted_gross\": 34048315.0}, {\"movie_title\": \"Baby: Secret of the Lost Legend\", \"release_date\": \"1985-03-22T00:00:00\", \"genre\": \"Adventure\", \"inflation_adjusted_gross\": 33900697.0}, {\"movie_title\": \"That Darn Cat\", \"release_date\": \"1997-02-14T00:00:00\", \"genre\": \"Comedy\", \"inflation_adjusted_gross\": 33613158.0}, {\"movie_title\": \"Dark Water\", \"release_date\": \"2005-07-08T00:00:00\", \"genre\": \"Thriller/Suspense\", \"inflation_adjusted_gross\": 33500491.0}, {\"movie_title\": \"Simon Birch\", \"release_date\": \"1998-09-11T00:00:00\", \"genre\": \"Drama\", \"inflation_adjusted_gross\": 32809442.0}, {\"movie_title\": \"Benji the Hunted\", \"release_date\": \"1987-06-05T00:00:00\", \"genre\": \"Adventure\", \"inflation_adjusted_gross\": 32798382.0}, {\"movie_title\": \"Around the World in 80 Days\", \"release_date\": \"2004-06-16T00:00:00\", \"genre\": \"Adventure\", \"inflation_adjusted_gross\": 32585356.0}, {\"movie_title\": \"Piglet's Big Movie\", \"release_date\": \"2003-03-21T00:00:00\", \"genre\": \"Comedy\", \"inflation_adjusted_gross\": 32298812.0}, {\"movie_title\": \"Doug's 1st Movie\", \"release_date\": \"1999-03-26T00:00:00\", \"genre\": \"Adventure\", \"inflation_adjusted_gross\": 32228598.0}, {\"movie_title\": \"The Life Aquatic with Steve Zissou\", \"release_date\": \"2004-12-10T00:00:00\", \"genre\": \"Comedy\", \"inflation_adjusted_gross\": 32198655.0}, {\"movie_title\": \"Ice Princess\", \"release_date\": \"2005-03-18T00:00:00\", \"genre\": \"Comedy\", \"inflation_adjusted_gross\": 32064685.0}, {\"movie_title\": \"Summer of Sam\", \"release_date\": \"1999-07-02T00:00:00\", \"genre\": \"Drama\", \"inflation_adjusted_gross\": 32007656.0}, {\"movie_title\": \"Delivery Man\", \"release_date\": \"2013-11-22T00:00:00\", \"genre\": \"Comedy\", \"inflation_adjusted_gross\": 31787136.0}, {\"movie_title\": \"One Magic Christmas\", \"release_date\": \"1985-11-22T00:00:00\", \"genre\": \"Drama\", \"inflation_adjusted_gross\": 31415432.0}, {\"movie_title\": \"Billy Bathgate\", \"release_date\": \"1991-11-01T00:00:00\", \"genre\": \"Drama\", \"inflation_adjusted_gross\": 31167691.0}, {\"movie_title\": \"Tim Burton's The Nightmare Before Chr\\u2026\", \"release_date\": \"2006-10-20T00:00:00\", \"genre\": \"Musical\", \"inflation_adjusted_gross\": 30737517.0}, {\"movie_title\": \"Mr. Destiny\", \"release_date\": \"1990-10-12T00:00:00\", \"genre\": \"Comedy\", \"inflation_adjusted_gross\": 30722056.0}, {\"movie_title\": \"Chimpanzee\", \"release_date\": \"2012-04-20T00:00:00\", \"genre\": \"Documentary\", \"inflation_adjusted_gross\": 30675725.0}, {\"movie_title\": \"The Alamo\", \"release_date\": \"2004-04-09T00:00:00\", \"genre\": \"Western\", \"inflation_adjusted_gross\": 30416359.0}, {\"movie_title\": \"Haakon Haakonsen\", \"release_date\": \"1991-03-01T00:00:00\", \"genre\": \"Adventure\", \"inflation_adjusted_gross\": 30084149.0}, {\"movie_title\": \"Indian Summer\", \"release_date\": \"1993-04-23T00:00:00\", \"genre\": \"Comedy\", \"inflation_adjusted_gross\": 29968953.0}, {\"movie_title\": \"Spaced Invaders\", \"release_date\": \"1990-04-27T00:00:00\", \"genre\": \"Comedy\", \"inflation_adjusted_gross\": 29964452.0}, {\"movie_title\": \"Mad Love\", \"release_date\": \"1995-05-26T00:00:00\", \"genre\": \"Drama\", \"inflation_adjusted_gross\": 29934306.0}, {\"movie_title\": \"Cold Creek Manor\", \"release_date\": \"2003-09-19T00:00:00\", \"genre\": \"Thriller/Suspense\", \"inflation_adjusted_gross\": 29895090.0}, {\"movie_title\": \"Stay Alive\", \"release_date\": \"2006-03-24T00:00:00\", \"genre\": \"Horror\", \"inflation_adjusted_gross\": 29712825.0}, {\"movie_title\": \"Mr. 3000\", \"release_date\": \"2004-09-17T00:00:00\", \"genre\": \"Comedy\", \"inflation_adjusted_gross\": 29593641.0}, {\"movie_title\": \"Fire Birds\", \"release_date\": \"1990-05-24T00:00:00\", \"genre\": \"Action\", \"inflation_adjusted_gross\": 29485923.0}, {\"movie_title\": \"A Lot Like Love\", \"release_date\": \"2005-04-22T00:00:00\", \"genre\": \"Comedy\", \"inflation_adjusted_gross\": 28716947.0}, {\"movie_title\": \"Rushmore\", \"release_date\": \"1998-12-11T00:00:00\", \"genre\": \"Black Comedy\", \"inflation_adjusted_gross\": 28392518.0}, {\"movie_title\": \"Winnie the Pooh\", \"release_date\": \"2011-07-15T00:00:00\", \"genre\": \"Adventure\", \"inflation_adjusted_gross\": 28375869.0}, {\"movie_title\": \"Rocket Man\", \"release_date\": \"1997-10-10T00:00:00\", \"genre\": \"Comedy\", \"inflation_adjusted_gross\": 28371890.0}, {\"movie_title\": \"Ernest Scared Stupid\", \"release_date\": \"1991-10-11T00:00:00\", \"genre\": \"Comedy\", \"inflation_adjusted_gross\": 28320147.0}, {\"movie_title\": \"Return to Snowy River\", \"release_date\": \"1988-04-15T00:00:00\", \"genre\": \"Adventure\", \"inflation_adjusted_gross\": 28073384.0}, {\"movie_title\": \"Tuck Everlasting\", \"release_date\": \"2002-10-11T00:00:00\", \"genre\": \"Drama\", \"inflation_adjusted_gross\": 27789959.0}, {\"movie_title\": \"The Finest Hours\", \"release_date\": \"2016-01-29T00:00:00\", \"genre\": \"Thriller/Suspense\", \"inflation_adjusted_gross\": 27569558.0}, {\"movie_title\": \"You Again\", \"release_date\": \"2010-09-24T00:00:00\", \"genre\": \"Comedy\", \"inflation_adjusted_gross\": 27461121.0}, {\"movie_title\": \"The Sixth Man\", \"release_date\": \"1997-03-28T00:00:00\", \"genre\": \"Comedy\", \"inflation_adjusted_gross\": 27117599.0}, {\"movie_title\": \"Nixon\", \"release_date\": \"1995-12-20T00:00:00\", \"genre\": \"Drama\", \"inflation_adjusted_gross\": 26302005.0}, {\"movie_title\": \"A Far Off Place\", \"release_date\": \"1993-03-12T00:00:00\", \"genre\": \"Adventure\", \"inflation_adjusted_gross\": 26248558.0}, {\"movie_title\": \"D.O.A.\", \"release_date\": \"1988-03-18T00:00:00\", \"genre\": \"Thriller/Suspense\", \"inflation_adjusted_gross\": 26062188.0}, {\"movie_title\": \"A Kid in King Arthur's Court\", \"release_date\": \"1995-08-11T00:00:00\", \"genre\": \"Adventure\", \"inflation_adjusted_gross\": 25981285.0}, {\"movie_title\": \"Max Keeble's Big Move\", \"release_date\": \"2001-10-05T00:00:00\", \"genre\": \"Comedy\", \"inflation_adjusted_gross\": 25749730.0}, {\"movie_title\": \"Valiant\", \"release_date\": \"2005-08-19T00:00:00\", \"genre\": \"Adventure\", \"inflation_adjusted_gross\": 25616292.0}, {\"movie_title\": \"Return to Oz\", \"release_date\": \"1985-06-21T00:00:00\", \"genre\": \"Adventure\", \"inflation_adjusted_gross\": 25215934.0}, {\"movie_title\": \"crazy/beautiful\", \"release_date\": \"2001-06-29T00:00:00\", \"genre\": \"Drama\", \"inflation_adjusted_gross\": 25214223.0}, {\"movie_title\": \"The Invisible\", \"release_date\": \"2007-04-27T00:00:00\", \"genre\": \"Thriller/Suspense\", \"inflation_adjusted_gross\": 25202168.0}, {\"movie_title\": \"Life With Mikey\", \"release_date\": \"1993-06-04T00:00:00\", \"genre\": \"Comedy\", \"inflation_adjusted_gross\": 25146538.0}, {\"movie_title\": \"A Stranger Among Us\", \"release_date\": \"1992-07-17T00:00:00\", \"genre\": \"Drama\", \"inflation_adjusted_gross\": 24950752.0}, {\"movie_title\": \"The Marrying Man\", \"release_date\": \"1991-04-05T00:00:00\", \"genre\": \"Romantic Comedy\", \"inflation_adjusted_gross\": 24939118.0}, {\"movie_title\": \"The Country Bears\", \"release_date\": \"2002-07-26T00:00:00\", \"genre\": \"Adventure\", \"inflation_adjusted_gross\": 24650121.0}, {\"movie_title\": \"Mr. Wrong\", \"release_date\": \"1996-02-16T00:00:00\", \"genre\": \"Romantic Comedy\", \"inflation_adjusted_gross\": 24422334.0}, {\"movie_title\": \"The Associate\", \"release_date\": \"1996-10-25T00:00:00\", \"genre\": \"Comedy\", \"inflation_adjusted_gross\": 24333094.0}, {\"movie_title\": \"3 Ninjas Kick Back\", \"release_date\": \"1994-05-06T00:00:00\", \"genre\": \"Action\", \"inflation_adjusted_gross\": 24267154.0}, {\"movie_title\": \"Gross Anatomy\", \"release_date\": \"1989-10-20T00:00:00\", \"genre\": \"Drama\", \"inflation_adjusted_gross\": 23972012.0}, {\"movie_title\": \"Ghosts of the Abyss\", \"release_date\": \"2003-04-11T00:00:00\", \"genre\": \"Documentary\", \"inflation_adjusted_gross\": 23803108.0}, {\"movie_title\": \"Pooh's Heffalump Movie\", \"release_date\": \"2005-02-11T00:00:00\", \"genre\": \"Adventure\", \"inflation_adjusted_gross\": 23801835.0}, {\"movie_title\": \"Roommates\", \"release_date\": \"1995-03-03T00:00:00\", \"genre\": \"Comedy\", \"inflation_adjusted_gross\": 23404369.0}, {\"movie_title\": \"The Ref\", \"release_date\": \"1994-03-09T00:00:00\", \"genre\": \"Comedy\", \"inflation_adjusted_gross\": 23401275.0}, {\"movie_title\": \"Mars Needs Moms\", \"release_date\": \"2011-03-11T00:00:00\", \"genre\": \"Adventure\", \"inflation_adjusted_gross\": 22741603.0}, {\"movie_title\": \"New York Stories\", \"release_date\": \"1989-03-01T00:00:00\", \"genre\": \"Drama\", \"inflation_adjusted_gross\": 22740861.0}, {\"movie_title\": \"One Good Cop\", \"release_date\": \"1991-05-03T00:00:00\", \"genre\": \"Action\", \"inflation_adjusted_gross\": 22580472.0}, {\"movie_title\": \"The Journey of Natty Gann\", \"release_date\": \"1985-09-27T00:00:00\", \"genre\": \"Drama\", \"inflation_adjusted_gross\": 22302956.0}, {\"movie_title\": \"Annapolis\", \"release_date\": \"2006-01-27T00:00:00\", \"genre\": \"Drama\", \"inflation_adjusted_gross\": 22044113.0}, {\"movie_title\": \"I'll Be Home For Christmas\", \"release_date\": \"1998-11-13T00:00:00\", \"genre\": \"Comedy\", \"inflation_adjusted_gross\": 21941840.0}, {\"movie_title\": \"Holy Man\", \"release_date\": \"1998-10-09T00:00:00\", \"genre\": \"Comedy\", \"inflation_adjusted_gross\": 21694605.0}, {\"movie_title\": \"Camp Nowhere\", \"release_date\": \"1994-08-26T00:00:00\", \"genre\": \"Comedy\", \"inflation_adjusted_gross\": 21576332.0}, {\"movie_title\": \"Sleeping Beauty\", \"release_date\": \"1959-01-29T00:00:00\", \"genre\": \"Drama\", \"inflation_adjusted_gross\": 21505832.0}, {\"movie_title\": \"Country\", \"release_date\": \"1984-09-29T00:00:00\", \"genre\": \"Drama\", \"inflation_adjusted_gross\": 21075000.0}, {\"movie_title\": \"Oceans\", \"release_date\": \"2010-04-22T00:00:00\", \"genre\": \"Documentary\", \"inflation_adjusted_gross\": 20751600.0}, {\"movie_title\": \"Out Cold\", \"release_date\": \"2001-11-21T00:00:00\", \"genre\": \"Comedy\", \"inflation_adjusted_gross\": 20700691.0}, {\"movie_title\": \"Tex\", \"release_date\": \"1982-11-19T00:00:00\", \"genre\": \"Drama\", \"inflation_adjusted_gross\": 20643199.0}, {\"movie_title\": \"The Crew\", \"release_date\": \"2000-08-25T00:00:00\", \"genre\": \"Comedy\", \"inflation_adjusted_gross\": 20362201.0}, {\"movie_title\": \"The Secret World of Arietty\", \"release_date\": \"2012-02-17T00:00:00\", \"genre\": \"Adventure\", \"inflation_adjusted_gross\": 20325733.0}, {\"movie_title\": \"The Greatest Game Ever Played\", \"release_date\": \"2005-09-30T00:00:00\", \"genre\": \"Drama\", \"inflation_adjusted_gross\": 20162672.0}, {\"movie_title\": \"Deep Rising\", \"release_date\": \"1998-01-30T00:00:00\", \"genre\": \"Action\", \"inflation_adjusted_gross\": 20136775.0}, {\"movie_title\": \"The Scarlet Letter\", \"release_date\": \"1995-10-13T00:00:00\", \"genre\": \"Drama\", \"inflation_adjusted_gross\": 20075033.0}, {\"movie_title\": \"White Squall\", \"release_date\": \"1996-02-02T00:00:00\", \"genre\": \"Adventure\", \"inflation_adjusted_gross\": 19509726.0}, {\"movie_title\": \"Fright Night\", \"release_date\": \"2011-08-19T00:00:00\", \"genre\": \"Horror\", \"inflation_adjusted_gross\": 19452402.0}, {\"movie_title\": \"Scenes from a Mall\", \"release_date\": \"1991-02-22T00:00:00\", \"genre\": \"Comedy\", \"inflation_adjusted_gross\": 19149495.0}, {\"movie_title\": \"Swing Vote\", \"release_date\": \"2008-08-01T00:00:00\", \"genre\": \"Comedy\", \"inflation_adjusted_gross\": 19125841.0}, {\"movie_title\": \"Angie\", \"release_date\": \"1994-03-04T00:00:00\", \"genre\": \"Comedy\", \"inflation_adjusted_gross\": 19116981.0}, {\"movie_title\": \"Bears\", \"release_date\": \"2014-04-18T00:00:00\", \"genre\": \"Documentary\", \"inflation_adjusted_gross\": 18346024.0}, {\"movie_title\": \"25th Hour\", \"release_date\": \"2002-12-19T00:00:00\", \"genre\": \"Drama\", \"inflation_adjusted_gross\": 18325463.0}, {\"movie_title\": \"The Inkwell\", \"release_date\": \"1994-04-22T00:00:00\", \"genre\": \"Comedy\", \"inflation_adjusted_gross\": 18316030.0}, {\"movie_title\": \"White Fang 2: Myth of the White Wolf\", \"release_date\": \"1994-04-15T00:00:00\", \"genre\": \"Adventure\", \"inflation_adjusted_gross\": 18083994.0}, {\"movie_title\": \"The Puppet Masters\", \"release_date\": \"1994-10-21T00:00:00\", \"genre\": \"Horror\", \"inflation_adjusted_gross\": 17727017.0}, {\"movie_title\": \"Celtic Pride\", \"release_date\": \"1996-04-19T00:00:00\", \"genre\": \"Comedy\", \"inflation_adjusted_gross\": 17623615.0}, {\"movie_title\": \"Gake no ue no Ponyo\", \"release_date\": \"2009-08-14T00:00:00\", \"genre\": \"Adventure\", \"inflation_adjusted_gross\": 16961607.0}, {\"movie_title\": \"Cheetah\", \"release_date\": \"1989-08-18T00:00:00\", \"genre\": \"Adventure\", \"inflation_adjusted_gross\": 16653473.0}, {\"movie_title\": \"Before and After\", \"release_date\": \"1996-02-23T00:00:00\", \"genre\": \"Drama\", \"inflation_adjusted_gross\": 16482589.0}, {\"movie_title\": \"Monkey Kingdom\", \"release_date\": \"2015-04-17T00:00:00\", \"genre\": \"Documentary\", \"inflation_adjusted_gross\": 16432322.0}, {\"movie_title\": \"African Cats\", \"release_date\": \"2011-04-22T00:00:00\", \"genre\": \"Documentary\", \"inflation_adjusted_gross\": 16401551.0}, {\"movie_title\": \"The Rich Man's Wife\", \"release_date\": \"1996-09-13T00:00:00\", \"genre\": \"Thriller/Suspense\", \"inflation_adjusted_gross\": 16284619.0}, {\"movie_title\": \"Tall Tale\", \"release_date\": \"1995-03-24T00:00:00\", \"genre\": \"Western\", \"inflation_adjusted_gross\": 15983331.0}, {\"movie_title\": \"Aspen Extreme\", \"release_date\": \"1993-01-22T00:00:00\", \"genre\": \"Romantic Comedy\", \"inflation_adjusted_gross\": 15970955.0}, {\"movie_title\": \"Unstrung Heroes\", \"release_date\": \"1995-09-15T00:00:00\", \"genre\": \"Drama\", \"inflation_adjusted_gross\": 15365850.0}, {\"movie_title\": \"Disorganized Crime\", \"release_date\": \"1989-04-14T00:00:00\", \"genre\": \"Comedy\", \"inflation_adjusted_gross\": 15233465.0}, {\"movie_title\": \"Something Wicked This Way Comes\", \"release_date\": \"1983-04-29T00:00:00\", \"genre\": \"Horror\", \"inflation_adjusted_gross\": 15136765.0}, {\"movie_title\": \"Sarafina!\", \"release_date\": \"1992-09-18T00:00:00\", \"genre\": \"Drama\", \"inflation_adjusted_gross\": 14841352.0}, {\"movie_title\": \"Sorority Boys\", \"release_date\": \"2002-03-22T00:00:00\", \"genre\": \"Comedy\", \"inflation_adjusted_gross\": 14797862.0}, {\"movie_title\": \"Mystery, Alaska\", \"release_date\": \"1999-10-01T00:00:00\", \"genre\": \"Comedy\", \"inflation_adjusted_gross\": 14755189.0}, {\"movie_title\": \"The Jerky Boys\", \"release_date\": \"1995-02-03T00:00:00\", \"genre\": \"Comedy\", \"inflation_adjusted_gross\": 14641561.0}, {\"movie_title\": \"Wild Hearts Can't Be Broken\", \"release_date\": \"1991-05-24T00:00:00\", \"genre\": \"Drama\", \"inflation_adjusted_gross\": 14617333.0}, {\"movie_title\": \"Casanova\", \"release_date\": \"2005-12-25T00:00:00\", \"genre\": \"Drama\", \"inflation_adjusted_gross\": 14574087.0}, {\"movie_title\": \"A Thousand Acres\", \"release_date\": \"1997-09-19T00:00:00\", \"genre\": \"Drama\", \"inflation_adjusted_gross\": 14561324.0}, {\"movie_title\": \"1492: Conquest of Paradise\", \"release_date\": \"1992-10-09T00:00:00\", \"genre\": \"Adventure\", \"inflation_adjusted_gross\": 14421454.0}, {\"movie_title\": \"Sen to Chihiro no Kamikakushi\", \"release_date\": \"2002-09-20T00:00:00\", \"genre\": \"Adventure\", \"inflation_adjusted_gross\": 14338992.0}, {\"movie_title\": \"Fantasia 2000 (Theatrical Release)\", \"release_date\": \"2000-06-16T00:00:00\", \"genre\": \"Musical\", \"inflation_adjusted_gross\": 14238144.0}, {\"movie_title\": \"Krippendorf's Tribe\", \"release_date\": \"1998-02-27T00:00:00\", \"genre\": \"Comedy\", \"inflation_adjusted_gross\": 13608633.0}, {\"movie_title\": \"Shopgirl\", \"release_date\": \"2005-10-21T00:00:00\", \"genre\": \"Drama\", \"inflation_adjusted_gross\": 13519621.0}, {\"movie_title\": \"Play it to the Bone\", \"release_date\": \"1999-12-24T00:00:00\", \"genre\": \"Comedy\", \"inflation_adjusted_gross\": 13180524.0}, {\"movie_title\": \"People Like Us\", \"release_date\": \"2012-06-29T00:00:00\", \"genre\": \"Drama\", \"inflation_adjusted_gross\": 13165822.0}, {\"movie_title\": \"Primeval\", \"release_date\": \"2007-01-12T00:00:00\", \"genre\": \"Adventure\", \"inflation_adjusted_gross\": 12985302.0}, {\"movie_title\": \"Roving Mars\", \"release_date\": \"2006-01-27T00:00:00\", \"genre\": \"Documentary\", \"inflation_adjusted_gross\": 12948025.0}, {\"movie_title\": \"Night Crossing\", \"release_date\": \"1982-02-05T00:00:00\", \"genre\": \"Drama\", \"inflation_adjusted_gross\": 12903059.0}, {\"movie_title\": \"The Light Between Oceans\", \"release_date\": \"2016-09-02T00:00:00\", \"genre\": \"Drama\", \"inflation_adjusted_gross\": 12545979.0}, {\"movie_title\": \"Strange Magic\", \"release_date\": \"2015-01-23T00:00:00\", \"genre\": \"Adventure\", \"inflation_adjusted_gross\": 12429583.0}, {\"movie_title\": \"Ed Wood\", \"release_date\": \"1994-09-30T00:00:00\", \"genre\": \"Comedy\", \"inflation_adjusted_gross\": 12042634.0}, {\"movie_title\": \"The Rescue\", \"release_date\": \"1988-08-05T00:00:00\", \"genre\": \"Action\", \"inflation_adjusted_gross\": 12009960.0}, {\"movie_title\": \"Aliens of the Deep\", \"release_date\": \"2005-01-28T00:00:00\", \"genre\": \"Documentary\", \"inflation_adjusted_gross\": 11740942.0}, {\"movie_title\": \"Trenchcoat\", \"release_date\": \"1983-03-11T00:00:00\", \"genre\": \"Comedy\", \"inflation_adjusted_gross\": 11519089.0}, {\"movie_title\": \"Swing Kids\", \"release_date\": \"1993-03-05T00:00:00\", \"genre\": \"Musical\", \"inflation_adjusted_gross\": 11468231.0}, {\"movie_title\": \"The Cemetery Club\", \"release_date\": \"1993-02-03T00:00:00\", \"genre\": \"Comedy\", \"inflation_adjusted_gross\": 11369541.0}, {\"movie_title\": \"Heartbreak Hotel\", \"release_date\": \"1988-09-30T00:00:00\", \"genre\": \"Comedy\", \"inflation_adjusted_gross\": 11300331.0}, {\"movie_title\": \"Last Dance\", \"release_date\": \"1996-05-03T00:00:00\", \"genre\": \"Drama\", \"inflation_adjusted_gross\": 11171714.0}, {\"movie_title\": \"The Tie That Binds\", \"release_date\": \"1995-09-08T00:00:00\", \"genre\": \"Thriller/Suspense\", \"inflation_adjusted_gross\": 11167895.0}, {\"movie_title\": \"Off Beat\", \"release_date\": \"1986-04-11T00:00:00\", \"genre\": \"Comedy\", \"inflation_adjusted_gross\": 11003932.0}, {\"movie_title\": \"Prom\", \"release_date\": \"2011-04-29T00:00:00\", \"genre\": \"Comedy\", \"inflation_adjusted_gross\": 10768946.0}, {\"movie_title\": \"Big Trouble\", \"release_date\": \"2002-04-05T00:00:00\", \"genre\": \"Comedy\", \"inflation_adjusted_gross\": 10537188.0}, {\"movie_title\": \"Kundun\", \"release_date\": \"1997-12-25T00:00:00\", \"genre\": \"Drama\", \"inflation_adjusted_gross\": 10236836.0}, {\"movie_title\": \"The Straight Story\", \"release_date\": \"1999-10-15T00:00:00\", \"genre\": \"Drama\", \"inflation_adjusted_gross\": 10111144.0}, {\"movie_title\": \"Moonlight Mile\", \"release_date\": \"2002-09-27T00:00:00\", \"genre\": \"Drama\", \"inflation_adjusted_gross\": 9909094.0}, {\"movie_title\": \"Innocent Blood\", \"release_date\": \"1992-09-25T00:00:00\", \"genre\": \"Horror\", \"inflation_adjusted_gross\": 9907922.0}, {\"movie_title\": \"Miami Rhapsody\", \"release_date\": \"1995-01-27T00:00:00\", \"genre\": \"Romantic Comedy\", \"inflation_adjusted_gross\": 9857435.0}, {\"movie_title\": \"The Good Mother\", \"release_date\": \"1988-11-04T00:00:00\", \"genre\": \"Drama\", \"inflation_adjusted_gross\": 9772655.0}, {\"movie_title\": \"My Science Project\", \"release_date\": \"1985-08-09T00:00:00\", \"genre\": \"Comedy\", \"inflation_adjusted_gross\": 9736051.0}, {\"movie_title\": \"Miracle at St. Anna\", \"release_date\": \"2008-09-26T00:00:00\", \"genre\": \"Drama\", \"inflation_adjusted_gross\": 9295171.0}, {\"movie_title\": \"Young Black Stallion\", \"release_date\": \"2003-12-25T00:00:00\", \"genre\": \"Adventure\", \"inflation_adjusted_gross\": 9254344.0}, {\"movie_title\": \"Queen of Katwe\", \"release_date\": \"2016-09-23T00:00:00\", \"genre\": \"Drama\", \"inflation_adjusted_gross\": 8874389.0}, {\"movie_title\": \"Teacher's Pet: The Movie\", \"release_date\": \"2004-01-16T00:00:00\", \"genre\": \"Comedy\", \"inflation_adjusted_gross\": 8812764.0}, {\"movie_title\": \"The Hoax\", \"release_date\": \"2007-04-06T00:00:00\", \"genre\": \"Drama\", \"inflation_adjusted_gross\": 8779196.0}, {\"movie_title\": \"A Beautiful Planet\", \"release_date\": \"2016-04-29T00:00:00\", \"genre\": \"Documentary\", \"inflation_adjusted_gross\": 7895708.0}, {\"movie_title\": \"Meet the Deedles\", \"release_date\": \"1998-03-27T00:00:00\", \"genre\": \"Comedy\", \"inflation_adjusted_gross\": 7829877.0}, {\"movie_title\": \"Playing God\", \"release_date\": \"1997-10-17T00:00:00\", \"genre\": \"Thriller/Suspense\", \"inflation_adjusted_gross\": 7652965.0}, {\"movie_title\": \"Mumford\", \"release_date\": \"1999-09-24T00:00:00\", \"genre\": \"Comedy\", \"inflation_adjusted_gross\": 7566363.0}, {\"movie_title\": \"Bubble Boy\", \"release_date\": \"2001-08-24T00:00:00\", \"genre\": \"Comedy\", \"inflation_adjusted_gross\": 7450434.0}, {\"movie_title\": \"Duets\", \"release_date\": \"2000-09-15T00:00:00\", \"genre\": \"Drama\", \"inflation_adjusted_gross\": 7404372.0}, {\"movie_title\": \"Cabin Boy\", \"release_date\": \"1994-01-07T00:00:00\", \"genre\": \"Comedy\", \"inflation_adjusted_gross\": 7168577.0}, {\"movie_title\": \"Just Visiting\", \"release_date\": \"2001-04-06T00:00:00\", \"genre\": \"Comedy\", \"inflation_adjusted_gross\": 7114869.0}, {\"movie_title\": \"A Simple Twist of Fate\", \"release_date\": \"1994-09-02T00:00:00\", \"genre\": \"Drama\", \"inflation_adjusted_gross\": 7035189.0}, {\"movie_title\": \"Squanto: A Warrior's Tale\", \"release_date\": \"1994-10-28T00:00:00\", \"genre\": \"Drama\", \"inflation_adjusted_gross\": 6858345.0}, {\"movie_title\": \"Bad Company\", \"release_date\": \"1995-01-20T00:00:00\", \"genre\": \"Thriller/Suspense\", \"inflation_adjusted_gross\": 6829092.0}, {\"movie_title\": \"Hauru no ugoku shiro\", \"release_date\": \"2005-06-10T00:00:00\", \"genre\": \"Adventure\", \"inflation_adjusted_gross\": 6194870.0}, {\"movie_title\": \"ESPN's Ultimate X - The Movie\", \"release_date\": \"2002-05-10T00:00:00\", \"genre\": \"Documentary\", \"inflation_adjusted_gross\": 6089874.0}, {\"movie_title\": \"Blame it on the Bellboy\", \"release_date\": \"1992-03-06T00:00:00\", \"genre\": \"Comedy\", \"inflation_adjusted_gross\": 5872667.0}, {\"movie_title\": \"The Lookout\", \"release_date\": \"2007-03-30T00:00:00\", \"genre\": \"Drama\", \"inflation_adjusted_gross\": 5637048.0}, {\"movie_title\": \"Goal! The Dream Begins\", \"release_date\": \"2006-05-12T00:00:00\", \"genre\": \"Drama\", \"inflation_adjusted_gross\": 5512647.0}, {\"movie_title\": \"Kaze Tachinu\", \"release_date\": \"2013-11-08T00:00:00\", \"genre\": \"Drama\", \"inflation_adjusted_gross\": 5367415.0}, {\"movie_title\": \"Jefferson in Paris\", \"release_date\": \"1995-03-31T00:00:00\", \"genre\": \"Drama\", \"inflation_adjusted_gross\": 4770461.0}, {\"movie_title\": \"Noises Off...\", \"release_date\": \"1992-03-20T00:00:00\", \"genre\": \"Comedy\", \"inflation_adjusted_gross\": 4631720.0}, {\"movie_title\": \"Cradle Will Rock\", \"release_date\": \"1999-12-08T00:00:00\", \"genre\": \"Drama\", \"inflation_adjusted_gross\": 4609153.0}, {\"movie_title\": \"Shadow Conspiracy\", \"release_date\": \"1997-01-31T00:00:00\", \"genre\": \"Thriller/Suspense\", \"inflation_adjusted_gross\": 3957025.0}, {\"movie_title\": \"The Fifth Estate\", \"release_date\": \"2013-10-18T00:00:00\", \"genre\": \"Drama\", \"inflation_adjusted_gross\": 3374251.0}, {\"movie_title\": \"Washington Square\", \"release_date\": \"1997-10-05T00:00:00\", \"genre\": \"Drama\", \"inflation_adjusted_gross\": 3257546.0}, {\"movie_title\": \"Running Brave\", \"release_date\": \"1983-11-04T00:00:00\", \"genre\": \"Drama\", \"inflation_adjusted_gross\": 3223725.0}, {\"movie_title\": \"Gun Shy\", \"release_date\": \"2000-02-04T00:00:00\", \"genre\": \"Comedy\", \"inflation_adjusted_gross\": 2562155.0}, {\"movie_title\": \"Where the Heart Is\", \"release_date\": \"1990-02-23T00:00:00\", \"genre\": \"Comedy\", \"inflation_adjusted_gross\": 2210321.0}, {\"movie_title\": \"Veronica Guerin\", \"release_date\": \"2003-10-17T00:00:00\", \"genre\": \"Drama\", \"inflation_adjusted_gross\": 2194759.0}, {\"movie_title\": \"Money for Nothing\", \"release_date\": \"1993-09-10T00:00:00\", \"genre\": \"Comedy\", \"inflation_adjusted_gross\": 2127496.0}, {\"movie_title\": \"Two Much\", \"release_date\": \"1996-03-15T00:00:00\", \"genre\": \"Romantic Comedy\", \"inflation_adjusted_gross\": 2057055.0}, {\"movie_title\": \"Un indien dans la ville\", \"release_date\": \"1996-03-22T00:00:00\", \"genre\": \"Comedy\", \"inflation_adjusted_gross\": 1963937.0}, {\"movie_title\": \"X Games 3D: The Movie\", \"release_date\": \"2009-08-21T00:00:00\", \"genre\": \"Documentary\", \"inflation_adjusted_gross\": 1563976.0}, {\"movie_title\": \"Holy Matrimony\", \"release_date\": \"1994-04-08T00:00:00\", \"genre\": \"Comedy\", \"inflation_adjusted_gross\": 1473665.0}, {\"movie_title\": \"Firelight\", \"release_date\": \"1998-09-04T00:00:00\", \"genre\": \"Drama\", \"inflation_adjusted_gross\": 1409943.0}, {\"movie_title\": \"Prefontaine\", \"release_date\": \"1997-01-24T00:00:00\", \"genre\": \"Drama\", \"inflation_adjusted_gross\": 1085093.0}, {\"movie_title\": \"Funny Bones\", \"release_date\": \"1995-03-31T00:00:00\", \"genre\": \"Comedy\", \"inflation_adjusted_gross\": 1025425.0}, {\"movie_title\": \"A Pyromaniac's Love Story\", \"release_date\": \"1995-03-28T00:00:00\", \"genre\": \"Romantic Comedy\", \"inflation_adjusted_gross\": 907414.0}, {\"movie_title\": \"The Last Shot\", \"release_date\": \"2004-09-24T00:00:00\", \"genre\": \"Comedy\", \"inflation_adjusted_gross\": 629502.0}, {\"movie_title\": \"Feast of July\", \"release_date\": \"1995-10-13T00:00:00\", \"genre\": \"Drama\", \"inflation_adjusted_gross\": 568342.0}, {\"movie_title\": \"America's Heart and Soul\", \"release_date\": \"2004-07-02T00:00:00\", \"genre\": \"Documentary\", \"inflation_adjusted_gross\": 426246.0}, {\"movie_title\": \"Morning Light\", \"release_date\": \"2008-10-17T00:00:00\", \"genre\": \"Documentary\", \"inflation_adjusted_gross\": 322979.0}, {\"movie_title\": \"Breakfast of Champions\", \"release_date\": \"1999-09-17T00:00:00\", \"genre\": \"Comedy\", \"inflation_adjusted_gross\": 295851.0}, {\"movie_title\": \"Goal! 2: Living the Dream...\", \"release_date\": \"2008-08-29T00:00:00\", \"genre\": \"Drama\", \"inflation_adjusted_gross\": 264247.0}, {\"movie_title\": \"It's Pat\", \"release_date\": \"1994-08-26T00:00:00\", \"genre\": \"Comedy\", \"inflation_adjusted_gross\": 125666.0}, {\"movie_title\": \"Waking Sleeping Beauty\", \"release_date\": \"2010-03-26T00:00:00\", \"genre\": \"Documentary\", \"inflation_adjusted_gross\": 86264.0}, {\"movie_title\": \"An Alan Smithee Film: Burn Hollywood \\u2026\", \"release_date\": \"1998-02-27T00:00:00\", \"genre\": \"Comedy\", \"inflation_adjusted_gross\": 82277.0}, {\"movie_title\": \"Gedo Senki (Tales from Earthsea)\", \"release_date\": \"2010-08-13T00:00:00\", \"genre\": \"Adventure\", \"inflation_adjusted_gross\": 51988.0}, {\"movie_title\": \"Walt and El Grupo\", \"release_date\": \"2009-09-10T00:00:00\", \"genre\": \"Documentary\", \"inflation_adjusted_gross\": 23064.0}, {\"movie_title\": \"Zokkomon\", \"release_date\": \"2011-04-22T00:00:00\", \"genre\": \"Adventure\", \"inflation_adjusted_gross\": 2984.0}, {\"movie_title\": \"Amy\", \"release_date\": \"1981-03-20T00:00:00\", \"genre\": \"Drama\", \"inflation_adjusted_gross\": 0.0}, {\"movie_title\": \"Condorman\", \"release_date\": \"1981-08-07T00:00:00\", \"genre\": \"Action\", \"inflation_adjusted_gross\": 0.0}]}}, {\"mode\": \"vega-lite\"});\n",
       "</script>"
      ],
      "text/plain": [
       "alt.Chart(...)"
      ]
     },
     "execution_count": 37,
     "metadata": {},
     "output_type": "execute_result"
    }
   ],
   "source": [
    "genre_gross_scatter = (\n",
    "    (\n",
    "        alt.Chart(genre_gross)\n",
    "        .mark_circle(opacity=0.3)\n",
    "        .encode(\n",
    "            x=alt.X(\"release_date:T\", title=\"Movie Release Date\"),\n",
    "            y=alt.Y(\n",
    "                \"inflation_adjusted_gross:Q\",\n",
    "                title=\"Inflation-Adjusted Gross Revenue (USD)\",\n",
    "            ),\n",
    "        )\n",
    "    )\n",
    "    .properties(\n",
    "        title=\"Figure 2: Inflation-Adjusted Gross Revenue of Movies by Year\",\n",
    "        width=500,\n",
    "        height=300,\n",
    "    )\n",
    "    .configure_axis(labelFontSize=12, titleFontSize=12)\n",
    ")\n",
    "genre_gross_scatter\n"
   ]
  },
  {
   "cell_type": "markdown",
   "metadata": {},
   "source": [
    "It appears that movies with earlier release dates have  considerably higer inflation-adjusted gross revenue on average. Whether these outliers are real or due to an experimental/calculation error is unknown as the method for obtaining the inflation-adjusted gross revenue was not detailed by the authors of the data. In researching the movie with the highest inflation-adjusted gross revenue, *Snow White and the Seven Dwarfs*, we discovered that the total box office gross revenue for this movie is in fact 184.93 M as our dataset reports, however, this is the combined total for the years 1937, 1983, 1987 and 1993 (“Snow White and the Seven Dwarfs”). If the authors of the dataset assumed that this total was achieved exclusively in 1937, this woud cause an error in the inflation-adjusted gross revenue calculation. To avoid these outliers from skewing our data, let's focus on the years 1980 - 2016 where a majority of the data is present and appears consistent. It is less likely that these values are problematic as the more recent a movie is, the less likely it is to have been re-released, and if it has, any miscalculation of inflation-adjusted gross due to revenue being attributed to the incorrect year would be less severe."
   ]
  },
  {
   "cell_type": "code",
   "execution_count": 38,
   "metadata": {},
   "outputs": [
    {
     "data": {
      "text/html": [
       "<div>\n",
       "<style scoped>\n",
       "    .dataframe tbody tr th:only-of-type {\n",
       "        vertical-align: middle;\n",
       "    }\n",
       "\n",
       "    .dataframe tbody tr th {\n",
       "        vertical-align: top;\n",
       "    }\n",
       "\n",
       "    .dataframe thead th {\n",
       "        text-align: right;\n",
       "    }\n",
       "</style>\n",
       "<table border=\"1\" class=\"dataframe\">\n",
       "  <thead>\n",
       "    <tr style=\"text-align: right;\">\n",
       "      <th></th>\n",
       "      <th>genre</th>\n",
       "      <th>inflation_adjusted_gross_M</th>\n",
       "    </tr>\n",
       "  </thead>\n",
       "  <tbody>\n",
       "    <tr>\n",
       "      <th>0</th>\n",
       "      <td>Adventure</td>\n",
       "      <td>164.94</td>\n",
       "    </tr>\n",
       "    <tr>\n",
       "      <th>1</th>\n",
       "      <td>Action</td>\n",
       "      <td>137.47</td>\n",
       "    </tr>\n",
       "    <tr>\n",
       "      <th>2</th>\n",
       "      <td>Musical</td>\n",
       "      <td>98.06</td>\n",
       "    </tr>\n",
       "    <tr>\n",
       "      <th>3</th>\n",
       "      <td>Thriller/Suspense</td>\n",
       "      <td>89.65</td>\n",
       "    </tr>\n",
       "    <tr>\n",
       "      <th>4</th>\n",
       "      <td>Romantic Comedy</td>\n",
       "      <td>77.78</td>\n",
       "    </tr>\n",
       "    <tr>\n",
       "      <th>5</th>\n",
       "      <td>Comedy</td>\n",
       "      <td>75.19</td>\n",
       "    </tr>\n",
       "    <tr>\n",
       "      <th>6</th>\n",
       "      <td>Western</td>\n",
       "      <td>73.82</td>\n",
       "    </tr>\n",
       "    <tr>\n",
       "      <th>7</th>\n",
       "      <td>Concert/Performance</td>\n",
       "      <td>57.41</td>\n",
       "    </tr>\n",
       "    <tr>\n",
       "      <th>8</th>\n",
       "      <td>Drama</td>\n",
       "      <td>54.21</td>\n",
       "    </tr>\n",
       "    <tr>\n",
       "      <th>9</th>\n",
       "      <td>Black Comedy</td>\n",
       "      <td>52.24</td>\n",
       "    </tr>\n",
       "    <tr>\n",
       "      <th>10</th>\n",
       "      <td>Horror</td>\n",
       "      <td>23.41</td>\n",
       "    </tr>\n",
       "    <tr>\n",
       "      <th>11</th>\n",
       "      <td>Documentary</td>\n",
       "      <td>12.72</td>\n",
       "    </tr>\n",
       "  </tbody>\n",
       "</table>\n",
       "</div>"
      ],
      "text/plain": [
       "                  genre  inflation_adjusted_gross_M\n",
       "0             Adventure                      164.94\n",
       "1                Action                      137.47\n",
       "2               Musical                       98.06\n",
       "3     Thriller/Suspense                       89.65\n",
       "4       Romantic Comedy                       77.78\n",
       "5                Comedy                       75.19\n",
       "6               Western                       73.82\n",
       "7   Concert/Performance                       57.41\n",
       "8                 Drama                       54.21\n",
       "9          Black Comedy                       52.24\n",
       "10               Horror                       23.41\n",
       "11          Documentary                       12.72"
      ]
     },
     "execution_count": 38,
     "metadata": {},
     "output_type": "execute_result"
    }
   ],
   "source": [
    "genre_gross_mean = (\n",
    "    genre_gross[genre_gross[\"release_date\"].dt.year >= 1980]\n",
    "    .groupby(by=\"genre\")\n",
    "    .agg({\"inflation_adjusted_gross\": \"mean\"})\n",
    "    .sort_values(by=\"inflation_adjusted_gross\", ascending=False)\n",
    ").reset_index()\n",
    "\n",
    "# Convert to millions and round to 2 decimal places\n",
    "genre_gross_mean_M = genre_gross_mean.assign(\n",
    "    inflation_adjusted_gross_M=(\n",
    "        genre_gross_mean[\"inflation_adjusted_gross\"] / 1_000_000\n",
    "    ).round(2)\n",
    ").drop(columns=\"inflation_adjusted_gross\")\n",
    "\n",
    "genre_gross_mean_M"
   ]
  },
  {
   "cell_type": "markdown",
   "metadata": {},
   "source": [
    "From the table `genre_gross_mean_M`  above, we can see that the `Adventure` genre has the highest mean inflation-adjusted gross revenue for years 1980-2016 at 164.94 M, while the `Documentary` genre has the lowest at 12.72 M. Let's visualize this with a bar plot."
   ]
  },
  {
   "cell_type": "code",
   "execution_count": 39,
   "metadata": {},
   "outputs": [
    {
     "data": {
      "text/html": [
       "\n",
       "<div id=\"altair-viz-b135a0758c174277842164e00c95a760\"></div>\n",
       "<script type=\"text/javascript\">\n",
       "  (function(spec, embedOpt){\n",
       "    let outputDiv = document.currentScript.previousElementSibling;\n",
       "    if (outputDiv.id !== \"altair-viz-b135a0758c174277842164e00c95a760\") {\n",
       "      outputDiv = document.getElementById(\"altair-viz-b135a0758c174277842164e00c95a760\");\n",
       "    }\n",
       "    const paths = {\n",
       "      \"vega\": \"https://cdn.jsdelivr.net/npm//vega@5?noext\",\n",
       "      \"vega-lib\": \"https://cdn.jsdelivr.net/npm//vega-lib?noext\",\n",
       "      \"vega-lite\": \"https://cdn.jsdelivr.net/npm//vega-lite@4.8.1?noext\",\n",
       "      \"vega-embed\": \"https://cdn.jsdelivr.net/npm//vega-embed@6?noext\",\n",
       "    };\n",
       "\n",
       "    function loadScript(lib) {\n",
       "      return new Promise(function(resolve, reject) {\n",
       "        var s = document.createElement('script');\n",
       "        s.src = paths[lib];\n",
       "        s.async = true;\n",
       "        s.onload = () => resolve(paths[lib]);\n",
       "        s.onerror = () => reject(`Error loading script: ${paths[lib]}`);\n",
       "        document.getElementsByTagName(\"head\")[0].appendChild(s);\n",
       "      });\n",
       "    }\n",
       "\n",
       "    function showError(err) {\n",
       "      outputDiv.innerHTML = `<div class=\"error\" style=\"color:red;\">${err}</div>`;\n",
       "      throw err;\n",
       "    }\n",
       "\n",
       "    function displayChart(vegaEmbed) {\n",
       "      vegaEmbed(outputDiv, spec, embedOpt)\n",
       "        .catch(err => showError(`Javascript Error: ${err.message}<br>This usually means there's a typo in your chart specification. See the javascript console for the full traceback.`));\n",
       "    }\n",
       "\n",
       "    if(typeof define === \"function\" && define.amd) {\n",
       "      requirejs.config({paths});\n",
       "      require([\"vega-embed\"], displayChart, err => showError(`Error loading script: ${err.message}`));\n",
       "    } else if (typeof vegaEmbed === \"function\") {\n",
       "      displayChart(vegaEmbed);\n",
       "    } else {\n",
       "      loadScript(\"vega\")\n",
       "        .then(() => loadScript(\"vega-lite\"))\n",
       "        .then(() => loadScript(\"vega-embed\"))\n",
       "        .catch(showError)\n",
       "        .then(() => displayChart(vegaEmbed));\n",
       "    }\n",
       "  })({\"config\": {\"view\": {\"continuousWidth\": 400, \"continuousHeight\": 300}}, \"layer\": [{\"mark\": \"bar\", \"encoding\": {\"x\": {\"type\": \"nominal\", \"field\": \"genre\", \"sort\": \"-y\", \"title\": \"Movie Genre\"}, \"y\": {\"type\": \"quantitative\", \"field\": \"inflation_adjusted_gross_M\", \"title\": \"Mean Infation-Adjusted Gross Revenue (millions USD)\"}}, \"height\": 500, \"title\": \"Figure 3: Mean Inflation-Adjusted Gross Revenue by Genre\", \"width\": 500}, {\"mark\": {\"type\": \"text\", \"color\": \"white\", \"dy\": 15, \"size\": 12}, \"encoding\": {\"text\": {\"type\": \"quantitative\", \"field\": \"inflation_adjusted_gross_M\"}, \"x\": {\"type\": \"nominal\", \"field\": \"genre\", \"sort\": \"-y\", \"title\": \"Movie Genre\"}, \"y\": {\"type\": \"quantitative\", \"field\": \"inflation_adjusted_gross_M\"}}, \"height\": 500, \"title\": \"Figure 3: Mean Inflation-Adjusted Gross Revenue by Genre\", \"width\": 500}], \"data\": {\"name\": \"data-a70c60ca02f82c6d34b2f15de3a9036e\"}, \"$schema\": \"https://vega.github.io/schema/vega-lite/v4.8.1.json\", \"datasets\": {\"data-a70c60ca02f82c6d34b2f15de3a9036e\": [{\"genre\": \"Adventure\", \"inflation_adjusted_gross_M\": 164.94}, {\"genre\": \"Action\", \"inflation_adjusted_gross_M\": 137.47}, {\"genre\": \"Musical\", \"inflation_adjusted_gross_M\": 98.06}, {\"genre\": \"Thriller/Suspense\", \"inflation_adjusted_gross_M\": 89.65}, {\"genre\": \"Romantic Comedy\", \"inflation_adjusted_gross_M\": 77.78}, {\"genre\": \"Comedy\", \"inflation_adjusted_gross_M\": 75.19}, {\"genre\": \"Western\", \"inflation_adjusted_gross_M\": 73.82}, {\"genre\": \"Concert/Performance\", \"inflation_adjusted_gross_M\": 57.41}, {\"genre\": \"Drama\", \"inflation_adjusted_gross_M\": 54.21}, {\"genre\": \"Black Comedy\", \"inflation_adjusted_gross_M\": 52.24}, {\"genre\": \"Horror\", \"inflation_adjusted_gross_M\": 23.41}, {\"genre\": \"Documentary\", \"inflation_adjusted_gross_M\": 12.72}]}}, {\"mode\": \"vega-lite\"});\n",
       "</script>"
      ],
      "text/plain": [
       "alt.LayerChart(...)"
      ]
     },
     "execution_count": 39,
     "metadata": {},
     "output_type": "execute_result"
    }
   ],
   "source": [
    "mean_bar_plot = (\n",
    "    alt.Chart(genre_gross_mean_M)\n",
    "    .mark_bar()\n",
    "    .encode(\n",
    "        x=alt.X(\"genre:N\", title=\"Movie Genre\", sort=\"-y\"),\n",
    "        y=alt.Y(\n",
    "            \"inflation_adjusted_gross_M:Q\",\n",
    "            title=\"Mean Infation-Adjusted Gross Revenue (millions USD)\",\n",
    "        )\n",
    "    )\n",
    "    .properties(\n",
    "        title=\"Figure 3: Mean Inflation-Adjusted Gross Revenue by Genre\",\n",
    "        width=500,\n",
    "        height=500,\n",
    "    )\n",
    ")\n",
    "\n",
    "mean_bar_plot_text = mean_bar_plot.mark_text(dy=15, size= 12, color = 'white', \n",
    ").encode(x=alt.X(\"genre:N\", title=\"Movie Genre\", sort=\"-y\"),\n",
    "        y=alt.Y(\n",
    "            \"inflation_adjusted_gross_M:Q\"),\n",
    "         text='inflation_adjusted_gross_M:Q'\n",
    ")\n",
    "\n",
    "mean_bar_plot + mean_bar_plot_text"
   ]
  },
  {
   "cell_type": "markdown",
   "metadata": {},
   "source": [
    "Let's find a director who has a proven track record in the `Adventure` genre for the target date range. We will first find a list of directors who have directed more than 1 Adventure movie between 1980 and 2016. We will then calculate the average inflation-adjusted gross revenue for the movies each director has directed in the target genre and timeframe, and determine which director has the highest average."
   ]
  },
  {
   "cell_type": "markdown",
   "metadata": {},
   "source": [
    "First, let's eliminate all the duplicate movie titles in the `Adventure` genre from the `genre_gross` dataframe i.e. the movie remakes. We are doing this to ensure that no movie is misattributed to a director, since the `director_clean` dataframe only specifies the title of the movie and not its release date."
   ]
  },
  {
   "cell_type": "code",
   "execution_count": 40,
   "metadata": {},
   "outputs": [
    {
     "data": {
      "text/plain": [
       "False    122\n",
       "True       2\n",
       "dtype: int64"
      ]
     },
     "execution_count": 40,
     "metadata": {},
     "output_type": "execute_result"
    }
   ],
   "source": [
    "adventure_titles = genre_gross[\n",
    "    (genre_gross[\"genre\"] == \"Adventure\")\n",
    "    & (genre_gross[\"release_date\"].dt.year >= 1980)\n",
    "]\n",
    "adventure_duplicate_titles_check = adventure_titles.duplicated(\n",
    "    subset=\"movie_title\", keep=False\n",
    ")\n",
    "adventure_duplicate_titles_check.value_counts()"
   ]
  },
  {
   "cell_type": "markdown",
   "metadata": {},
   "source": [
    "There are 2 duplicate values for `movie_title` in the Adventure genre of the `genre_gross` dataframe between 1980 and 2016. Let's eliminate these movies from the dataframe."
   ]
  },
  {
   "cell_type": "code",
   "execution_count": 41,
   "metadata": {},
   "outputs": [],
   "source": [
    "unique_adventure_titles = adventure_titles[~adventure_duplicate_titles_check]"
   ]
  },
  {
   "cell_type": "markdown",
   "metadata": {},
   "source": [
    "Next, we will merge the `unique_adventure_titles` dataframe with the `director_clean` dataframe to determine who directed each movie."
   ]
  },
  {
   "cell_type": "code",
   "execution_count": 42,
   "metadata": {},
   "outputs": [],
   "source": [
    "unique_adventure_titles_director = unique_adventure_titles.loc[\n",
    "    :, [\"movie_title\", \"inflation_adjusted_gross\"]\n",
    "].merge(\n",
    "    director_clean,\n",
    "    left_on=\"movie_title\",\n",
    "    right_on=\"movie_title\",\n",
    "    how=\"left\",\n",
    "    indicator=True,\n",
    ")\n",
    "unique_adventure_titles_director = unique_adventure_titles_director[\n",
    "    unique_adventure_titles_director[\"_merge\"] == \"both\"\n",
    "].drop(columns=\"_merge\")"
   ]
  },
  {
   "cell_type": "markdown",
   "metadata": {},
   "source": [
    "Now that we have attributed each unique adventure title to a director, let's group by director, find the average inflation-adjusted gross revenue for their movies in the targe genre and timeframe, then filter for those that have directed more than one movie. We will express our resulting inflation-adjusted gross revenue in millions."
   ]
  },
  {
   "cell_type": "code",
   "execution_count": 43,
   "metadata": {},
   "outputs": [
    {
     "data": {
      "text/html": [
       "<div>\n",
       "<style scoped>\n",
       "    .dataframe tbody tr th:only-of-type {\n",
       "        vertical-align: middle;\n",
       "    }\n",
       "\n",
       "    .dataframe tbody tr th {\n",
       "        vertical-align: top;\n",
       "    }\n",
       "\n",
       "    .dataframe thead th {\n",
       "        text-align: right;\n",
       "    }\n",
       "</style>\n",
       "<table border=\"1\" class=\"dataframe\">\n",
       "  <thead>\n",
       "    <tr style=\"text-align: right;\">\n",
       "      <th></th>\n",
       "      <th>director</th>\n",
       "      <th>movie_title</th>\n",
       "      <th>inflation_adjusted_gross_M</th>\n",
       "    </tr>\n",
       "  </thead>\n",
       "  <tbody>\n",
       "    <tr>\n",
       "      <th>0</th>\n",
       "      <td>Chris Buck</td>\n",
       "      <td>2</td>\n",
       "      <td>349.45</td>\n",
       "    </tr>\n",
       "    <tr>\n",
       "      <th>1</th>\n",
       "      <td>Mike Gabriel</td>\n",
       "      <td>2</td>\n",
       "      <td>165.08</td>\n",
       "    </tr>\n",
       "    <tr>\n",
       "      <th>2</th>\n",
       "      <td>Gary Trousdale</td>\n",
       "      <td>2</td>\n",
       "      <td>158.09</td>\n",
       "    </tr>\n",
       "    <tr>\n",
       "      <th>3</th>\n",
       "      <td>Mark Dindal</td>\n",
       "      <td>2</td>\n",
       "      <td>157.37</td>\n",
       "    </tr>\n",
       "    <tr>\n",
       "      <th>4</th>\n",
       "      <td>Ron Clements</td>\n",
       "      <td>6</td>\n",
       "      <td>146.16</td>\n",
       "    </tr>\n",
       "    <tr>\n",
       "      <th>5</th>\n",
       "      <td>Stephen J. Anderson</td>\n",
       "      <td>2</td>\n",
       "      <td>74.12</td>\n",
       "    </tr>\n",
       "  </tbody>\n",
       "</table>\n",
       "</div>"
      ],
      "text/plain": [
       "              director  movie_title  inflation_adjusted_gross_M\n",
       "0           Chris Buck            2                      349.45\n",
       "1         Mike Gabriel            2                      165.08\n",
       "2       Gary Trousdale            2                      158.09\n",
       "3          Mark Dindal            2                      157.37\n",
       "4         Ron Clements            6                      146.16\n",
       "5  Stephen J. Anderson            2                       74.12"
      ]
     },
     "execution_count": 43,
     "metadata": {},
     "output_type": "execute_result"
    }
   ],
   "source": [
    "adventure_director_average = unique_adventure_titles_director.groupby(\n",
    "    by=\"director\"\n",
    ").agg({\"movie_title\": \"count\", \"inflation_adjusted_gross\": \"mean\"})\n",
    "repeat_adventure_director_average = (\n",
    "    adventure_director_average[adventure_director_average[\"movie_title\"] > 1]\n",
    "    .sort_values(by=\"inflation_adjusted_gross\", ascending=False)\n",
    "    .reset_index()\n",
    ")\n",
    "repeat_adventure_director_average = repeat_adventure_director_average.assign(\n",
    "    inflation_adjusted_gross_M=(\n",
    "        repeat_adventure_director_average[\"inflation_adjusted_gross\"] / 1_000_000\n",
    "    ).round(2)\n",
    ").drop(columns=\"inflation_adjusted_gross\")\n",
    "repeat_adventure_director_average"
   ]
  },
  {
   "cell_type": "markdown",
   "metadata": {},
   "source": [
    "Let's visualize the average inflation-adjusted gross revenue for repeat adventure movie directors using a bar chart."
   ]
  },
  {
   "cell_type": "code",
   "execution_count": 44,
   "metadata": {},
   "outputs": [
    {
     "data": {
      "text/html": [
       "\n",
       "<div id=\"altair-viz-3b50cad9ed2646a99ebbca27fb89d0c7\"></div>\n",
       "<script type=\"text/javascript\">\n",
       "  (function(spec, embedOpt){\n",
       "    let outputDiv = document.currentScript.previousElementSibling;\n",
       "    if (outputDiv.id !== \"altair-viz-3b50cad9ed2646a99ebbca27fb89d0c7\") {\n",
       "      outputDiv = document.getElementById(\"altair-viz-3b50cad9ed2646a99ebbca27fb89d0c7\");\n",
       "    }\n",
       "    const paths = {\n",
       "      \"vega\": \"https://cdn.jsdelivr.net/npm//vega@5?noext\",\n",
       "      \"vega-lib\": \"https://cdn.jsdelivr.net/npm//vega-lib?noext\",\n",
       "      \"vega-lite\": \"https://cdn.jsdelivr.net/npm//vega-lite@4.8.1?noext\",\n",
       "      \"vega-embed\": \"https://cdn.jsdelivr.net/npm//vega-embed@6?noext\",\n",
       "    };\n",
       "\n",
       "    function loadScript(lib) {\n",
       "      return new Promise(function(resolve, reject) {\n",
       "        var s = document.createElement('script');\n",
       "        s.src = paths[lib];\n",
       "        s.async = true;\n",
       "        s.onload = () => resolve(paths[lib]);\n",
       "        s.onerror = () => reject(`Error loading script: ${paths[lib]}`);\n",
       "        document.getElementsByTagName(\"head\")[0].appendChild(s);\n",
       "      });\n",
       "    }\n",
       "\n",
       "    function showError(err) {\n",
       "      outputDiv.innerHTML = `<div class=\"error\" style=\"color:red;\">${err}</div>`;\n",
       "      throw err;\n",
       "    }\n",
       "\n",
       "    function displayChart(vegaEmbed) {\n",
       "      vegaEmbed(outputDiv, spec, embedOpt)\n",
       "        .catch(err => showError(`Javascript Error: ${err.message}<br>This usually means there's a typo in your chart specification. See the javascript console for the full traceback.`));\n",
       "    }\n",
       "\n",
       "    if(typeof define === \"function\" && define.amd) {\n",
       "      requirejs.config({paths});\n",
       "      require([\"vega-embed\"], displayChart, err => showError(`Error loading script: ${err.message}`));\n",
       "    } else if (typeof vegaEmbed === \"function\") {\n",
       "      displayChart(vegaEmbed);\n",
       "    } else {\n",
       "      loadScript(\"vega\")\n",
       "        .then(() => loadScript(\"vega-lite\"))\n",
       "        .then(() => loadScript(\"vega-embed\"))\n",
       "        .catch(showError)\n",
       "        .then(() => displayChart(vegaEmbed));\n",
       "    }\n",
       "  })({\"config\": {\"view\": {\"continuousWidth\": 400, \"continuousHeight\": 300}}, \"layer\": [{\"mark\": \"bar\", \"encoding\": {\"x\": {\"type\": \"nominal\", \"field\": \"director\", \"sort\": \"-y\", \"title\": \"Repeat Adventure Director\"}, \"y\": {\"type\": \"quantitative\", \"field\": \"inflation_adjusted_gross_M\", \"title\": \"Average Inflation-Adjusted Gross Revenue of Adventure Movies (millions USD)\"}}, \"height\": 500, \"title\": \"Figure 4: Average Inflation-Adjusted Gross Movie Revenue of Repeat Adventure Movie Directors\", \"width\": 500}, {\"mark\": {\"type\": \"text\", \"color\": \"white\", \"dy\": 15, \"size\": 12}, \"encoding\": {\"text\": {\"type\": \"quantitative\", \"field\": \"inflation_adjusted_gross_M\"}, \"x\": {\"type\": \"nominal\", \"field\": \"director\", \"sort\": \"-y\", \"title\": \"Repeat Adventure Director\"}, \"y\": {\"type\": \"quantitative\", \"field\": \"inflation_adjusted_gross_M\"}}, \"height\": 500, \"title\": \"Figure 4: Average Inflation-Adjusted Gross Movie Revenue of Repeat Adventure Movie Directors\", \"width\": 500}], \"data\": {\"name\": \"data-749bc00985e1373a0b65e155d528f699\"}, \"$schema\": \"https://vega.github.io/schema/vega-lite/v4.8.1.json\", \"datasets\": {\"data-749bc00985e1373a0b65e155d528f699\": [{\"director\": \"Chris Buck\", \"movie_title\": 2, \"inflation_adjusted_gross_M\": 349.45}, {\"director\": \"Mike Gabriel\", \"movie_title\": 2, \"inflation_adjusted_gross_M\": 165.08}, {\"director\": \"Gary Trousdale\", \"movie_title\": 2, \"inflation_adjusted_gross_M\": 158.09}, {\"director\": \"Mark Dindal\", \"movie_title\": 2, \"inflation_adjusted_gross_M\": 157.37}, {\"director\": \"Ron Clements\", \"movie_title\": 6, \"inflation_adjusted_gross_M\": 146.16}, {\"director\": \"Stephen J. Anderson\", \"movie_title\": 2, \"inflation_adjusted_gross_M\": 74.12}]}}, {\"mode\": \"vega-lite\"});\n",
       "</script>"
      ],
      "text/plain": [
       "alt.LayerChart(...)"
      ]
     },
     "execution_count": 44,
     "metadata": {},
     "output_type": "execute_result"
    }
   ],
   "source": [
    "repeat_adventure_director_average_chart = (\n",
    "    alt.Chart(repeat_adventure_director_average)\n",
    "    .mark_bar()\n",
    "    .encode(\n",
    "        x=alt.X(\"director:N\", title=\"Repeat Adventure Director\", sort=\"-y\"),\n",
    "        y=alt.Y(\n",
    "            \"inflation_adjusted_gross_M:Q\",\n",
    "            title=\"Average Inflation-Adjusted Gross Revenue of Adventure Movies (millions USD)\",\n",
    "        ),\n",
    "    )\n",
    "    .properties(\n",
    "        title=\"Figure 4: Average Inflation-Adjusted Gross Movie Revenue of Repeat Adventure Movie Directors\",\n",
    "        width=500,\n",
    "        height=500,\n",
    "    )\n",
    ")\n",
    "\n",
    "repeat_adventure_director_average_chart_text = (\n",
    "    repeat_adventure_director_average_chart.mark_text(\n",
    "        dy=15,\n",
    "        size=12,\n",
    "        color=\"white\",\n",
    "    ).encode(\n",
    "        x=alt.X(\"director:N\", title=\"Repeat Adventure Director\", sort=\"-y\"),\n",
    "        y=alt.Y(\"inflation_adjusted_gross_M:Q\"),\n",
    "        text=\"inflation_adjusted_gross_M:Q\",\n",
    "    )\n",
    ")\n",
    "\n",
    "repeat_adventure_director_average_chart + repeat_adventure_director_average_chart_text\n"
   ]
  },
  {
   "cell_type": "markdown",
   "metadata": {},
   "source": [
    "Based on the figure 4 above, director Chris Buck is the repeat adventure movie director whose adventure movies have had the highest average inflation-adjusted gross revenue at 349.45 M."
   ]
  },
  {
   "cell_type": "markdown",
   "metadata": {},
   "source": [
    "What actors has Chris Buck worked on Adventure movies with in the past and what types of roles did they play in these films? To determine this, we will filter the `unique_adventure_titles_director` dataframe to only contain Chris Buck directed movies and merge this dataframe with the `characters_clean` dataframe and then with the `voice_actors_clean` dataframe."
   ]
  },
  {
   "cell_type": "code",
   "execution_count": 45,
   "metadata": {},
   "outputs": [],
   "source": [
    "chris_buck_movie_characters = (\n",
    "    unique_adventure_titles_director[\n",
    "        unique_adventure_titles_director[\"director\"] == \"Chris Buck\"\n",
    "    ]\n",
    "    .loc[:, [\"movie_title\"]]\n",
    "    .merge(\n",
    "        characters_clean.loc[\n",
    "            :, [\"movie_title\", \"character_name\", \"character_type\"]\n",
    "        ],\n",
    "        left_on=\"movie_title\",\n",
    "        right_on=\"movie_title\",\n",
    "        how=\"left\",\n",
    "        indicator=True,\n",
    "    )\n",
    ")\n"
   ]
  },
  {
   "cell_type": "code",
   "execution_count": 46,
   "metadata": {},
   "outputs": [
    {
     "data": {
      "text/html": [
       "<div>\n",
       "<style scoped>\n",
       "    .dataframe tbody tr th:only-of-type {\n",
       "        vertical-align: middle;\n",
       "    }\n",
       "\n",
       "    .dataframe tbody tr th {\n",
       "        vertical-align: top;\n",
       "    }\n",
       "\n",
       "    .dataframe thead th {\n",
       "        text-align: right;\n",
       "    }\n",
       "</style>\n",
       "<table border=\"1\" class=\"dataframe\">\n",
       "  <thead>\n",
       "    <tr style=\"text-align: right;\">\n",
       "      <th></th>\n",
       "      <th>movie_title</th>\n",
       "      <th>character_name</th>\n",
       "      <th>character_type</th>\n",
       "      <th>voice_actor</th>\n",
       "    </tr>\n",
       "  </thead>\n",
       "  <tbody>\n",
       "    <tr>\n",
       "      <th>0</th>\n",
       "      <td>Frozen</td>\n",
       "      <td>Elsa</td>\n",
       "      <td>hero</td>\n",
       "      <td>Idina Menzel</td>\n",
       "    </tr>\n",
       "    <tr>\n",
       "      <th>1</th>\n",
       "      <td>Frozen</td>\n",
       "      <td>Prince Hans</td>\n",
       "      <td>villain</td>\n",
       "      <td>Santino Fontana</td>\n",
       "    </tr>\n",
       "    <tr>\n",
       "      <th>2</th>\n",
       "      <td>Tarzan</td>\n",
       "      <td>Tarzan</td>\n",
       "      <td>hero</td>\n",
       "      <td>Tony Goldwyn</td>\n",
       "    </tr>\n",
       "    <tr>\n",
       "      <th>3</th>\n",
       "      <td>Tarzan</td>\n",
       "      <td>Tarzan</td>\n",
       "      <td>hero</td>\n",
       "      <td>Alex D. Linz</td>\n",
       "    </tr>\n",
       "    <tr>\n",
       "      <th>4</th>\n",
       "      <td>Tarzan</td>\n",
       "      <td>Clayton</td>\n",
       "      <td>villain</td>\n",
       "      <td>Brian Blessed</td>\n",
       "    </tr>\n",
       "  </tbody>\n",
       "</table>\n",
       "</div>"
      ],
      "text/plain": [
       "  movie_title character_name character_type      voice_actor\n",
       "0      Frozen           Elsa           hero     Idina Menzel\n",
       "1      Frozen    Prince Hans        villain  Santino Fontana\n",
       "2      Tarzan         Tarzan           hero     Tony Goldwyn\n",
       "3      Tarzan         Tarzan           hero     Alex D. Linz\n",
       "4      Tarzan        Clayton        villain    Brian Blessed"
      ]
     },
     "execution_count": 46,
     "metadata": {},
     "output_type": "execute_result"
    }
   ],
   "source": [
    "chris_buck_movie_character_actors = chris_buck_movie_characters.merge(\n",
    "    voice_actors_clean,\n",
    "    left_on=[\"movie_title\", \"character_name\"],\n",
    "    right_on=[\"movie_title\", \"character_name\"],\n",
    "    how=\"left\",\n",
    "    indicator=\"_merge2\",\n",
    ")\n",
    "chris_buck_movie_character_actors = chris_buck_movie_character_actors.drop(\n",
    "    columns=[\"_merge\", \"_merge2\"]\n",
    ")\n",
    "chris_buck_movie_character_actors"
   ]
  },
  {
   "cell_type": "markdown",
   "metadata": {},
   "source": [
    "From the table `chris_buck_movie_character_actors` above, we can see that 5 different actors worked with Chris Buck on his two adventure movies Tarzan and Frozen. Three played the hero, and two played the villain. Below is a summary of Chris Buck's adventure films."
   ]
  },
  {
   "cell_type": "code",
   "execution_count": 47,
   "metadata": {},
   "outputs": [
    {
     "data": {
      "text/html": [
       "<div>\n",
       "<style scoped>\n",
       "    .dataframe tbody tr th:only-of-type {\n",
       "        vertical-align: middle;\n",
       "    }\n",
       "\n",
       "    .dataframe tbody tr th {\n",
       "        vertical-align: top;\n",
       "    }\n",
       "\n",
       "    .dataframe thead th {\n",
       "        text-align: right;\n",
       "    }\n",
       "</style>\n",
       "<table border=\"1\" class=\"dataframe\">\n",
       "  <thead>\n",
       "    <tr style=\"text-align: right;\">\n",
       "      <th></th>\n",
       "      <th>release_date</th>\n",
       "      <th>movie_title</th>\n",
       "      <th>genre</th>\n",
       "      <th>MPAA_rating</th>\n",
       "      <th>voice_actor</th>\n",
       "      <th>character_name</th>\n",
       "      <th>character_type</th>\n",
       "      <th>inflation_adjusted_gross_M</th>\n",
       "      <th>total_gross_M</th>\n",
       "    </tr>\n",
       "  </thead>\n",
       "  <tbody>\n",
       "    <tr>\n",
       "      <th>0</th>\n",
       "      <td>1999-06-16</td>\n",
       "      <td>Tarzan</td>\n",
       "      <td>Adventure</td>\n",
       "      <td>G</td>\n",
       "      <td>Tony Goldwyn</td>\n",
       "      <td>Tarzan</td>\n",
       "      <td>hero</td>\n",
       "      <td>283.9</td>\n",
       "      <td>171.09</td>\n",
       "    </tr>\n",
       "    <tr>\n",
       "      <th>1</th>\n",
       "      <td>1999-06-16</td>\n",
       "      <td>Tarzan</td>\n",
       "      <td>Adventure</td>\n",
       "      <td>G</td>\n",
       "      <td>Alex D. Linz</td>\n",
       "      <td>Tarzan</td>\n",
       "      <td>hero</td>\n",
       "      <td>283.9</td>\n",
       "      <td>171.09</td>\n",
       "    </tr>\n",
       "    <tr>\n",
       "      <th>2</th>\n",
       "      <td>1999-06-16</td>\n",
       "      <td>Tarzan</td>\n",
       "      <td>Adventure</td>\n",
       "      <td>G</td>\n",
       "      <td>Brian Blessed</td>\n",
       "      <td>Clayton</td>\n",
       "      <td>villain</td>\n",
       "      <td>283.9</td>\n",
       "      <td>171.09</td>\n",
       "    </tr>\n",
       "    <tr>\n",
       "      <th>3</th>\n",
       "      <td>2013-11-22</td>\n",
       "      <td>Frozen</td>\n",
       "      <td>Adventure</td>\n",
       "      <td>PG</td>\n",
       "      <td>Idina Menzel</td>\n",
       "      <td>Elsa</td>\n",
       "      <td>hero</td>\n",
       "      <td>415.0</td>\n",
       "      <td>400.74</td>\n",
       "    </tr>\n",
       "    <tr>\n",
       "      <th>4</th>\n",
       "      <td>2013-11-22</td>\n",
       "      <td>Frozen</td>\n",
       "      <td>Adventure</td>\n",
       "      <td>PG</td>\n",
       "      <td>Santino Fontana</td>\n",
       "      <td>Prince Hans</td>\n",
       "      <td>villain</td>\n",
       "      <td>415.0</td>\n",
       "      <td>400.74</td>\n",
       "    </tr>\n",
       "  </tbody>\n",
       "</table>\n",
       "</div>"
      ],
      "text/plain": [
       "  release_date movie_title      genre MPAA_rating      voice_actor  \\\n",
       "0   1999-06-16      Tarzan  Adventure           G     Tony Goldwyn   \n",
       "1   1999-06-16      Tarzan  Adventure           G     Alex D. Linz   \n",
       "2   1999-06-16      Tarzan  Adventure           G    Brian Blessed   \n",
       "3   2013-11-22      Frozen  Adventure          PG     Idina Menzel   \n",
       "4   2013-11-22      Frozen  Adventure          PG  Santino Fontana   \n",
       "\n",
       "  character_name character_type  inflation_adjusted_gross_M  total_gross_M  \n",
       "0         Tarzan           hero                       283.9         171.09  \n",
       "1         Tarzan           hero                       283.9         171.09  \n",
       "2        Clayton        villain                       283.9         171.09  \n",
       "3           Elsa           hero                       415.0         400.74  \n",
       "4    Prince Hans        villain                       415.0         400.74  "
      ]
     },
     "execution_count": 47,
     "metadata": {},
     "output_type": "execute_result"
    }
   ],
   "source": [
    "chris_buck_adventure_summary = chris_buck_movie_character_actors.merge(\n",
    "    movies_gross_clean.loc[\n",
    "        :,\n",
    "        [\n",
    "            \"movie_title\",\n",
    "            \"release_date\",\n",
    "            \"MPAA_rating\",\n",
    "            \"genre\",\n",
    "            \"total_gross\",\n",
    "            \"inflation_adjusted_gross\",\n",
    "        ],\n",
    "    ],\n",
    "    left_on=\"movie_title\",\n",
    "    right_on=\"movie_title\",\n",
    "    how=\"left\",\n",
    "    indicator=True,\n",
    ")\n",
    "chris_buck_adventure_summary = chris_buck_adventure_summary.loc[\n",
    "    :,\n",
    "    [\n",
    "        \"release_date\",\n",
    "        \"movie_title\",\n",
    "        \"genre\",\n",
    "        \"MPAA_rating\",\n",
    "        \"total_gross\",\n",
    "        \"inflation_adjusted_gross\",\n",
    "        \"voice_actor\",\n",
    "        \"character_name\",\n",
    "        \"character_type\",\n",
    "    ],\n",
    "].sort_values(by=\"release_date\")\n",
    "chris_buck_adventure_summary = (\n",
    "    chris_buck_adventure_summary.assign(\n",
    "        inflation_adjusted_gross_M=(\n",
    "            chris_buck_adventure_summary[\"inflation_adjusted_gross\"] / 1_000_000\n",
    "        ).round(2),\n",
    "        total_gross_M=(chris_buck_adventure_summary[\"total_gross\"] / 1_000_000).round(\n",
    "            2\n",
    "        ),\n",
    "    )\n",
    "    .drop(columns=[\"total_gross\", \"inflation_adjusted_gross\"])\n",
    "    .reset_index(drop=True)\n",
    ")\n",
    "chris_buck_adventure_summary\n"
   ]
  },
  {
   "cell_type": "markdown",
   "metadata": {},
   "source": [
    "## **Discussion**"
   ]
  },
  {
   "cell_type": "markdown",
   "metadata": {},
   "source": [
    "From our analysis, we determined that the `Adventure` genre has the highest mean inflation-adjusted gross revenue (164.94 M) between 1980 and 2016. This is contrary to our hypothesis that the `Musical` genre would be the best performer on average. In actuality, `Musical[s]` (98.06 M) ranked third in mean inflation-adjusted gross revenue behind `Adventure` and `Action` (137.47 M) but considerably higher than genres such as `Documentary` (12.72 M) and `Horror` (23.41 M). This could be due to the rise in popularity of the `Adventure` genre in recent decades. \n",
    "\n",
    "The director who has directed multiple movies in the `Adventure` genre with the highest average inflation-adjusted gross revenue for these movies is Chris Buck (349.45 M), the director of *Tarzan* (1999, 283.9 M) and *Frozen* (2013, 415.0 M) which was the highest grossing movie of 2013 (“2013 Worldwide Box Office”). Buck's average inflation-adjusted gross revenue in the `Adventure genre` is more than twice the average of the second place director, Mike Gabriel (165.08 M), who directed *Pocahontas* and *The Rescuers Down Under*.\n",
    "\n",
    "Buck worked with Tony Goldwyn (Tarzan, hero), Alex D. Linz (Tarzan, hero) and Brian Blessed (Clayton, villain) on *Tarzan* and Idina Menzel (Elsa, hero) and Santino Fontana (Prince Hans, villain) on *Frozen*.\n",
    "\n",
    "From these results, it would seem that up-and-coming actors would be best served by breaking into the `Adventure` genre. If an opportunity came up to work with Chris Buck, the movie could be a hit based off his past performance in the genre. Under this circumstance, it may be more financially advantageous to fight for a higher percentage on the box office revenue and be less focused on the initial payout. If the studio were offering a contract, it might be a good idea to get the same representation as Idina Menzel or Tony Goldwyn, as they have experience representing actors in successful movies within the Adventure genre directed by Chris Buck and would be aware of past deals. \n",
    "\n",
    "While Chris Buck is the top repeat director in the Adventure genre, do his movies have the highest inflation-adjusted gross revenue across all genres? If not, who does? Which director simultaneously had a huge hit, and a huge flop? (i.e. the greatest range in inflation-adjusted gross revenue). Who has starred most frequently in movies by Disney, and how much have these movies earned the studio? Such questions can be easily answered in future analyses of the cleaned Disney dataset.\n",
    "<hr>"
   ]
  },
  {
   "cell_type": "markdown",
   "metadata": {},
   "source": [
    "## **References**"
   ]
  },
  {
   "cell_type": "markdown",
   "metadata": {},
   "source": [
    "“2013 Worldwide Box Office.” Box Office Mojo, 2021, www.boxofficemojo.com/year/world/2013.\n",
    "\n",
    "BBC News. “Black Widow: Disney and Scarlett Johansson Settle Lawsuit.” BBC News, 1 Oct. 2021, www.bbc.com/news/business-58757748.\n",
    "\n",
    "BBC News. “Scarlett Johansson Sues Disney over Streaming of Black Widow.” BBC News, 30 July 2021, www.bbc.com/news/world-us-canada-58017445.\n",
    "\n",
    "“Disney Character Success - Dataset by Kgarrett.” Data.World, 15 Oct. 2021, [data.world/kgarrett/disney-character-success-00-16.](http://data.world/kgarrett/disney-character-success-00-16)\n",
    "\n",
    "“Snow White and the Seven Dwarfs.” Box Office Mojo, 2021, www.boxofficemojo.com/title/tt0029583/?ref_=bo_gr_ti.\n",
    "\n",
    "Wikipedia contributors. “The Walt Disney Company.” Wikipedia, 18 Oct. 2021, [en.wikipedia.org/wiki/The_Walt_Disney_Company.](http://en.wikipedia.org/wiki/The_Walt_Disney_Company)\n"
   ]
  },
  {
   "cell_type": "code",
   "execution_count": null,
   "metadata": {},
   "outputs": [],
   "source": []
  }
 ],
 "metadata": {
  "kernelspec": {
   "display_name": "Python 3",
   "language": "python",
   "name": "python3"
  },
  "language_info": {
   "codemirror_mode": {
    "name": "ipython",
    "version": 3
   },
   "file_extension": ".py",
   "mimetype": "text/x-python",
   "name": "python",
   "nbconvert_exporter": "python",
   "pygments_lexer": "ipython3",
   "version": "3.8.5"
  }
 },
 "nbformat": 4,
 "nbformat_minor": 4
}
